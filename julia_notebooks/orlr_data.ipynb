{
 "cells": [
  {
   "cell_type": "markdown",
   "metadata": {},
   "source": [
    "# OLR outgoing longwave radiation\n",
    "\n",
    "Information about olr\n",
    "\n",
    "https://www.ncdc.noaa.gov/teleconnections/enso/indicators/olr/\n",
    "\n",
    "https://en.wikipedia.org/wiki/Outgoing_longwave_radiation"
   ]
  },
  {
   "cell_type": "markdown",
   "metadata": {},
   "source": [
    "**This notebook will extract the olr data from the NetCDF file**\n",
    "\n",
    "I used panoply to get an understanding of the structure of the data when I was planning how to extract the data.  I understand that there are libraries available in other languages but I want to learn what is available in the Julia ecosystem."
   ]
  },
  {
   "cell_type": "code",
   "execution_count": 15,
   "metadata": {},
   "outputs": [],
   "source": [
    "using CSV\n",
    "using DataFrames\n",
    "using Dates\n",
    "using JuliaDB\n",
    "using NetCDF"
   ]
  },
  {
   "cell_type": "code",
   "execution_count": 2,
   "metadata": {},
   "outputs": [
    {
     "data": {
      "text/plain": [
       "21-element Array{String,1}:\n",
       " \"olr-daily_v01r02_19990101_19991231.nc\"\n",
       " \"olr-daily_v01r02_20000101_20001231.nc\"\n",
       " \"olr-daily_v01r02_20010101_20011231.nc\"\n",
       " \"olr-daily_v01r02_20020101_20021231.nc\"\n",
       " \"olr-daily_v01r02_20030101_20031231.nc\"\n",
       " \"olr-daily_v01r02_20040101_20041231.nc\"\n",
       " \"olr-daily_v01r02_20050101_20051231.nc\"\n",
       " \"olr-daily_v01r02_20060101_20061231.nc\"\n",
       " \"olr-daily_v01r02_20070101_20071231.nc\"\n",
       " \"olr-daily_v01r02_20080101_20081231.nc\"\n",
       " \"olr-daily_v01r02_20090101_20091231.nc\"\n",
       " \"olr-daily_v01r02_20100101_20101231.nc\"\n",
       " \"olr-daily_v01r02_20110101_20111231.nc\"\n",
       " \"olr-daily_v01r02_20120101_20121231.nc\"\n",
       " \"olr-daily_v01r02_20130101_20131231.nc\"\n",
       " \"olr-daily_v01r02_20140101_20141231.nc\"\n",
       " \"olr-daily_v01r02_20150101_20151231.nc\"\n",
       " \"olr-daily_v01r02_20160101_20161231.nc\"\n",
       " \"olr-daily_v01r02_20170101_20171231.nc\"\n",
       " \"olr-daily_v01r02_20180101_20181231.nc\"\n",
       " \"olr-daily_v01r02_20190101_20191231.nc\""
      ]
     },
     "execution_count": 2,
     "metadata": {},
     "output_type": "execute_result"
    }
   ],
   "source": [
    "olr_files = readdir(\"../olr_data/\")"
   ]
  },
  {
   "cell_type": "code",
   "execution_count": 3,
   "metadata": {},
   "outputs": [
    {
     "data": {
      "text/plain": [
       "\"olr-daily_v01r02_19990101_19991231.nc\""
      ]
     },
     "execution_count": 3,
     "metadata": {},
     "output_type": "execute_result"
    }
   ],
   "source": [
    "filename = olr_files[1]"
   ]
  },
  {
   "cell_type": "code",
   "execution_count": 66,
   "metadata": {},
   "outputs": [
    {
     "data": {
      "text/plain": [
       "get_olr (generic function with 1 method)"
      ]
     },
     "execution_count": 66,
     "metadata": {},
     "output_type": "execute_result"
    }
   ],
   "source": [
    "function get_olr(day)\n",
    "    depth = []\n",
    "    for i in range(1, stop=180, step=1)\n",
    "        for j in range(1, stop=360, step=1)\n",
    "            push!(depth, day[j,i])\n",
    "        end \n",
    "    end\n",
    "    return depth\n",
    "end"
   ]
  },
  {
   "cell_type": "code",
   "execution_count": 67,
   "metadata": {},
   "outputs": [
    {
     "data": {
      "text/plain": [
       "create_latitude (generic function with 1 method)"
      ]
     },
     "execution_count": 67,
     "metadata": {},
     "output_type": "execute_result"
    }
   ],
   "source": [
    "# used to create a latitude, to hold 2-hour-interval Tec map data\n",
    "function create_latitude(start, stop, step)\n",
    "#    print(\"Inside create_latitude function \\n\")\n",
    "    coordinates = []\n",
    "    for i in range(start, stop=stop, step=step)\n",
    "        for j in 1:360\n",
    "            push!(coordinates,i)\n",
    "        end\n",
    "    end\n",
    "    coordinates # Julia automatically returns the last statement\n",
    "end"
   ]
  },
  {
   "cell_type": "code",
   "execution_count": 68,
   "metadata": {},
   "outputs": [
    {
     "data": {
      "text/plain": [
       "64800-element Array{Any,1}:\n",
       " -90\n",
       " -90\n",
       " -90\n",
       " -90\n",
       " -90\n",
       " -90\n",
       " -90\n",
       " -90\n",
       " -90\n",
       " -90\n",
       " -90\n",
       " -90\n",
       " -90\n",
       "   ⋮\n",
       "  89\n",
       "  89\n",
       "  89\n",
       "  89\n",
       "  89\n",
       "  89\n",
       "  89\n",
       "  89\n",
       "  89\n",
       "  89\n",
       "  89\n",
       "  89"
      ]
     },
     "execution_count": 68,
     "metadata": {},
     "output_type": "execute_result"
    }
   ],
   "source": [
    " latitude = create_latitude(-90, 89, 1)"
   ]
  },
  {
   "cell_type": "code",
   "execution_count": 69,
   "metadata": {},
   "outputs": [
    {
     "data": {
      "text/plain": [
       "64800-element Array{Int64,1}:\n",
       " -180\n",
       " -179\n",
       " -178\n",
       " -177\n",
       " -176\n",
       " -175\n",
       " -174\n",
       " -173\n",
       " -172\n",
       " -171\n",
       " -170\n",
       " -169\n",
       " -168\n",
       "    ⋮\n",
       "  168\n",
       "  169\n",
       "  170\n",
       "  171\n",
       "  172\n",
       "  173\n",
       "  174\n",
       "  175\n",
       "  176\n",
       "  177\n",
       "  178\n",
       "  179"
      ]
     },
     "execution_count": 69,
     "metadata": {},
     "output_type": "execute_result"
    }
   ],
   "source": [
    "longitude = collect(Iterators.flatten([collect(-180:1:179) for i in 1:180])) "
   ]
  },
  {
   "cell_type": "code",
   "execution_count": 70,
   "metadata": {},
   "outputs": [
    {
     "data": {
      "text/plain": [
       "Disk Array with size 360 x 180 x 365\n"
      ]
     },
     "execution_count": 70,
     "metadata": {},
     "output_type": "execute_result"
    }
   ],
   "source": [
    "year_olr_data = NetCDF.open(string(\"../olr_data/\", filename), \"olr\")"
   ]
  },
  {
   "cell_type": "code",
   "execution_count": 71,
   "metadata": {},
   "outputs": [
    {
     "data": {
      "text/plain": [
       "360×180 Array{Float32,2}:\n",
       " 181.64  186.223  187.73   191.575  …  157.077  155.976  159.117  163.346\n",
       " 181.64  187.566  188.724  187.822     157.289  157.39   159.47   163.346\n",
       " 181.64  186.418  188.144  189.561     156.56   156.239  158.444  163.346\n",
       " 181.64  186.252  188.754  188.831     157.566  157.375  160.435  163.346\n",
       " 181.64  186.628  191.279  186.689     156.608  155.307  157.442  163.346\n",
       " 181.64  185.892  188.911  190.57   …  157.325  157.775  158.004  163.346\n",
       " 181.64  187.627  187.783  188.215     157.218  156.028  161.393  163.346\n",
       " 181.64  185.927  188.302  188.829     157.685  156.498  158.366  163.346\n",
       " 181.64  186.821  187.788  186.105     157.076  156.063  160.201  163.346\n",
       " 181.64  185.81   187.872  188.155     156.616  156.999  159.732  163.346\n",
       " 181.64  186.205  188.068  189.082  …  157.025  156.674  159.404  163.346\n",
       " 181.64  185.935  188.586  190.282     157.749  157.697  159.929  163.346\n",
       " 181.64  186.09   188.079  186.274     159.066  156.823  158.873  163.346\n",
       "   ⋮                                ⋱                             \n",
       " 181.64  188.461  190.293  194.067     158.182  156.008  158.692  163.346\n",
       " 181.64  186.794  192.687  191.009     158.925  156.068  160.57   163.346\n",
       " 181.64  185.586  189.296  192.611  …  157.515  156.827  158.024  163.346\n",
       " 181.64  185.463  189.169  191.937     156.532  157.852  159.716  163.346\n",
       " 181.64  187.334  189.103  193.893     158.197  155.965  159.901  163.346\n",
       " 181.64  182.091  188.807  192.677     156.79   155.648  158.259  163.346\n",
       " 181.64  185.806  188.624  192.398     157.546  156.02   158.001  163.346\n",
       " 181.64  186.759  189.019  190.233  …  156.779  156.526  158.812  163.346\n",
       " 181.64  186.908  188.938  190.476     156.751  155.812  159.835  163.346\n",
       " 181.64  186.749  189.723  191.956     158.021  155.56   157.426  163.346\n",
       " 181.64  186.537  187.777  191.008     158.147  156.375  157.297  163.346\n",
       " 181.64  186.29   189.787  191.46      156.877  155.879  158.65   163.346"
      ]
     },
     "execution_count": 71,
     "metadata": {},
     "output_type": "execute_result"
    }
   ],
   "source": [
    "day = year_olr_data[:,:,1]"
   ]
  },
  {
   "cell_type": "code",
   "execution_count": 72,
   "metadata": {},
   "outputs": [
    {
     "data": {
      "text/plain": [
       "64800-element Array{Any,1}:\n",
       " 181.63986f0\n",
       " 181.63986f0\n",
       " 181.63986f0\n",
       " 181.63986f0\n",
       " 181.63986f0\n",
       " 181.63986f0\n",
       " 181.63986f0\n",
       " 181.63986f0\n",
       " 181.63986f0\n",
       " 181.63986f0\n",
       " 181.63986f0\n",
       " 181.63986f0\n",
       " 181.63986f0\n",
       "   ⋮\n",
       " 163.34608f0\n",
       " 163.34608f0\n",
       " 163.34608f0\n",
       " 163.34608f0\n",
       " 163.34608f0\n",
       " 163.34608f0\n",
       " 163.34608f0\n",
       " 163.34608f0\n",
       " 163.34608f0\n",
       " 163.34608f0\n",
       " 163.34608f0\n",
       " 163.34608f0"
      ]
     },
     "execution_count": 72,
     "metadata": {},
     "output_type": "execute_result"
    }
   ],
   "source": [
    "olr = get_olr(day)"
   ]
  },
  {
   "cell_type": "code",
   "execution_count": 73,
   "metadata": {},
   "outputs": [
    {
     "data": {
      "text/plain": [
       "64800×3 Array{Any,2}:\n",
       " -90  -180  181.64\n",
       " -90  -179  181.64\n",
       " -90  -178  181.64\n",
       " -90  -177  181.64\n",
       " -90  -176  181.64\n",
       " -90  -175  181.64\n",
       " -90  -174  181.64\n",
       " -90  -173  181.64\n",
       " -90  -172  181.64\n",
       " -90  -171  181.64\n",
       " -90  -170  181.64\n",
       " -90  -169  181.64\n",
       " -90  -168  181.64\n",
       "   ⋮        \n",
       "  89   168  163.346\n",
       "  89   169  163.346\n",
       "  89   170  163.346\n",
       "  89   171  163.346\n",
       "  89   172  163.346\n",
       "  89   173  163.346\n",
       "  89   174  163.346\n",
       "  89   175  163.346\n",
       "  89   176  163.346\n",
       "  89   177  163.346\n",
       "  89   178  163.346\n",
       "  89   179  163.346"
      ]
     },
     "execution_count": 73,
     "metadata": {},
     "output_type": "execute_result"
    }
   ],
   "source": [
    "data = hcat(latitude, longitude, olr)"
   ]
  },
  {
   "cell_type": "code",
   "execution_count": 74,
   "metadata": {},
   "outputs": [
    {
     "data": {
      "text/plain": [
       "\"../olr_csv/test.csv\""
      ]
     },
     "execution_count": 74,
     "metadata": {},
     "output_type": "execute_result"
    }
   ],
   "source": [
    "CSV.write(\"../olr_csv/test.csv\", DataFrame(data), header=false)"
   ]
  },
  {
   "cell_type": "code",
   "execution_count": 75,
   "metadata": {},
   "outputs": [
    {
     "data": {
      "text/plain": [
       "64800-element Array{Any,1}:\n",
       " -90\n",
       " -90\n",
       " -90\n",
       " -90\n",
       " -90\n",
       " -90\n",
       " -90\n",
       " -90\n",
       " -90\n",
       " -90\n",
       " -90\n",
       " -90\n",
       " -90\n",
       "   ⋮\n",
       "  89\n",
       "  89\n",
       "  89\n",
       "  89\n",
       "  89\n",
       "  89\n",
       "  89\n",
       "  89\n",
       "  89\n",
       "  89\n",
       "  89\n",
       "  89"
      ]
     },
     "execution_count": 75,
     "metadata": {},
     "output_type": "execute_result"
    }
   ],
   "source": [
    "lat = create_latitude(-90, 89, 1)"
   ]
  },
  {
   "cell_type": "code",
   "execution_count": null,
   "metadata": {},
   "outputs": [],
   "source": []
  },
  {
   "cell_type": "code",
   "execution_count": null,
   "metadata": {},
   "outputs": [],
   "source": []
  },
  {
   "cell_type": "code",
   "execution_count": null,
   "metadata": {},
   "outputs": [],
   "source": []
  }
 ],
 "metadata": {
  "kernelspec": {
   "display_name": "Julia 1.4.2",
   "language": "julia",
   "name": "julia-1.4"
  },
  "language_info": {
   "file_extension": ".jl",
   "mimetype": "application/julia",
   "name": "julia",
   "version": "1.4.2"
  }
 },
 "nbformat": 4,
 "nbformat_minor": 4
}
