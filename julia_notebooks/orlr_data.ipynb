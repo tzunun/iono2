{
 "cells": [
  {
   "cell_type": "markdown",
   "metadata": {},
   "source": [
    "# OLR outgoing longwave radiation\n",
    "\n",
    "Information about olr\n",
    "\n",
    "https://www.ncdc.noaa.gov/teleconnections/enso/indicators/olr/\n",
    "\n",
    "https://en.wikipedia.org/wiki/Outgoing_longwave_radiation"
   ]
  },
  {
   "cell_type": "markdown",
   "metadata": {},
   "source": [
    "**This notebook will extract the olr data from the NetCDF file**\n",
    "\n",
    "I used panoply to get an understanding of the structure of the data when I was planning how to extract the data.  I understand that there are libraries available in other languages but I want to learn what is available in the Julia ecosystem."
   ]
  },
  {
   "cell_type": "code",
   "execution_count": null,
   "metadata": {},
   "outputs": [],
   "source": []
  }
 ],
 "metadata": {
  "kernelspec": {
   "display_name": "Julia 1.4.1",
   "language": "julia",
   "name": "julia-1.4"
  },
  "language_info": {
   "file_extension": ".jl",
   "mimetype": "application/julia",
   "name": "julia",
   "version": "1.4.1"
  }
 },
 "nbformat": 4,
 "nbformat_minor": 4
}
