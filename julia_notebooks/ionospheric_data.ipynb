{
 "cells": [
  {
   "cell_type": "code",
   "execution_count": null,
   "metadata": {},
   "outputs": [],
   "source": []
  },
  {
   "cell_type": "markdown",
   "metadata": {},
   "source": [
    "## Extract the data from the RINEX files. ##\n",
    "\n",
    "This notebook creates two files a csv file and JuliaDB table  from the information on the RINEX file that contains the ionospheric Total Electron Content data."
   ]
  },
  {
   "cell_type": "code",
   "execution_count": 1,
   "metadata": {},
   "outputs": [],
   "source": [
    "using CSV\n",
    "using Dates\n",
    "using IJulia"
   ]
  },
  {
   "cell_type": "code",
   "execution_count": 2,
   "metadata": {},
   "outputs": [
    {
     "data": {
      "text/plain": [
       "\"../tec_tables_esag/\""
      ]
     },
     "execution_count": 2,
     "metadata": {},
     "output_type": "execute_result"
    }
   ],
   "source": [
    "ionex_directory = \"../ionex_esag/\"\n",
    "tec_csv_directory = \"..tec_csv_esag/\"\n",
    "tec_table_directory = \"../tec_tables_esag/\"\n"
   ]
  },
  {
   "cell_type": "markdown",
   "metadata": {},
   "source": [
    "**Read the contents of the RINEX file**"
   ]
  },
  {
   "cell_type": "code",
   "execution_count": 5,
   "metadata": {},
   "outputs": [
    {
     "data": {
      "text/plain": [
       "read_file (generic function with 1 method)"
      ]
     },
     "execution_count": 5,
     "metadata": {},
     "output_type": "execute_result"
    }
   ],
   "source": [
    "# OPen the file and place its contents in an array name lines\n",
    "function read_file(ionex_file)\n",
    "    #print(\"Reading\", ionex_file, \"\\n\")\n",
    "    file = open(ionex_file);\n",
    "    lines = readlines(file)\n",
    "    close(file)\n",
    "    return lines  \n",
    "end"
   ]
  },
  {
   "cell_type": "code",
   "execution_count": 6,
   "metadata": {},
   "outputs": [
    {
     "data": {
      "text/plain": [
       "get_map_values (generic function with 1 method)"
      ]
     },
     "execution_count": 6,
     "metadata": {},
     "output_type": "execute_result"
    }
   ],
   "source": [
    "function get_map_values(lines)\n",
    "    # This function could be improved by reading only the TEC map portion of the file\n",
    "    #print(\"Inside get_map_values \\n\")\n",
    "    rms_map = 0  # Some files do not have a complete rms map \n",
    "    index = 0\n",
    "    tec_values = []   # Tec values per longitud, lat(-180,180)\n",
    "    tec = []          # All the tec values in a file\n",
    "    dates_array = []  # Store the different time stamps\n",
    "    \n",
    "    for line in lines\n",
    "        index += 1\n",
    "        \n",
    "        # Obtain time_stamp and tec values for every map (13 TEC maps in a file)\n",
    "        if occursin(r\"START OF TEC MAP\", line)\n",
    "            date_line = lines[index+1]\n",
    "            date_units = []\n",
    "            string = split(date_line)\n",
    "            \n",
    "            for x in 1:6\n",
    "                push!(date_units,parse(Int,string[x]))\n",
    "            end\n",
    "            \n",
    "            # Date units \n",
    "            year = date_units[1]\n",
    "            month = date_units[2]\n",
    "            day = date_units[3]\n",
    "            hour = date_units[4]\n",
    "            minutes = date_units[5]\n",
    "            seconds = date_units[6]\n",
    "            \n",
    "            # Map time_stamp for a period(2 hours)\n",
    "            time_stamp = DateTime(year, month, day, hour, minutes, seconds)\n",
    "            push!(dates_array, time_stamp)\n",
    "        end\n",
    "        \n",
    "        if occursin(r\"START OF RMS MAP\", line)\n",
    "            rms_map = 1\n",
    "            #print(\"RMS MAP reached!\\n\")\n",
    "            return dates_array, tec\n",
    "        end\n",
    "        \n",
    "        # Tec values per latitud in the longitud range (-180,180)\n",
    "        if occursin(r\"LAT/LON1/LON2/DLON/H\", line) && (rms_map == 0)\n",
    "            for x in 1:5\n",
    "                tec_values = split(lines[index + x])\n",
    "                for n in tec_values\n",
    "                    #if occursin(r\"^-?[0-9]*$\", n)\n",
    "                    if occursin(r\"^-?\\d*\\.{0,1}\\d+$\", n)\n",
    "                        push!(tec, n)\n",
    "                    else\n",
    "                        push!(tec, 0)\n",
    "                        print(\"Issue found in \", dates_array[1], n, \"\\n\")\n",
    "                    end\n",
    "                end\n",
    "            end\n",
    "        end\n",
    "        \n",
    "    end\n",
    "    return dates_array, tec\n",
    "end"
   ]
  },
  {
   "cell_type": "code",
   "execution_count": 7,
   "metadata": {},
   "outputs": [
    {
     "data": {
      "text/plain": [
       "create_latitud (generic function with 1 method)"
      ]
     },
     "execution_count": 7,
     "metadata": {},
     "output_type": "execute_result"
    }
   ],
   "source": [
    "# used to create a latitud, to hold 2-hour-interval Tec map data\n",
    "function create_latitud(start, stop, step)\n",
    "#    print(\"Inside create_latitud function \\n\")\n",
    "    coordinates = []\n",
    "    for i in range(start, stop=stop, step=step)\n",
    "        for j in 1:73\n",
    "            push!(coordinates,i)\n",
    "        end\n",
    "    end\n",
    "    coordinates # Julia automatically returns the last statement\n",
    "end\n",
    "    "
   ]
  },
  {
   "cell_type": "code",
   "execution_count": 8,
   "metadata": {},
   "outputs": [
    {
     "data": {
      "text/plain": [
       "get_coordinates (generic function with 1 method)"
      ]
     },
     "execution_count": 8,
     "metadata": {},
     "output_type": "execute_result"
    }
   ],
   "source": [
    "function get_coordinates()\n",
    "#    print(\"Inside get_coordinates\\n\")\n",
    "    latitud = create_latitud(87.5, -87.5, -2.5)\n",
    "    longitud = collect(Iterators.flatten([collect(-180:5:180) for i in 1:71])) # I Still don't grok this!\n",
    "    return latitud, longitud\n",
    "end"
   ]
  },
  {
   "cell_type": "code",
   "execution_count": 9,
   "metadata": {},
   "outputs": [
    {
     "data": {
      "text/plain": [
       "create_csv (generic function with 1 method)"
      ]
     },
     "execution_count": 9,
     "metadata": {},
     "output_type": "execute_result"
    }
   ],
   "source": [
    "# Create CSV for daily tec map data.\n",
    "function create_csv(directory, ionex_file)\n",
    "   # print(\"Inside create_csv\\n\")\n",
    "    lines = read_file(string(directory, ionex_file))\n",
    "    dates_array, tec = get_map_values(lines)\n",
    "    latitud, longitud = get_coordinates()\n",
    "    \n",
    "    csv_file = string(tec_csv_directory, ionex_file, \".csv\")\n",
    "    table_file = string(tec_table_directory, ionex_file, \"_table\")\n",
    "    \n",
    "    start = 1\n",
    "    map_tec_values = 5183  # Total tec values in a 2 hour map period\n",
    "    stop = map_tec_values\n",
    "    #print(\"Starting to arrange data for CSV\\n\")\n",
    "    for d in dates_array\n",
    "        #print(\"\\nStart \", start)\n",
    "        time_stamp = [d for i in 1:map_tec_values]\n",
    "        #print(\"Looking at TEC value\\n\")\n",
    "        tec_value = [parse(Int,value) for value in tec[start:stop]]\n",
    "        t = table((time_stamp=time_stamp, latitud=latitud, longitud=longitud, tec_value=tec_value); pkey = [:time_stamp, :latitud, :longitud, :tec_value])\n",
    "        \n",
    "        CSV.write(csv_file ,t, append=true)\n",
    "        JuliaDB.save(t, table_file)\n",
    "        \n",
    "        start += map_tec_values\n",
    "        stop += map_tec_values\n",
    "    end\n",
    "end\n"
   ]
  },
  {
   "cell_type": "code",
   "execution_count": 10,
   "metadata": {},
   "outputs": [
    {
     "data": {
      "text/plain": [
       "create_database (generic function with 1 method)"
      ]
     },
     "execution_count": 10,
     "metadata": {},
     "output_type": "execute_result"
    }
   ],
   "source": [
    "function create_database()\n",
    "    directory = ionex_directory\n",
    "    for f in files\n",
    "        if isfile(string(tec_csv_directory, f, \".csv\")) == false\n",
    "            print(\"Writting file:\", f, \"\\n\")\n",
    "            create_csv(directory, f)\n",
    "        end\n",
    "    end\n",
    "end"
   ]
  },
  {
   "cell_type": "code",
   "execution_count": 11,
   "metadata": {},
   "outputs": [
    {
     "name": "stdout",
     "output_type": "stream",
     "text": [
      "  0.018021 seconds (28.71 k allocations: 2.667 MiB)\n"
     ]
    }
   ],
   "source": [
    "# Read the contents of the directory in order to process the files to create the csv \n",
    "files = readdir(ionex_directory)\n",
    "@time create_database()"
   ]
  },
  {
   "cell_type": "markdown",
   "metadata": {},
   "source": [
    "\n"
   ]
  }
 ],
 "metadata": {
  "kernelspec": {
   "display_name": "Julia 1.4.1",
   "language": "julia",
   "name": "julia-1.4"
  },
  "language_info": {
   "file_extension": ".jl",
   "mimetype": "application/julia",
   "name": "julia",
   "version": "1.4.1"
  }
 },
 "nbformat": 4,
 "nbformat_minor": 4
}
