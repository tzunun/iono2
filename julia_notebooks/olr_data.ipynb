{
 "cells": [
  {
   "cell_type": "markdown",
   "metadata": {},
   "source": [
    "# OLR outgoing longwave radiation\n",
    "\n",
    "Information about olr\n",
    "\n",
    "https://www.ncdc.noaa.gov/teleconnections/enso/indicators/olr/\n",
    "\n",
    "https://en.wikipedia.org/wiki/Outgoing_longwave_radiation"
   ]
  },
  {
   "cell_type": "markdown",
   "metadata": {},
   "source": [
    "**This notebook will extract the olr data from the NetCDF file**\n",
    "\n",
    "I used panoply to get an understanding of the structure of the data when I was planning how to extract the data.  I understand that there are libraries available in other languages but I want to learn what is available in the Julia ecosystem."
   ]
  },
  {
   "cell_type": "code",
   "execution_count": 4,
   "metadata": {},
   "outputs": [],
   "source": [
    "using CSV\n",
    "using DataFrames\n",
    "using Dates\n",
    "using JuliaDB\n",
    "using NetCDF"
   ]
  },
  {
   "cell_type": "code",
   "execution_count": 39,
   "metadata": {},
   "outputs": [
    {
     "data": {
      "text/plain": [
       "extract_olr (generic function with 1 method)"
      ]
     },
     "execution_count": 39,
     "metadata": {},
     "output_type": "execute_result"
    }
   ],
   "source": [
    "function extract_olr(day)\n",
    "    depth = []\n",
    "    for i in range(1, stop=180, step=1)\n",
    "        for j in range(1, stop=360, step=1)\n",
    "            push!(depth, day[j,i])\n",
    "        end \n",
    "    end\n",
    "    return depth\n",
    "end"
   ]
  },
  {
   "cell_type": "code",
   "execution_count": 7,
   "metadata": {},
   "outputs": [
    {
     "data": {
      "text/plain": [
       "create_latitude (generic function with 1 method)"
      ]
     },
     "execution_count": 7,
     "metadata": {},
     "output_type": "execute_result"
    }
   ],
   "source": [
    "# used to create a latitude\n",
    "function create_latitude(start, stop, step)\n",
    "#    print(\"Inside create_latitude function \\n\")\n",
    "    coordinates = []\n",
    "    for i in range(start, stop=stop, step=step)\n",
    "        for j in 1:360\n",
    "            push!(coordinates,i)\n",
    "        end\n",
    "    end\n",
    "    return coordinates # Julia automatically returns the last statement\n",
    "end"
   ]
  },
  {
   "cell_type": "code",
   "execution_count": 22,
   "metadata": {},
   "outputs": [
    {
     "data": {
      "text/plain": [
       "create_longitude (generic function with 1 method)"
      ]
     },
     "execution_count": 22,
     "metadata": {},
     "output_type": "execute_result"
    }
   ],
   "source": [
    "# Longitude\n",
    "function create_longitude()\n",
    "    return collect(Iterators.flatten([collect(-180:1:179) for i in 1:180]))\n",
    "end"
   ]
  },
  {
   "cell_type": "markdown",
   "metadata": {},
   "source": [
    "## OLR NetCDF data files will be ETL.\n",
    "Extracted from NetCDF, transormed to and array that is then written as a CSV.\n",
    "\n",
    "**File name will be yyyy_day.csv**"
   ]
  },
  {
   "cell_type": "code",
   "execution_count": 40,
   "metadata": {},
   "outputs": [
    {
     "data": {
      "text/plain": [
       "create_daily_olr (generic function with 1 method)"
      ]
     },
     "execution_count": 40,
     "metadata": {},
     "output_type": "execute_result"
    }
   ],
   "source": [
    "function create_daily_olr(latitude, longitude, csv_file, daily_olr)\n",
    "    olr=extract_olr(daily_olr)\n",
    "    data = hcat(latitude, longitude, olr)\n",
    "    filename = string(\"../olr_csv/\", csv_file)\n",
    "    if !(isfile(filename))\n",
    "        CSV.write(filename, DataFrame(data), header=false)\n",
    "    end\n",
    "end"
   ]
  },
  {
   "cell_type": "code",
   "execution_count": 36,
   "metadata": {},
   "outputs": [
    {
     "data": {
      "text/plain": [
       "create_yearly_olr (generic function with 1 method)"
      ]
     },
     "execution_count": 36,
     "metadata": {},
     "output_type": "execute_result"
    }
   ],
   "source": [
    "function create_yearly_olr(latitude, longitude, file_year, olr_data)\n",
    "    days_in_year = length(olr_data[1,1,:])\n",
    "    for day in range(1,stop=days_in_year, step=1)\n",
    "        csv_file = string(file_year, \"_\", day, \".csv\")\n",
    "        create_daily_olr(latitude, longitude, csv_file, olr_data[:,:,day])\n",
    "    end\n",
    "end"
   ]
  },
  {
   "cell_type": "code",
   "execution_count": 37,
   "metadata": {},
   "outputs": [
    {
     "data": {
      "text/plain": [
       "transform_olr_data (generic function with 1 method)"
      ]
     },
     "execution_count": 37,
     "metadata": {},
     "output_type": "execute_result"
    }
   ],
   "source": [
    "function transform_olr_data()\n",
    "    olr_files = readdir(\"../olr_data/\")\n",
    "    latitude = create_latitude(-90, 89, 1)\n",
    "    longitude = create_longitude()\n",
    "    \n",
    "    for file in olr_files\n",
    "        file_year = file[18:21]\n",
    "        yearly_olr_data = NetCDF.open(string(\"../olr_data/\", file), \"olr\")\n",
    "        create_yearly_olr(latitude, longitude, file_year, yearly_olr_data)\n",
    "    end\n",
    "end"
   ]
  },
  {
   "cell_type": "code",
   "execution_count": 38,
   "metadata": {},
   "outputs": [
    {
     "name": "stdout",
     "output_type": "stream",
     "text": [
      " 17.295986 seconds (497.59 M allocations: 27.884 GiB, 11.60% gc time)\n"
     ]
    }
   ],
   "source": [
    "@time transform_olr_data()\n"
   ]
  },
  {
   "cell_type": "code",
   "execution_count": null,
   "metadata": {},
   "outputs": [],
   "source": []
  }
 ],
 "metadata": {
  "kernelspec": {
   "display_name": "Julia 1.4.2",
   "language": "julia",
   "name": "julia-1.4"
  },
  "language_info": {
   "file_extension": ".jl",
   "mimetype": "application/julia",
   "name": "julia",
   "version": "1.4.2"
  }
 },
 "nbformat": 4,
 "nbformat_minor": 4
}
