{
 "cells": [
  {
   "cell_type": "code",
   "execution_count": 18,
   "metadata": {},
   "outputs": [],
   "source": [
    "using HTTP\n",
    "using Dates\n",
    "using CSV\n",
    "using DataFrames\n",
    "using Geodesy\n",
    "using JSON"
   ]
  },
  {
   "cell_type": "code",
   "execution_count": 2,
   "metadata": {},
   "outputs": [],
   "source": [
    "#=\n",
    "    DarkSky API has 2 features: Forecast and Timemachine.  Timemachine allows you to obtain historical\n",
    "    weather data.\n",
    "    format\n",
    "        forecast_url = https://api.darksky.net/forecast/[key]/[latitude],[longitude]\n",
    "\n",
    "        timemachine_url = https://api.darksky.net/forecast/[key]/[latitude],[longitude],[time]\n",
    "            time is unix timestamp. \n",
    "\n",
    "=#\n",
    " #=\n",
    "    For historical data, the unix_timestamp would have to be an array spaning the time frame of the desired\n",
    "    historical data.\n",
    "\n",
    "    Data has to be saved into a CSV format\n",
    "=#\n",
    "#= \n",
    "    In order to work with the earthquake dates which are given in UTC in the following form\n",
    "    2018-12-29T03:39:09.740Z\n",
    "    The \"Z\" indicating Zulu? or UTC time has to be stripped from the string.  A complex example would be as follows:\n",
    "    round(Int, Dates.datetime2unix(DateTime(\"2018-12-29T03:39:09.740Z\")))\n",
    "    which should give the result \n",
    "    1546054750\n",
    "    which roughly translates to Dec 29, 2018 at 3:39am UTC\n",
    "=#\n",
    "#=\n",
    "    The object provided by the weather api for historical data, includes sunrise and sunset time and perhaps temperature \n",
    "    either at sunrise/sunset or an hour that is close to that time which would be called the terminator. Time.  The first\n",
    "    call to the api would give us the sunrise/sunset and that could be used to get the temperature for sunrise/sunset\n",
    "    for the previous days as well as previous years\n",
    "=#"
   ]
  },
  {
   "cell_type": "code",
   "execution_count": 3,
   "metadata": {},
   "outputs": [
    {
     "data": {
      "text/plain": [
       "\"/home/antonio/Repos/iono2/earthquakes_csv/1999_2017_eq79.csv\""
      ]
     },
     "execution_count": 3,
     "metadata": {},
     "output_type": "execute_result"
    }
   ],
   "source": [
    "earthquake_datetime = \"2000-01-08T16:47:20.580Z\"\n",
    "base_url = \"https://api.darksky.net/forecast\"\n",
    "filename = \"/home/antonio/Repos/iono2/earthquakes_csv/1999_2017_eq79.csv\""
   ]
  },
  {
   "cell_type": "code",
   "execution_count": 4,
   "metadata": {},
   "outputs": [
    {
     "data": {
      "text/html": [
       "<table class=\"data-frame\"><thead><tr><th></th><th>Column1</th><th>datetime</th><th>latitude</th><th>longitude</th><th>depth</th><th>magnitude</th></tr><tr><th></th><th>Int64</th><th>String</th><th>Float64</th><th>Float64</th><th>Float64</th><th>Float64</th></tr></thead><tbody><p>263 rows × 6 columns</p><tr><th>1</th><td>96</td><td>2000-01-08T16:47:20.580Z</td><td>-16.925</td><td>-174.248</td><td>183.4</td><td>7.2</td></tr><tr><th>2</th><td>571</td><td>2000-02-25T01:43:58.640Z</td><td>-19.528</td><td>173.818</td><td>33.0</td><td>7.1</td></tr><tr><th>3</th><td>891</td><td>2000-03-28T11:00:22.510Z</td><td>22.338</td><td>143.73</td><td>126.5</td><td>7.6</td></tr><tr><th>4</th><td>1149</td><td>2000-04-23T09:27:23.320Z</td><td>-28.307</td><td>-62.99</td><td>608.5</td><td>7.0</td></tr><tr><th>5</th><td>1297</td><td>2000-05-04T04:21:16.210Z</td><td>-1.105</td><td>123.573</td><td>26.0</td><td>7.6</td></tr><tr><th>6</th><td>1420</td><td>2000-05-12T18:43:18.120Z</td><td>-23.548</td><td>-66.452</td><td>225.0</td><td>7.2</td></tr><tr><th>7</th><td>1674</td><td>2000-06-04T16:28:26.170Z</td><td>-4.721</td><td>102.087</td><td>33.0</td><td>7.9</td></tr><tr><th>8</th><td>1997</td><td>2000-06-18T14:44:13.310Z</td><td>-13.802</td><td>97.453</td><td>10.0</td><td>7.9</td></tr><tr><th>9</th><td>2869</td><td>2000-08-06T07:27:12.900Z</td><td>28.856</td><td>139.556</td><td>394.8</td><td>7.4</td></tr><tr><th>10</th><td>3602</td><td>2000-10-04T16:58:44.310Z</td><td>-15.421</td><td>166.91</td><td>23.0</td><td>7.0</td></tr><tr><th>11</th><td>3885</td><td>2000-10-29T08:37:08.770Z</td><td>-4.766</td><td>153.945</td><td>50.0</td><td>7.0</td></tr><tr><th>12</th><td>4100</td><td>2000-11-16T04:54:56.740Z</td><td>-3.98</td><td>152.169</td><td>33.0</td><td>8.0</td></tr><tr><th>13</th><td>4128</td><td>2000-11-16T07:42:16.930Z</td><td>-5.233</td><td>153.102</td><td>30.0</td><td>7.8</td></tr><tr><th>14</th><td>4275</td><td>2000-11-17T21:01:56.490Z</td><td>-5.496</td><td>151.781</td><td>33.0</td><td>7.8</td></tr><tr><th>15</th><td>4694</td><td>2000-12-06T17:11:06.400Z</td><td>39.566</td><td>54.799</td><td>30.0</td><td>7.0</td></tr><tr><th>16</th><td>5025</td><td>2001-01-01T06:57:04.170Z</td><td>6.898</td><td>126.579</td><td>33.0</td><td>7.5</td></tr><tr><th>17</th><td>5135</td><td>2001-01-09T16:49:28.000Z</td><td>-14.928</td><td>167.17</td><td>103.0</td><td>7.1</td></tr><tr><th>18</th><td>5148</td><td>2001-01-10T16:02:44.230Z</td><td>57.078</td><td>-153.211</td><td>33.0</td><td>7.0</td></tr><tr><th>19</th><td>5176</td><td>2001-01-13T17:33:32.380Z</td><td>13.049</td><td>-88.66</td><td>60.0</td><td>7.7</td></tr><tr><th>20</th><td>5333</td><td>2001-01-26T03:16:40.500Z</td><td>23.419</td><td>70.232</td><td>16.0</td><td>7.7</td></tr><tr><th>21</th><td>5557</td><td>2001-02-13T19:28:30.260Z</td><td>-4.68</td><td>102.562</td><td>36.0</td><td>7.4</td></tr><tr><th>22</th><td>5702</td><td>2001-02-24T07:23:48.730Z</td><td>1.271</td><td>126.249</td><td>35.0</td><td>7.1</td></tr><tr><th>23</th><td>6863</td><td>2001-06-03T02:41:57.160Z</td><td>-29.666</td><td>-178.633</td><td>178.1</td><td>7.2</td></tr><tr><th>24</th><td>7116</td><td>2001-06-23T20:33:14.130Z</td><td>-16.265</td><td>-73.641</td><td>33.0</td><td>8.4</td></tr><tr><th>25</th><td>7439</td><td>2001-07-07T09:38:43.520Z</td><td>-17.543</td><td>-72.077</td><td>33.0</td><td>7.6</td></tr><tr><th>26</th><td>7979</td><td>2001-08-21T06:52:06.250Z</td><td>-36.813</td><td>-179.575</td><td>33.0</td><td>7.1</td></tr><tr><th>27</th><td>8703</td><td>2001-10-12T15:02:16.840Z</td><td>12.686</td><td>144.98</td><td>37.0</td><td>7.0</td></tr><tr><th>28</th><td>8777</td><td>2001-10-19T03:28:44.460Z</td><td>-4.102</td><td>123.907</td><td>33.0</td><td>7.5</td></tr><tr><th>29</th><td>8944</td><td>2001-10-31T09:10:20.000Z</td><td>-5.912</td><td>150.196</td><td>33.0</td><td>7.0</td></tr><tr><th>30</th><td>9122</td><td>2001-11-14T09:26:10.010Z</td><td>35.946</td><td>90.541</td><td>10.0</td><td>7.8</td></tr><tr><th>&vellip;</th><td>&vellip;</td><td>&vellip;</td><td>&vellip;</td><td>&vellip;</td><td>&vellip;</td><td>&vellip;</td></tr></tbody></table>"
      ],
      "text/latex": [
       "\\begin{tabular}{r|cccccc}\n",
       "\t& Column1 & datetime & latitude & longitude & depth & magnitude\\\\\n",
       "\t\\hline\n",
       "\t& Int64 & String & Float64 & Float64 & Float64 & Float64\\\\\n",
       "\t\\hline\n",
       "\t1 & 96 & 2000-01-08T16:47:20.580Z & -16.925 & -174.248 & 183.4 & 7.2 \\\\\n",
       "\t2 & 571 & 2000-02-25T01:43:58.640Z & -19.528 & 173.818 & 33.0 & 7.1 \\\\\n",
       "\t3 & 891 & 2000-03-28T11:00:22.510Z & 22.338 & 143.73 & 126.5 & 7.6 \\\\\n",
       "\t4 & 1149 & 2000-04-23T09:27:23.320Z & -28.307 & -62.99 & 608.5 & 7.0 \\\\\n",
       "\t5 & 1297 & 2000-05-04T04:21:16.210Z & -1.105 & 123.573 & 26.0 & 7.6 \\\\\n",
       "\t6 & 1420 & 2000-05-12T18:43:18.120Z & -23.548 & -66.452 & 225.0 & 7.2 \\\\\n",
       "\t7 & 1674 & 2000-06-04T16:28:26.170Z & -4.721 & 102.087 & 33.0 & 7.9 \\\\\n",
       "\t8 & 1997 & 2000-06-18T14:44:13.310Z & -13.802 & 97.453 & 10.0 & 7.9 \\\\\n",
       "\t9 & 2869 & 2000-08-06T07:27:12.900Z & 28.856 & 139.556 & 394.8 & 7.4 \\\\\n",
       "\t10 & 3602 & 2000-10-04T16:58:44.310Z & -15.421 & 166.91 & 23.0 & 7.0 \\\\\n",
       "\t11 & 3885 & 2000-10-29T08:37:08.770Z & -4.766 & 153.945 & 50.0 & 7.0 \\\\\n",
       "\t12 & 4100 & 2000-11-16T04:54:56.740Z & -3.98 & 152.169 & 33.0 & 8.0 \\\\\n",
       "\t13 & 4128 & 2000-11-16T07:42:16.930Z & -5.233 & 153.102 & 30.0 & 7.8 \\\\\n",
       "\t14 & 4275 & 2000-11-17T21:01:56.490Z & -5.496 & 151.781 & 33.0 & 7.8 \\\\\n",
       "\t15 & 4694 & 2000-12-06T17:11:06.400Z & 39.566 & 54.799 & 30.0 & 7.0 \\\\\n",
       "\t16 & 5025 & 2001-01-01T06:57:04.170Z & 6.898 & 126.579 & 33.0 & 7.5 \\\\\n",
       "\t17 & 5135 & 2001-01-09T16:49:28.000Z & -14.928 & 167.17 & 103.0 & 7.1 \\\\\n",
       "\t18 & 5148 & 2001-01-10T16:02:44.230Z & 57.078 & -153.211 & 33.0 & 7.0 \\\\\n",
       "\t19 & 5176 & 2001-01-13T17:33:32.380Z & 13.049 & -88.66 & 60.0 & 7.7 \\\\\n",
       "\t20 & 5333 & 2001-01-26T03:16:40.500Z & 23.419 & 70.232 & 16.0 & 7.7 \\\\\n",
       "\t21 & 5557 & 2001-02-13T19:28:30.260Z & -4.68 & 102.562 & 36.0 & 7.4 \\\\\n",
       "\t22 & 5702 & 2001-02-24T07:23:48.730Z & 1.271 & 126.249 & 35.0 & 7.1 \\\\\n",
       "\t23 & 6863 & 2001-06-03T02:41:57.160Z & -29.666 & -178.633 & 178.1 & 7.2 \\\\\n",
       "\t24 & 7116 & 2001-06-23T20:33:14.130Z & -16.265 & -73.641 & 33.0 & 8.4 \\\\\n",
       "\t25 & 7439 & 2001-07-07T09:38:43.520Z & -17.543 & -72.077 & 33.0 & 7.6 \\\\\n",
       "\t26 & 7979 & 2001-08-21T06:52:06.250Z & -36.813 & -179.575 & 33.0 & 7.1 \\\\\n",
       "\t27 & 8703 & 2001-10-12T15:02:16.840Z & 12.686 & 144.98 & 37.0 & 7.0 \\\\\n",
       "\t28 & 8777 & 2001-10-19T03:28:44.460Z & -4.102 & 123.907 & 33.0 & 7.5 \\\\\n",
       "\t29 & 8944 & 2001-10-31T09:10:20.000Z & -5.912 & 150.196 & 33.0 & 7.0 \\\\\n",
       "\t30 & 9122 & 2001-11-14T09:26:10.010Z & 35.946 & 90.541 & 10.0 & 7.8 \\\\\n",
       "\t$\\dots$ & $\\dots$ & $\\dots$ & $\\dots$ & $\\dots$ & $\\dots$ & $\\dots$ \\\\\n",
       "\\end{tabular}\n"
      ],
      "text/plain": [
       "263×6 DataFrame. Omitted printing of 1 columns\n",
       "│ Row │ Column1 │ datetime                 │ latitude │ longitude │ depth   │\n",
       "│     │ \u001b[90mInt64\u001b[39m   │ \u001b[90mString\u001b[39m                   │ \u001b[90mFloat64\u001b[39m  │ \u001b[90mFloat64\u001b[39m   │ \u001b[90mFloat64\u001b[39m │\n",
       "├─────┼─────────┼──────────────────────────┼──────────┼───────────┼─────────┤\n",
       "│ 1   │ 96      │ 2000-01-08T16:47:20.580Z │ -16.925  │ -174.248  │ 183.4   │\n",
       "│ 2   │ 571     │ 2000-02-25T01:43:58.640Z │ -19.528  │ 173.818   │ 33.0    │\n",
       "│ 3   │ 891     │ 2000-03-28T11:00:22.510Z │ 22.338   │ 143.73    │ 126.5   │\n",
       "│ 4   │ 1149    │ 2000-04-23T09:27:23.320Z │ -28.307  │ -62.99    │ 608.5   │\n",
       "│ 5   │ 1297    │ 2000-05-04T04:21:16.210Z │ -1.105   │ 123.573   │ 26.0    │\n",
       "│ 6   │ 1420    │ 2000-05-12T18:43:18.120Z │ -23.548  │ -66.452   │ 225.0   │\n",
       "│ 7   │ 1674    │ 2000-06-04T16:28:26.170Z │ -4.721   │ 102.087   │ 33.0    │\n",
       "│ 8   │ 1997    │ 2000-06-18T14:44:13.310Z │ -13.802  │ 97.453    │ 10.0    │\n",
       "│ 9   │ 2869    │ 2000-08-06T07:27:12.900Z │ 28.856   │ 139.556   │ 394.8   │\n",
       "│ 10  │ 3602    │ 2000-10-04T16:58:44.310Z │ -15.421  │ 166.91    │ 23.0    │\n",
       "⋮\n",
       "│ 253 │ 107307  │ 2016-11-13T11:02:56.340Z │ -42.7373 │ 173.054   │ 15.11   │\n",
       "│ 254 │ 107978  │ 2016-12-08T17:38:46.280Z │ -10.6812 │ 161.327   │ 40.0    │\n",
       "│ 255 │ 108286  │ 2016-12-17T10:51:10.500Z │ -4.5049  │ 153.522   │ 94.54   │\n",
       "│ 256 │ 108601  │ 2016-12-25T14:22:27.010Z │ -43.4064 │ -73.9413  │ 38.0    │\n",
       "│ 257 │ 108927  │ 2017-01-10T06:13:48.140Z │ 4.4782   │ 122.617   │ 627.17  │\n",
       "│ 258 │ 109134  │ 2017-01-22T04:30:22.960Z │ -6.2464  │ 155.172   │ 135.0   │\n",
       "│ 259 │ 111975  │ 2017-07-17T23:34:13.740Z │ 54.4434  │ 168.857   │ 10.0    │\n",
       "│ 260 │ 112791  │ 2017-09-08T04:49:19.180Z │ 15.0222  │ -93.8993  │ 47.39   │\n",
       "│ 261 │ 113078  │ 2017-09-19T18:14:38.090Z │ 18.5499  │ -98.4887  │ 48.0    │\n",
       "│ 262 │ 114101  │ 2017-11-12T18:18:17.180Z │ 34.9109  │ 45.9592   │ 19.0    │\n",
       "│ 263 │ 114340  │ 2017-11-19T22:43:29.250Z │ -21.3246 │ 168.672   │ 10.0    │"
      ]
     },
     "execution_count": 4,
     "metadata": {},
     "output_type": "execute_result"
    }
   ],
   "source": [
    "df = DataFrame(CSV.File(filename))"
   ]
  },
  {
   "cell_type": "code",
   "execution_count": 5,
   "metadata": {},
   "outputs": [
    {
     "name": "stderr",
     "output_type": "stream",
     "text": [
      "┌ Warning: `getindex(df::DataFrame, col_inds::Union{AbstractVector, Regex, Not})` is deprecated, use `df[:, col_inds]` instead.\n",
      "│   caller = top-level scope at In[5]:1\n",
      "└ @ Core In[5]:1\n"
     ]
    },
    {
     "data": {
      "text/html": [
       "<table class=\"data-frame\"><thead><tr><th></th><th>datetime</th><th>latitude</th><th>longitude</th></tr><tr><th></th><th>String</th><th>Float64</th><th>Float64</th></tr></thead><tbody><p>263 rows × 3 columns</p><tr><th>1</th><td>2000-01-08T16:47:20.580Z</td><td>-16.925</td><td>-174.248</td></tr><tr><th>2</th><td>2000-02-25T01:43:58.640Z</td><td>-19.528</td><td>173.818</td></tr><tr><th>3</th><td>2000-03-28T11:00:22.510Z</td><td>22.338</td><td>143.73</td></tr><tr><th>4</th><td>2000-04-23T09:27:23.320Z</td><td>-28.307</td><td>-62.99</td></tr><tr><th>5</th><td>2000-05-04T04:21:16.210Z</td><td>-1.105</td><td>123.573</td></tr><tr><th>6</th><td>2000-05-12T18:43:18.120Z</td><td>-23.548</td><td>-66.452</td></tr><tr><th>7</th><td>2000-06-04T16:28:26.170Z</td><td>-4.721</td><td>102.087</td></tr><tr><th>8</th><td>2000-06-18T14:44:13.310Z</td><td>-13.802</td><td>97.453</td></tr><tr><th>9</th><td>2000-08-06T07:27:12.900Z</td><td>28.856</td><td>139.556</td></tr><tr><th>10</th><td>2000-10-04T16:58:44.310Z</td><td>-15.421</td><td>166.91</td></tr><tr><th>11</th><td>2000-10-29T08:37:08.770Z</td><td>-4.766</td><td>153.945</td></tr><tr><th>12</th><td>2000-11-16T04:54:56.740Z</td><td>-3.98</td><td>152.169</td></tr><tr><th>13</th><td>2000-11-16T07:42:16.930Z</td><td>-5.233</td><td>153.102</td></tr><tr><th>14</th><td>2000-11-17T21:01:56.490Z</td><td>-5.496</td><td>151.781</td></tr><tr><th>15</th><td>2000-12-06T17:11:06.400Z</td><td>39.566</td><td>54.799</td></tr><tr><th>16</th><td>2001-01-01T06:57:04.170Z</td><td>6.898</td><td>126.579</td></tr><tr><th>17</th><td>2001-01-09T16:49:28.000Z</td><td>-14.928</td><td>167.17</td></tr><tr><th>18</th><td>2001-01-10T16:02:44.230Z</td><td>57.078</td><td>-153.211</td></tr><tr><th>19</th><td>2001-01-13T17:33:32.380Z</td><td>13.049</td><td>-88.66</td></tr><tr><th>20</th><td>2001-01-26T03:16:40.500Z</td><td>23.419</td><td>70.232</td></tr><tr><th>21</th><td>2001-02-13T19:28:30.260Z</td><td>-4.68</td><td>102.562</td></tr><tr><th>22</th><td>2001-02-24T07:23:48.730Z</td><td>1.271</td><td>126.249</td></tr><tr><th>23</th><td>2001-06-03T02:41:57.160Z</td><td>-29.666</td><td>-178.633</td></tr><tr><th>24</th><td>2001-06-23T20:33:14.130Z</td><td>-16.265</td><td>-73.641</td></tr><tr><th>25</th><td>2001-07-07T09:38:43.520Z</td><td>-17.543</td><td>-72.077</td></tr><tr><th>26</th><td>2001-08-21T06:52:06.250Z</td><td>-36.813</td><td>-179.575</td></tr><tr><th>27</th><td>2001-10-12T15:02:16.840Z</td><td>12.686</td><td>144.98</td></tr><tr><th>28</th><td>2001-10-19T03:28:44.460Z</td><td>-4.102</td><td>123.907</td></tr><tr><th>29</th><td>2001-10-31T09:10:20.000Z</td><td>-5.912</td><td>150.196</td></tr><tr><th>30</th><td>2001-11-14T09:26:10.010Z</td><td>35.946</td><td>90.541</td></tr><tr><th>&vellip;</th><td>&vellip;</td><td>&vellip;</td><td>&vellip;</td></tr></tbody></table>"
      ],
      "text/latex": [
       "\\begin{tabular}{r|ccc}\n",
       "\t& datetime & latitude & longitude\\\\\n",
       "\t\\hline\n",
       "\t& String & Float64 & Float64\\\\\n",
       "\t\\hline\n",
       "\t1 & 2000-01-08T16:47:20.580Z & -16.925 & -174.248 \\\\\n",
       "\t2 & 2000-02-25T01:43:58.640Z & -19.528 & 173.818 \\\\\n",
       "\t3 & 2000-03-28T11:00:22.510Z & 22.338 & 143.73 \\\\\n",
       "\t4 & 2000-04-23T09:27:23.320Z & -28.307 & -62.99 \\\\\n",
       "\t5 & 2000-05-04T04:21:16.210Z & -1.105 & 123.573 \\\\\n",
       "\t6 & 2000-05-12T18:43:18.120Z & -23.548 & -66.452 \\\\\n",
       "\t7 & 2000-06-04T16:28:26.170Z & -4.721 & 102.087 \\\\\n",
       "\t8 & 2000-06-18T14:44:13.310Z & -13.802 & 97.453 \\\\\n",
       "\t9 & 2000-08-06T07:27:12.900Z & 28.856 & 139.556 \\\\\n",
       "\t10 & 2000-10-04T16:58:44.310Z & -15.421 & 166.91 \\\\\n",
       "\t11 & 2000-10-29T08:37:08.770Z & -4.766 & 153.945 \\\\\n",
       "\t12 & 2000-11-16T04:54:56.740Z & -3.98 & 152.169 \\\\\n",
       "\t13 & 2000-11-16T07:42:16.930Z & -5.233 & 153.102 \\\\\n",
       "\t14 & 2000-11-17T21:01:56.490Z & -5.496 & 151.781 \\\\\n",
       "\t15 & 2000-12-06T17:11:06.400Z & 39.566 & 54.799 \\\\\n",
       "\t16 & 2001-01-01T06:57:04.170Z & 6.898 & 126.579 \\\\\n",
       "\t17 & 2001-01-09T16:49:28.000Z & -14.928 & 167.17 \\\\\n",
       "\t18 & 2001-01-10T16:02:44.230Z & 57.078 & -153.211 \\\\\n",
       "\t19 & 2001-01-13T17:33:32.380Z & 13.049 & -88.66 \\\\\n",
       "\t20 & 2001-01-26T03:16:40.500Z & 23.419 & 70.232 \\\\\n",
       "\t21 & 2001-02-13T19:28:30.260Z & -4.68 & 102.562 \\\\\n",
       "\t22 & 2001-02-24T07:23:48.730Z & 1.271 & 126.249 \\\\\n",
       "\t23 & 2001-06-03T02:41:57.160Z & -29.666 & -178.633 \\\\\n",
       "\t24 & 2001-06-23T20:33:14.130Z & -16.265 & -73.641 \\\\\n",
       "\t25 & 2001-07-07T09:38:43.520Z & -17.543 & -72.077 \\\\\n",
       "\t26 & 2001-08-21T06:52:06.250Z & -36.813 & -179.575 \\\\\n",
       "\t27 & 2001-10-12T15:02:16.840Z & 12.686 & 144.98 \\\\\n",
       "\t28 & 2001-10-19T03:28:44.460Z & -4.102 & 123.907 \\\\\n",
       "\t29 & 2001-10-31T09:10:20.000Z & -5.912 & 150.196 \\\\\n",
       "\t30 & 2001-11-14T09:26:10.010Z & 35.946 & 90.541 \\\\\n",
       "\t$\\dots$ & $\\dots$ & $\\dots$ & $\\dots$ \\\\\n",
       "\\end{tabular}\n"
      ],
      "text/plain": [
       "263×3 DataFrame\n",
       "│ Row │ datetime                 │ latitude │ longitude │\n",
       "│     │ \u001b[90mString\u001b[39m                   │ \u001b[90mFloat64\u001b[39m  │ \u001b[90mFloat64\u001b[39m   │\n",
       "├─────┼──────────────────────────┼──────────┼───────────┤\n",
       "│ 1   │ 2000-01-08T16:47:20.580Z │ -16.925  │ -174.248  │\n",
       "│ 2   │ 2000-02-25T01:43:58.640Z │ -19.528  │ 173.818   │\n",
       "│ 3   │ 2000-03-28T11:00:22.510Z │ 22.338   │ 143.73    │\n",
       "│ 4   │ 2000-04-23T09:27:23.320Z │ -28.307  │ -62.99    │\n",
       "│ 5   │ 2000-05-04T04:21:16.210Z │ -1.105   │ 123.573   │\n",
       "│ 6   │ 2000-05-12T18:43:18.120Z │ -23.548  │ -66.452   │\n",
       "│ 7   │ 2000-06-04T16:28:26.170Z │ -4.721   │ 102.087   │\n",
       "│ 8   │ 2000-06-18T14:44:13.310Z │ -13.802  │ 97.453    │\n",
       "│ 9   │ 2000-08-06T07:27:12.900Z │ 28.856   │ 139.556   │\n",
       "│ 10  │ 2000-10-04T16:58:44.310Z │ -15.421  │ 166.91    │\n",
       "⋮\n",
       "│ 253 │ 2016-11-13T11:02:56.340Z │ -42.7373 │ 173.054   │\n",
       "│ 254 │ 2016-12-08T17:38:46.280Z │ -10.6812 │ 161.327   │\n",
       "│ 255 │ 2016-12-17T10:51:10.500Z │ -4.5049  │ 153.522   │\n",
       "│ 256 │ 2016-12-25T14:22:27.010Z │ -43.4064 │ -73.9413  │\n",
       "│ 257 │ 2017-01-10T06:13:48.140Z │ 4.4782   │ 122.617   │\n",
       "│ 258 │ 2017-01-22T04:30:22.960Z │ -6.2464  │ 155.172   │\n",
       "│ 259 │ 2017-07-17T23:34:13.740Z │ 54.4434  │ 168.857   │\n",
       "│ 260 │ 2017-09-08T04:49:19.180Z │ 15.0222  │ -93.8993  │\n",
       "│ 261 │ 2017-09-19T18:14:38.090Z │ 18.5499  │ -98.4887  │\n",
       "│ 262 │ 2017-11-12T18:18:17.180Z │ 34.9109  │ 45.9592   │\n",
       "│ 263 │ 2017-11-19T22:43:29.250Z │ -21.3246 │ 168.672   │"
      ]
     },
     "execution_count": 5,
     "metadata": {},
     "output_type": "execute_result"
    }
   ],
   "source": [
    "df_eq = df[[\"datetime\", \"latitude\", \"longitude\"]]"
   ]
  },
  {
   "cell_type": "code",
   "execution_count": 6,
   "metadata": {},
   "outputs": [
    {
     "data": {
      "text/plain": [
       "read_apikey (generic function with 1 method)"
      ]
     },
     "execution_count": 6,
     "metadata": {},
     "output_type": "execute_result"
    }
   ],
   "source": [
    "function read_apikey(apikey_file)\n",
    "    key = open(apikey_file) do file\n",
    "          readlines(file)\n",
    "        end \n",
    "    return String(key[1])\n",
    "end"
   ]
  },
  {
   "cell_type": "code",
   "execution_count": 7,
   "metadata": {},
   "outputs": [
    {
     "name": "stdout",
     "output_type": "stream",
     "text": [
      "Done reading apikey!\n"
     ]
    }
   ],
   "source": [
    "apikey = read_apikey(\"/home/antonio/Repos/iono2/julia_scripts/darksky_api.txt\")\n",
    "println(\"Done reading apikey!\")"
   ]
  },
  {
   "cell_type": "code",
   "execution_count": 8,
   "metadata": {},
   "outputs": [
    {
     "data": {
      "text/plain": [
       "unix_time (generic function with 1 method)"
      ]
     },
     "execution_count": 8,
     "metadata": {},
     "output_type": "execute_result"
    }
   ],
   "source": [
    "function unix_time(earthquake_time)\n",
    "    eq_time = strip(earthquake_time, last(earthquake_time))\n",
    "    return round(Int, Dates.datetime2unix(DateTime(eq_time)))\n",
    "end"
   ]
  },
  {
   "cell_type": "code",
   "execution_count": 9,
   "metadata": {},
   "outputs": [
    {
     "data": {
      "text/plain": [
       "darksky_api_call (generic function with 1 method)"
      ]
     },
     "execution_count": 9,
     "metadata": {},
     "output_type": "execute_result"
    }
   ],
   "source": [
    "function darksky_api_call(url)\n",
    "    try\n",
    "        response = HTTP.get(url)\n",
    "        return String(response.body)\n",
    "        catch e\n",
    "        return \"Error occured: $e\"\n",
    "    end\n",
    "end"
   ]
  },
  {
   "cell_type": "code",
   "execution_count": null,
   "metadata": {},
   "outputs": [],
   "source": [
    "function cities_data()\n",
    "    #open file, load to a datatable,\n",
    "    #use function to find the nearest point and use that lat and lon for city data\n",
    "   #= if I want to use the julia script to find the closest city, \n",
    "    the large calculation is usually the firstone, because the longitude search \n",
    "    will span only within the closest longitude.  DO NOT DELETE THE SCRIPT, IT WILL BE \n",
    "    NEEDED WHEN WE CALCULATE THE CLOSEST VALUE FOR TEC AND OLR DATA."
   ]
  },
  {
   "cell_type": "code",
   "execution_count": null,
   "metadata": {},
   "outputs": [],
   "source": [
    "# This will return the nearest city lat, lon and the distance in kilometers\n",
    "function find_nearest_city(lat, lon)\n",
    "    city_df = cities_data() # This will receive a table, with the city data\n",
    "    earthquake_coords = LLA(lat, lon)\n",
    "    return distance(cities_coords, earthquake_coords) / 1000 # 1 KM\n",
    "end"
   ]
  },
  {
   "cell_type": "code",
   "execution_count": 10,
   "metadata": {},
   "outputs": [
    {
     "data": {
      "text/plain": [
       "historical_weather (generic function with 1 method)"
      ]
     },
     "execution_count": 10,
     "metadata": {},
     "output_type": "execute_result"
    }
   ],
   "source": [
    "function historical_weather(latitude, longitude, earthquake_datetime)\n",
    "    println(\"Looking up info for Latitude $latitude, longitud $longitude and earthquake_time $earthquake_datetime\\n\")\n",
    "    unix_timestamp = unix_time(earthquake_datetime)\n",
    "    historical_temperature_url = base_url * \"/\" * apikey * \"/\" * string(latitude) * \",\" * string(longitude) * \",\" * string(unix_timestamp)\n",
    "    println(\"unix_time stamp : $unix_timestamp\", \"\\n$historical_temperature_url\")\n",
    "    return darksky_api_call(historical_temperature_url)\n",
    "end"
   ]
  },
  {
   "cell_type": "code",
   "execution_count": 11,
   "metadata": {},
   "outputs": [
    {
     "data": {
      "text/plain": [
       "forecast_weather (generic function with 1 method)"
      ]
     },
     "execution_count": 11,
     "metadata": {},
     "output_type": "execute_result"
    }
   ],
   "source": [
    "function forecast_weather(latitude, longitude)\n",
    "    forecast_url = base_url * \"/\" * apikey * \"/\" * string(latitude) * \",\" * string(longitude)\n",
    "    return darksky_api_call(forecast_url)\n",
    "end"
   ]
  },
  {
   "cell_type": "code",
   "execution_count": null,
   "metadata": {},
   "outputs": [],
   "source": []
  },
  {
   "cell_type": "code",
   "execution_count": 20,
   "metadata": {},
   "outputs": [
    {
     "data": {
      "text/plain": [
       "\"{\\\"latitude\\\":-18.6496,\\\"longitude\\\":-173.9833,\\\"timezone\\\":\\\"Pacific/Tongatapu\\\",\\\"currently\\\":{\\\"time\\\":947350040,\\\"uvIndex\\\":0},\\\"hourly\\\":{\\\"data\\\":[{\\\"time\\\":947354400,\\\"temperature\\\":80.46,\\\"apparentTemperature\\\":86.83,\\\"dewPoint\\\":76.44,\\\"humidity\\\":0.88,\\\"pressure\\\":1006.6,\\\"windSpeed\\\":9.18,\\\"windBearing\\\":270,\\\"cloudCover\\\":0.38,\\\"uvIndex\\\":0},{\\\"time\\\":947365200,\\\"temperature\\\":84.63,\\\"apparentTemperature\\\":93.11,\\\"dewPoint\\\":75.19,\\\"humidity\\\":0.73,\\\"pressure\\\":1006.9,\\\"windSpeed\\\":11.39,\\\"windBearing\\\":270,\\\"cloudCover\\\":0.25,\\\"uvIndex\\\":6},{\\\"time\\\":947386800,\\\"temperature\\\":86.04,\\\"apparentTemperature\\\":99.19,\\\"dewPoint\\\":78.6,\\\"humidity\\\":0.79,\\\"pressure\\\":1005.6,\\\"windSpeed\\\":14.99,\\\"windBearing\\\":281,\\\"cloudCover\\\":0.63,\\\"uvIndex\\\":4}]},\\\"flags\\\":{\\\"sources\\\":[\\\"cmc\\\",\\\"gfs\\\",\\\"icon\\\",\\\"isd\\\",\\\"madis\\\"],\\\"nearest-station\\\":4.643,\\\"units\\\":\\\"us\\\"},\\\"offset\\\":14}\\n\""
      ]
     },
     "execution_count": 20,
     "metadata": {},
     "output_type": "execute_result"
    }
   ],
   "source": [
    "latitude = -18.6496\n",
    "longitude = -173.9833\n",
    "unix_timestamp = 947350040\n",
    "1594314751\n",
    "historical_temperature_url = base_url * \"/\" * apikey * \"/\" * string(latitude) * \",\" * string(longitude) * \",\" * string(unix_timestamp)\n",
    "darksky_api_call(historical_temperature_url)\n"
   ]
  },
  {
   "cell_type": "code",
   "execution_count": 14,
   "metadata": {},
   "outputs": [
    {
     "name": "stdout",
     "output_type": "stream",
     "text": [
      "Looking up info for Latitude -16.925, longitud -174.258 and earthquake_time 947350040\n",
      "\n"
     ]
    },
    {
     "ename": "MethodError",
     "evalue": "MethodError: no method matching strip(::Int64, ::Int64)\nClosest candidates are:\n  strip(::Any, !Matched::AbstractString) at strings/util.jl:222\n  strip(::Any, !Matched::CategoricalValue{String,R} where R<:Integer) at deprecated.jl:65",
     "output_type": "error",
     "traceback": [
      "MethodError: no method matching strip(::Int64, ::Int64)\nClosest candidates are:\n  strip(::Any, !Matched::AbstractString) at strings/util.jl:222\n  strip(::Any, !Matched::CategoricalValue{String,R} where R<:Integer) at deprecated.jl:65",
      "",
      "Stacktrace:",
      " [1] unix_time(::Int64) at ./In[8]:2",
      " [2] historical_weather(::Float64, ::Float64, ::Int64) at ./In[10]:3",
      " [3] top-level scope at In[14]:1"
     ]
    }
   ],
   "source": [
    "historical = historical_weather(latitude, longitude, timestamp)"
   ]
  },
  {
   "cell_type": "code",
   "execution_count": 12,
   "metadata": {},
   "outputs": [
    {
     "ename": "UndefVarError",
     "evalue": "UndefVarError: latitude not defined",
     "output_type": "error",
     "traceback": [
      "UndefVarError: latitude not defined",
      "",
      "Stacktrace:",
      " [1] top-level scope at In[12]:1"
     ]
    }
   ],
   "source": [
    "#forecast_urls\n",
    "forecast = forecast_weather(latitude, longitude)\n",
    "f = JSON.parse(forecast)"
   ]
  },
  {
   "cell_type": "code",
   "execution_count": null,
   "metadata": {},
   "outputs": [],
   "source": [
    "if typeof(f[\"currently\"][\"apparentTemperature\"]) == Float64\n",
    "    println(\"Found\")\n",
    "    else\n",
    "    println(\"No weather data available\")\n",
    "\n",
    "end"
   ]
  },
  {
   "cell_type": "code",
   "execution_count": null,
   "metadata": {},
   "outputs": [],
   "source": [
    "haskey(f[\"currently\"], \"apparentTemperature\")"
   ]
  },
  {
   "cell_type": "code",
   "execution_count": null,
   "metadata": {},
   "outputs": [],
   "source": [
    "unix_timestamp = unix_time(\"2018-12-29T03:39:09.740Z\")"
   ]
  },
  {
   "cell_type": "code",
   "execution_count": null,
   "metadata": {},
   "outputs": [],
   "source": [
    "earthquake_time"
   ]
  },
  {
   "cell_type": "code",
   "execution_count": null,
   "metadata": {},
   "outputs": [],
   "source": [
    "historical_temperature_url"
   ]
  },
  {
   "cell_type": "code",
   "execution_count": null,
   "metadata": {},
   "outputs": [],
   "source": []
  },
  {
   "cell_type": "code",
   "execution_count": null,
   "metadata": {},
   "outputs": [],
   "source": [
    "for i in eachrow(df_eq)\n",
    "    earthquake_datetime = i[\"datetime\"]\n",
    "    latitude = i[\"latitude\"]\n",
    "    longitude = i[\"longitude\"]\n",
    "    \n",
    "    historical_weather(latitude, longitude, earthquake_datetime)\n",
    "    h = JSON.parse(historical)\n",
    "    \n",
    "    if haskey(h[\"currently\"], \"apparentTemperature\")\n",
    "        println(earthquake_datetime, \" historical data available\")\n",
    "    else\n",
    "        println(earthquake_datetime, \" No Data!\")\n",
    "    end\n",
    "    \n",
    "end"
   ]
  },
  {
   "cell_type": "code",
   "execution_count": null,
   "metadata": {},
   "outputs": [],
   "source": []
  }
 ],
 "metadata": {
  "kernelspec": {
   "display_name": "Julia 1.4.1",
   "language": "julia",
   "name": "julia-1.4"
  },
  "language_info": {
   "file_extension": ".jl",
   "mimetype": "application/julia",
   "name": "julia",
   "version": "1.4.1"
  }
 },
 "nbformat": 4,
 "nbformat_minor": 4
}
