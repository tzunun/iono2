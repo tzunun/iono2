{
 "cells": [
  {
   "cell_type": "markdown",
   "metadata": {},
   "source": [
    "# **Hardware Specs** #"
   ]
  },
  {
   "cell_type": "markdown",
   "metadata": {},
   "source": [
    "## These are just ideas, nothing concrete at the moment ##"
   ]
  },
  {
   "cell_type": "markdown",
   "metadata": {},
   "source": [
    "## **Operating Systems** ##\n",
    "some of these options are not compatible with ARM based boards such as the Raspberry PI, \n",
    "\n",
    "**Service OS:**\n",
    "    \n",
    "    Ubuntu Core\n",
    "    \n",
    "    ClearLinux\n",
    "    \n",
    "    Other Linux Option\n",
    "\n",
    "**Requires VM, ACRN Hypervisor preffered** \n",
    "\n",
    "    User OS:\n",
    "\n",
    "    Zephyr\n",
    "    \n",
    "    Ubuntu Core\n",
    "\n",
    "    Embedded Erlang\n",
    "\n",
    "**No OS alternative Nerves**\n",
    "https://www.nerves-project.org/"
   ]
  },
  {
   "cell_type": "markdown",
   "metadata": {},
   "source": [
    "## Platform ##\n",
    "    \n",
    "**Software** \n",
    "\n",
    "    Elixir \n",
    "    \n",
    "**Hardware**\n",
    "\n",
    "     Grisp 2\n",
    "         \n",
    "     NUC (intel)\n",
    "     Up-Board Extreme (intel)\n",
    "     Arm based solutions"
   ]
  },
  {
   "cell_type": "markdown",
   "metadata": {},
   "source": [
    "## Redundancy ##"
   ]
  },
  {
   "cell_type": "markdown",
   "metadata": {},
   "source": [
    "    Master/Slave/Slave2?\n",
    "\n",
    "    Devices are aware of the\n",
    "    \n",
    "    state of the other devices."
   ]
  },
  {
   "cell_type": "markdown",
   "metadata": {},
   "source": [
    "## Communications ##"
   ]
  },
  {
   "cell_type": "markdown",
   "metadata": {},
   "source": [
    "    Satellite internet remote locations\n",
    "    \n",
    "    Direct antennas for short distances less than 25 km\n",
    "    \n",
    "    Cellular network"
   ]
  },
  {
   "cell_type": "markdown",
   "metadata": {},
   "source": [
    "## Antenna ##"
   ]
  },
  {
   "cell_type": "markdown",
   "metadata": {},
   "source": [
    "    Transceiver\n",
    "    LoRa\n",
    "    \n",
    "    This seems to be the easiest way to get started with LoRa\n",
    "    Adafruit LoRa Radio Bonnet with OLED - RFM95W @ 915MHz - RadioFruit.\n",
    "    https://www.adafruit.com/product/4074\n",
    "    \n",
    "    There are other alternatives, the other one I am slight familiar with is.\n",
    "    is this one from STM\n",
    "    https://www.st.com/en/evaluation-tools/p-nucleo-lrwan2.html\n",
    "    \n",
    "    I found the toolchain awful, restrictive and heavy.\n",
    "    \n",
    "    You will need a Raspberry Pi. \n",
    "    "
   ]
  },
  {
   "cell_type": "markdown",
   "metadata": {},
   "source": [
    "## Enclosure ##"
   ]
  },
  {
   "cell_type": "markdown",
   "metadata": {},
   "source": [
    "To be designed/decided"
   ]
  },
  {
   "cell_type": "markdown",
   "metadata": {},
   "source": [
    "## Frequency ##"
   ]
  },
  {
   "cell_type": "markdown",
   "metadata": {},
   "source": [
    "## Troubleshooting ##\n"
   ]
  },
  {
   "cell_type": "markdown",
   "metadata": {},
   "source": [
    "Hopefully\n",
    "\n",
    "Technology based on Elixir/Erlang\n",
    "\n",
    "Software upgrade/update hot code reloading"
   ]
  },
  {
   "cell_type": "code",
   "execution_count": null,
   "metadata": {},
   "outputs": [],
   "source": []
  }
 ],
 "metadata": {
  "kernelspec": {
   "display_name": "Python 3",
   "language": "python",
   "name": "python3"
  },
  "language_info": {
   "codemirror_mode": {
    "name": "ipython",
    "version": 3
   },
   "file_extension": ".py",
   "mimetype": "text/x-python",
   "name": "python",
   "nbconvert_exporter": "python",
   "pygments_lexer": "ipython3",
   "version": "3.7.6"
  }
 },
 "nbformat": 4,
 "nbformat_minor": 4
}
