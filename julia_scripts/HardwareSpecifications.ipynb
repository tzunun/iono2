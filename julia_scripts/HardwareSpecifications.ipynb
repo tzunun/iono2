{
 "cells": [
  {
   "cell_type": "markdown",
   "metadata": {},
   "source": [
    "# **Hardware Specs** #"
   ]
  },
  {
   "cell_type": "markdown",
   "metadata": {},
   "source": [
    "## **Operating Systems** ##\n",
    "\n",
    "**Service OS:**\n",
    "    \n",
    "    Ubuntu Core\n",
    "    \n",
    "    Other Linux Option\n",
    "\n",
    "**Requires VM, ACRN Hypervisor preffered** \n",
    "\n",
    "    User OS:\n",
    "\n",
    "    Zephyr\n",
    "    \n",
    "    Ubuntu Core\n",
    "\n",
    "    Embedded Erlang\n"
   ]
  },
  {
   "cell_type": "markdown",
   "metadata": {},
   "source": [
    "## Platform ##\n",
    "    \n",
    "**Software** \n",
    "\n",
    "    Elixir \n",
    "    \n",
    "**Hardware**\n",
    "\n",
    "     Grisp\n",
    "         \n",
    "     NUC (intel)\n",
    "     Up-Board Extreme (intel)\n",
    "     Arm based solutions"
   ]
  },
  {
   "cell_type": "markdown",
   "metadata": {},
   "source": [
    "## Redundancy ##"
   ]
  },
  {
   "cell_type": "markdown",
   "metadata": {},
   "source": [
    "    Master/Slave/Slave2?\n",
    "\n",
    "    Devices are aware of the\n",
    "    \n",
    "    state of the other devices."
   ]
  },
  {
   "cell_type": "markdown",
   "metadata": {},
   "source": [
    "## Communications ##"
   ]
  },
  {
   "cell_type": "markdown",
   "metadata": {},
   "source": [
    "    Satellite internet remote locations\n",
    "    \n",
    "    Direct antennas for short distances less than 25 km\n",
    "    \n",
    "    Cellular network"
   ]
  },
  {
   "cell_type": "markdown",
   "metadata": {},
   "source": [
    "## Antenna ##"
   ]
  },
  {
   "cell_type": "markdown",
   "metadata": {},
   "source": [
    "    Transceiver\n",
    "    LoRa\n",
    "        https://www.cooking-hacks.com\n",
    "        UP-shop solution?\n",
    "            https://up-shop.org/home/343-up-xtreme.html?search_query=lora&results=8"
   ]
  },
  {
   "cell_type": "markdown",
   "metadata": {},
   "source": [
    "## Enclosure ##"
   ]
  },
  {
   "cell_type": "markdown",
   "metadata": {},
   "source": [
    "To be designed/decided"
   ]
  },
  {
   "cell_type": "markdown",
   "metadata": {},
   "source": [
    "## Frequency ##"
   ]
  },
  {
   "cell_type": "markdown",
   "metadata": {},
   "source": [
    "## Troubleshooting ##\n"
   ]
  },
  {
   "cell_type": "markdown",
   "metadata": {},
   "source": [
    "Hopefully\n",
    "\n",
    "Technology based on Elixir/Erlang\n",
    "\n",
    "Software upgrade/update hot code reloading"
   ]
  },
  {
   "cell_type": "code",
   "execution_count": null,
   "metadata": {},
   "outputs": [],
   "source": []
  }
 ],
 "metadata": {
  "kernelspec": {
   "display_name": "Python 3",
   "language": "python",
   "name": "python3"
  },
  "language_info": {
   "codemirror_mode": {
    "name": "ipython",
    "version": 3
   },
   "file_extension": ".py",
   "mimetype": "text/x-python",
   "name": "python",
   "nbconvert_exporter": "python",
   "pygments_lexer": "ipython3",
   "version": "3.7.3"
  }
 },
 "nbformat": 4,
 "nbformat_minor": 4
}
