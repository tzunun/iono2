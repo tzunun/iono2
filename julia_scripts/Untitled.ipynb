{
 "cells": [
  {
   "cell_type": "code",
   "execution_count": 1,
   "metadata": {},
   "outputs": [],
   "source": [
    "using CSV"
   ]
  },
  {
   "cell_type": "code",
   "execution_count": 2,
   "metadata": {},
   "outputs": [
    {
     "ename": "LoadError",
     "evalue": "syntax: extra token \"as\" after end of expression",
     "output_type": "error",
     "traceback": [
      "syntax: extra token \"as\" after end of expression",
      ""
     ]
    }
   ],
   "source": [
    "#=\n",
    "The lat, lon for earthquake, taking into account the grids for gim maps\n",
    "2.5, 5.0 grids.  so find the ones nearest and create a map to see.\n",
    "find the temperature using the latitudes for the earthquake, if not then use\n",
    "the nearest city information from the original iono repo\n",
    "\n",
    "still have to see how to unpack, extrack the OLR data. and see its structure.\n",
    "\n",
    "Historical data for weather will have be dicided for deltas, \n",
    "Historical measurements for TEC will \n",
    "\n",
    "=#"
   ]
  },
  {
   "cell_type": "code",
   "execution_count": null,
   "metadata": {},
   "outputs": [],
   "source": []
  }
 ],
 "metadata": {
  "kernelspec": {
   "display_name": "Julia 1.3.1",
   "language": "julia",
   "name": "julia-1.3"
  },
  "language_info": {
   "file_extension": ".jl",
   "mimetype": "application/julia",
   "name": "julia",
   "version": "1.3.1"
  }
 },
 "nbformat": 4,
 "nbformat_minor": 4
}
