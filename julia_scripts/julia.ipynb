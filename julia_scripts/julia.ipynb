{
 "cells": [
  {
   "cell_type": "code",
   "execution_count": 1,
   "metadata": {},
   "outputs": [],
   "source": [
    "using CSV, Dates, JuliaDB"
   ]
  },
  {
   "cell_type": "code",
   "execution_count": 2,
   "metadata": {},
   "outputs": [
    {
     "data": {
      "text/plain": [
       "\"../jplg3660.12i\""
      ]
     },
     "execution_count": 2,
     "metadata": {},
     "output_type": "execute_result"
    }
   ],
   "source": [
    "ionex_file = \"../jplg3660.12i\""
   ]
  },
  {
   "cell_type": "code",
   "execution_count": 3,
   "metadata": {},
   "outputs": [],
   "source": [
    "# OPen the file and place its contents in an array name lines\n",
    "file = open(ionex_file);\n",
    "lines = readlines(file)\n",
    "close(file)"
   ]
  },
  {
   "cell_type": "code",
   "execution_count": 4,
   "metadata": {},
   "outputs": [],
   "source": [
    "using Dates\n",
    "index = 0\n",
    "tec_values = []   # Tec values per longitud, lat(-180,180)\n",
    "tec = []          # All the tec values in a file\n",
    "dates_array = []  # Store the different time stamps\n",
    "\n",
    "for line in lines\n",
    "    index += 1\n",
    "    \n",
    "    # Obtain time_stamp and tec values for every map (13 TEC maps in a file)\n",
    "    if occursin(r\"START OF TEC MAP\", line)\n",
    "        date_line = lines[index+1]\n",
    "        date_units = []\n",
    "        string = split(date_line)\n",
    "        \n",
    "        for x in 1:6\n",
    "            push!(date_units,parse(Int,string[x]))\n",
    "        end\n",
    "        \n",
    "        # Date units \n",
    "        year = date_units[1]\n",
    "        month = date_units[2]\n",
    "        day = date_units[3]\n",
    "        hour = date_units[4]\n",
    "        minutes = date_units[5]\n",
    "        seconds = date_units[6]\n",
    "        \n",
    "        # Map time_stamp for a period(2 hours)\n",
    "        time_stamp = DateTime(year, month, day, hour, minutes, seconds)\n",
    "        push!(dates_array, time_stamp)\n",
    "    end\n",
    "    \n",
    "    # Tec values per latitud in the longitud range (-180,180)\n",
    "    if occursin(r\"LAT/LON1/LON2/DLON/H\", line)\n",
    "        for x in 1:5\n",
    "            tec_values = split(lines[index + x])\n",
    "            for n in tec_values\n",
    "                push!(tec, n)\n",
    "            end\n",
    "        end\n",
    "    end\n",
    "    \n",
    "end"
   ]
  },
  {
   "cell_type": "code",
   "execution_count": 7,
   "metadata": {},
   "outputs": [
    {
     "data": {
      "text/plain": [
       "create_coordinates (generic function with 1 method)"
      ]
     },
     "execution_count": 7,
     "metadata": {},
     "output_type": "execute_result"
    }
   ],
   "source": [
    "# used to create a latitud, to hold 2-hour-interval Tec map data\n",
    "function create_coordinates(start, stop, step)\n",
    "    coordinates = []\n",
    "    for i in range(start, stop=stop, step=step)\n",
    "        for j in 1:73\n",
    "            push!(coordinates,i)\n",
    "        end\n",
    "    end\n",
    "    coordinates # Julia automatically returns the last statement\n",
    "end\n",
    "    "
   ]
  },
  {
   "cell_type": "code",
   "execution_count": null,
   "metadata": {},
   "outputs": [],
   "source": [
    "latitud = create_coordinates(87.5, -87.5, -2.5)\n",
    "longitud = collect(Iterators.flatten([collect(-180:5:180) for i in 1:71])) # I Still don't grok this!"
   ]
  },
  {
   "cell_type": "code",
   "execution_count": 5,
   "metadata": {},
   "outputs": [
    {
     "name": "stdout",
     "output_type": "stream",
     "text": [
      "2012-12-31T00:00:00\n",
      "2012-12-31T02:00:00\n",
      "2012-12-31T04:00:00\n",
      "2012-12-31T06:00:00\n",
      "2012-12-31T08:00:00\n",
      "2012-12-31T10:00:00\n",
      "2012-12-31T12:00:00\n",
      "2012-12-31T14:00:00\n",
      "2012-12-31T16:00:00\n",
      "2012-12-31T18:00:00\n",
      "2012-12-31T20:00:00\n",
      "2012-12-31T22:00:00\n",
      "2013-01-01T00:00:00\n"
     ]
    }
   ],
   "source": [
    "for d in dates_array\n",
    "    print(d,'\\n')\n",
    "end"
   ]
  },
  {
   "cell_type": "code",
   "execution_count": 9,
   "metadata": {},
   "outputs": [
    {
     "data": {
      "text/plain": [
       "5183-element Array{DateTime,1}:\n",
       " 2012-12-31T00:00:00\n",
       " 2012-12-31T00:00:00\n",
       " 2012-12-31T00:00:00\n",
       " 2012-12-31T00:00:00\n",
       " 2012-12-31T00:00:00\n",
       " 2012-12-31T00:00:00\n",
       " 2012-12-31T00:00:00\n",
       " 2012-12-31T00:00:00\n",
       " 2012-12-31T00:00:00\n",
       " 2012-12-31T00:00:00\n",
       " 2012-12-31T00:00:00\n",
       " 2012-12-31T00:00:00\n",
       " 2012-12-31T00:00:00\n",
       " ⋮                  \n",
       " 2012-12-31T00:00:00\n",
       " 2012-12-31T00:00:00\n",
       " 2012-12-31T00:00:00\n",
       " 2012-12-31T00:00:00\n",
       " 2012-12-31T00:00:00\n",
       " 2012-12-31T00:00:00\n",
       " 2012-12-31T00:00:00\n",
       " 2012-12-31T00:00:00\n",
       " 2012-12-31T00:00:00\n",
       " 2012-12-31T00:00:00\n",
       " 2012-12-31T00:00:00\n",
       " 2012-12-31T00:00:00"
      ]
     },
     "execution_count": 9,
     "metadata": {},
     "output_type": "execute_result"
    }
   ],
   "source": [
    "time_stamp = [dates_array[1] for i in 1:5183]"
   ]
  },
  {
   "cell_type": "code",
   "execution_count": 10,
   "metadata": {},
   "outputs": [
    {
     "data": {
      "text/plain": [
       "5183-element Array{Int64,1}:\n",
       "  38\n",
       "  38\n",
       "  39\n",
       "  39\n",
       "  39\n",
       "  39\n",
       "  39\n",
       "  39\n",
       "  39\n",
       "  39\n",
       "  39\n",
       "  39\n",
       "  39\n",
       "   ⋮\n",
       " 174\n",
       " 174\n",
       " 174\n",
       " 175\n",
       " 175\n",
       " 175\n",
       " 175\n",
       " 175\n",
       " 175\n",
       " 175\n",
       " 176\n",
       " 176"
      ]
     },
     "execution_count": 10,
     "metadata": {},
     "output_type": "execute_result"
    }
   ],
   "source": [
    "# Convert string values to integers for storing usable values in CSV\n",
    "depth = [parse(Int,t) for t in tec[1:5183]]"
   ]
  },
  {
   "cell_type": "code",
   "execution_count": 11,
   "metadata": {},
   "outputs": [
    {
     "data": {
      "text/plain": [
       "Table with 5183 rows, 4 columns:\n",
       "\u001b[1mtime_stamp           \u001b[22m\u001b[1mlatitud  \u001b[22m\u001b[1mlongitud  \u001b[22m\u001b[1mdepth\u001b[22m\n",
       "─────────────────────────────────────────────\n",
       "2012-12-31T00:00:00  -87.5    -180      176\n",
       "2012-12-31T00:00:00  -87.5    -175      176\n",
       "2012-12-31T00:00:00  -87.5    -170      176\n",
       "2012-12-31T00:00:00  -87.5    -165      176\n",
       "2012-12-31T00:00:00  -87.5    -160      176\n",
       "2012-12-31T00:00:00  -87.5    -155      176\n",
       "2012-12-31T00:00:00  -87.5    -150      176\n",
       "2012-12-31T00:00:00  -87.5    -145      175\n",
       "2012-12-31T00:00:00  -87.5    -140      175\n",
       "2012-12-31T00:00:00  -87.5    -135      175\n",
       "2012-12-31T00:00:00  -87.5    -130      175\n",
       "2012-12-31T00:00:00  -87.5    -125      175\n",
       "⋮\n",
       "2012-12-31T00:00:00  87.5     130       36\n",
       "2012-12-31T00:00:00  87.5     135       36\n",
       "2012-12-31T00:00:00  87.5     140       36\n",
       "2012-12-31T00:00:00  87.5     145       36\n",
       "2012-12-31T00:00:00  87.5     150       36\n",
       "2012-12-31T00:00:00  87.5     155       37\n",
       "2012-12-31T00:00:00  87.5     160       37\n",
       "2012-12-31T00:00:00  87.5     165       37\n",
       "2012-12-31T00:00:00  87.5     170       37\n",
       "2012-12-31T00:00:00  87.5     175       38\n",
       "2012-12-31T00:00:00  87.5     180       38"
      ]
     },
     "execution_count": 11,
     "metadata": {},
     "output_type": "execute_result"
    }
   ],
   "source": [
    "t = table((time_stamp=time_stamp, latitud=latitud, longitud=longitud, depth=depth); pkey = [:time_stamp, :latitud, :longitud, :depth])"
   ]
  },
  {
   "cell_type": "code",
   "execution_count": 13,
   "metadata": {},
   "outputs": [
    {
     "data": {
      "text/plain": [
       "\"julia.csv\""
      ]
     },
     "execution_count": 13,
     "metadata": {},
     "output_type": "execute_result"
    }
   ],
   "source": [
    "CSV.write(\"julia.csv\", t)"
   ]
  },
  {
   "cell_type": "code",
   "execution_count": 14,
   "metadata": {},
   "outputs": [
    {
     "data": {
      "text/plain": [
       "26.0"
      ]
     },
     "execution_count": 14,
     "metadata": {},
     "output_type": "execute_result"
    }
   ],
   "source": [
    "length(tec)/5183"
   ]
  },
  {
   "cell_type": "code",
   "execution_count": null,
   "metadata": {},
   "outputs": [],
   "source": []
  }
 ],
 "metadata": {
  "kernelspec": {
   "display_name": "Julia 1.2.0",
   "language": "julia",
   "name": "julia-1.2"
  },
  "language_info": {
   "file_extension": ".jl",
   "mimetype": "application/julia",
   "name": "julia",
   "version": "1.2.0"
  }
 },
 "nbformat": 4,
 "nbformat_minor": 4
}
