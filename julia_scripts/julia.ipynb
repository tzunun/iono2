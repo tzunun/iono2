{
 "cells": [
  {
   "cell_type": "code",
   "execution_count": 20,
   "metadata": {},
   "outputs": [
    {
     "data": {
      "text/plain": [
       "\"../jplg3660.12i\""
      ]
     },
     "execution_count": 20,
     "metadata": {},
     "output_type": "execute_result"
    }
   ],
   "source": [
    "ionex_file = \"../jplg3660.12i\""
   ]
  },
  {
   "cell_type": "code",
   "execution_count": null,
   "metadata": {},
   "outputs": [],
   "source": [
    "#open(ionex_file) do f\n",
    "#    for i in enumerate(eachline(f))\n",
    "#        print(i[1], \": \", i[2], \"\\n\")\n",
    "#    end\n",
    "#end"
   ]
  },
  {
   "cell_type": "code",
   "execution_count": 21,
   "metadata": {},
   "outputs": [
    {
     "data": {
      "text/plain": [
       "\"/home/antonio/Repos/iono2/julia_scripts\""
      ]
     },
     "execution_count": 21,
     "metadata": {},
     "output_type": "execute_result"
    }
   ],
   "source": [
    "pwd()"
   ]
  },
  {
   "cell_type": "code",
   "execution_count": 22,
   "metadata": {},
   "outputs": [],
   "source": [
    "file = open(ionex_file);\n",
    "lines = readlines(file)\n",
    "close(file)"
   ]
  },
  {
   "cell_type": "code",
   "execution_count": 38,
   "metadata": {},
   "outputs": [
    {
     "name": "stdout",
     "output_type": "stream",
     "text": [
      "261 2012-12-31T00:00:00\n",
      "690 2012-12-31T02:00:00\n",
      "1119 2012-12-31T04:00:00\n",
      "1548 2012-12-31T06:00:00\n",
      "1977 2012-12-31T08:00:00\n",
      "2406 2012-12-31T10:00:00\n",
      "2835 2012-12-31T12:00:00\n",
      "3264 2012-12-31T14:00:00\n",
      "3693 2012-12-31T16:00:00\n",
      "4122 2012-12-31T18:00:00\n",
      "4551 2012-12-31T20:00:00\n",
      "4980 2012-12-31T22:00:00\n",
      "5409 2013-01-01T00:00:00\n",
      "5838 2012-12-31T00:00:00\n",
      "6267 2012-12-31T02:00:00\n",
      "6696 2012-12-31T04:00:00\n",
      "7125 2012-12-31T06:00:00\n",
      "7554 2012-12-31T08:00:00\n",
      "7983 2012-12-31T10:00:00\n",
      "8412 2012-12-31T12:00:00\n",
      "8841 2012-12-31T14:00:00\n",
      "9270 2012-12-31T16:00:00\n",
      "9699 2012-12-31T18:00:00\n",
      "10128 2012-12-31T20:00:00\n",
      "10557 2012-12-31T22:00:00\n",
      "10986 2013-01-01T00:00:00\n"
     ]
    }
   ],
   "source": [
    "using Dates\n",
    "index = 0\n",
    "numbers = []\n",
    "z = []\n",
    "dates_array = []\n",
    "lines_list = []\n",
    "for line in lines\n",
    "    index += 1\n",
    "    if occursin(r\"EPOCH OF CURRENT MAP\", line)\n",
    "        date = []\n",
    "        string = split(line)\n",
    "        for x in 1:6\n",
    "            push!(date,parse(Int,string[x]))\n",
    "        end\n",
    "        year = date[1]\n",
    "        month = date[2]\n",
    "        day = date[3]\n",
    "        hour = date[4]\n",
    "        minutes = date[5]\n",
    "        seconds = date[6]\n",
    "        \n",
    "        time_stamp = DateTime(year, month, day, hour, minutes, seconds)\n",
    "        push!(dates_array, time_stamp)\n",
    "        print(index, \" \", DateTime(year, month, day, hour, minutes, seconds), \"\\n\")\n",
    "    end\n",
    "    if occursin(r\"LAT/LON1/LON2/DLON/H\", line)\n",
    "        #print(index,\"\\n\")\n",
    "        #push!(lines_list, index)\n",
    "        #print(index, lines[index], \"\\n\")\n",
    "        numbers = split(lines[index + 1])\n",
    "        #for n in numbers\n",
    "        #    print(typeof(parse(Int,n)))\n",
    "        #end\n",
    "        #push!(z, parse(Int,lines[index + 1], \"\\n\")\n",
    "        #print(lines[index + 2], \"\\n\")\n",
    "        #print(lines[index + 3], \"\\n\")\n",
    "        #print(lines[index + 4], \"\\n\")\n",
    "        #print(lines[index + 5], \"\\n\")\n",
    "        for x in 1:5\n",
    "            numbers = split(lines[index + x])\n",
    "            for n in numbers\n",
    "                push!(z, n)\n",
    "            end\n",
    "        end\n",
    "    end\n",
    "end\n",
    "        "
   ]
  },
  {
   "cell_type": "code",
   "execution_count": 35,
   "metadata": {},
   "outputs": [
    {
     "data": {
      "text/plain": [
       "26"
      ]
     },
     "execution_count": 35,
     "metadata": {},
     "output_type": "execute_result"
    }
   ],
   "source": [
    "length(dates)"
   ]
  },
  {
   "cell_type": "code",
   "execution_count": 36,
   "metadata": {},
   "outputs": [
    {
     "data": {
      "text/plain": [
       "73-element Array{Int64,1}:\n",
       " -180\n",
       " -175\n",
       " -170\n",
       " -165\n",
       " -160\n",
       " -155\n",
       " -150\n",
       " -145\n",
       " -140\n",
       " -135\n",
       " -130\n",
       " -125\n",
       " -120\n",
       "    ⋮\n",
       "  125\n",
       "  130\n",
       "  135\n",
       "  140\n",
       "  145\n",
       "  150\n",
       "  155\n",
       "  160\n",
       "  165\n",
       "  170\n",
       "  175\n",
       "  180"
      ]
     },
     "execution_count": 36,
     "metadata": {},
     "output_type": "execute_result"
    }
   ],
   "source": [
    "latitud = collect(87.5:-2.5:-87.5)\n",
    "longitud = collect(-180:5:180)"
   ]
  },
  {
   "cell_type": "code",
   "execution_count": null,
   "metadata": {},
   "outputs": [],
   "source": [
    "# This calculates the data for the first hour, 5183 values or the first 2 Hours\n",
    "# Note fix map it is not using the values from lat 87.5, it is starting at 87.5 but with the\n",
    "# Values from lat 85\n",
    "# arrange data \n",
    "# Date, lat, lon, tec,\n",
    "index = 0 \n",
    "print(\"Latitud, Longitud, TEC\\n\")\n",
    "for lat in latitud\n",
    "    for lon in longitud\n",
    "        index += 1 \n",
    "        print(lat, ' ', lon, ' ', z[index],'\\n')\n",
    "    end\n",
    "end\n",
    "print(index)"
   ]
  },
  {
   "cell_type": "code",
   "execution_count": null,
   "metadata": {},
   "outputs": [],
   "source": [
    "\n",
    "open(\"depth.csv\",\"w\") do io\n",
    "    write(io,'x', '\\n')\n",
    "    for i in z\n",
    "        write(io,i,'\\n')\n",
    "    end\n",
    "end"
   ]
  },
  {
   "cell_type": "code",
   "execution_count": null,
   "metadata": {},
   "outputs": [],
   "source": [
    "using Serialization \n",
    "serialize(depth_array, z)"
   ]
  },
  {
   "cell_type": "code",
   "execution_count": null,
   "metadata": {},
   "outputs": [],
   "source": [
    "using Gadfly\n",
    "set_default_plot_size(14cm, 8cm)\n",
    "plot(z=(x,y) -> x*exp(-(x-round(Int, x))^20-y^20),\n",
    "     xmin=[-180], xmax=[180], ymin=[-90], ymax=[90], Geom.contour)\n",
    "\n"
   ]
  },
  {
   "cell_type": "code",
   "execution_count": null,
   "metadata": {},
   "outputs": [],
   "source": []
  },
  {
   "cell_type": "code",
   "execution_count": null,
   "metadata": {},
   "outputs": [],
   "source": [
    "p1 = plot([sin,cos], 0, 2pi)\n",
    "p2 = plot((x,y)->sin(x)+cos(y), 0, 2pi, 0, 2pi)\n",
    "p3 = spy(ones(33)*sin.(0:(pi/16):2pi)' + cos.(0:(pi/16):2pi)*ones(33)')\n",
    "hstack(p1)"
   ]
  },
  {
   "cell_type": "code",
   "execution_count": null,
   "metadata": {},
   "outputs": [],
   "source": []
  }
 ],
 "metadata": {
  "kernelspec": {
   "display_name": "Julia 1.0.4",
   "language": "julia",
   "name": "julia-1.0"
  },
  "language_info": {
   "file_extension": ".jl",
   "mimetype": "application/julia",
   "name": "julia",
   "version": "1.0.4"
  }
 },
 "nbformat": 4,
 "nbformat_minor": 4
}
