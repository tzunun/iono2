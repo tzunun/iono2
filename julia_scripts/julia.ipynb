{
 "cells": [
  {
   "cell_type": "code",
   "execution_count": 1,
   "metadata": {},
   "outputs": [],
   "source": [
    "using CSV, Dates, JuliaDB"
   ]
  },
  {
   "cell_type": "code",
   "execution_count": 2,
   "metadata": {},
   "outputs": [
    {
     "data": {
      "text/plain": [
       "\"../jplg3660.12i\""
      ]
     },
     "execution_count": 2,
     "metadata": {},
     "output_type": "execute_result"
    }
   ],
   "source": [
    "ionex_file = \"../jplg3660.12i\""
   ]
  },
  {
   "cell_type": "code",
   "execution_count": 3,
   "metadata": {},
   "outputs": [],
   "source": [
    "# OPen the file and place its contents in an array name lines\n",
    "file = open(ionex_file);\n",
    "lines = readlines(file)\n",
    "close(file)"
   ]
  },
  {
   "cell_type": "code",
   "execution_count": 4,
   "metadata": {},
   "outputs": [],
   "source": [
    "using Dates\n",
    "index = 0\n",
    "tec_values = []   # Tec values per longitud, lat(-180,180)\n",
    "tec = []          # All the tec values in a file\n",
    "dates_array = []  # Store the different time stamps\n",
    "\n",
    "for line in lines\n",
    "    index += 1\n",
    "    \n",
    "    # Obtain time_stamp and tec values for every map (13 TEC maps in a file)\n",
    "    if occursin(r\"START OF TEC MAP\", line)\n",
    "        date_line = lines[index+1]\n",
    "        date_units = []\n",
    "        string = split(date_line)\n",
    "        \n",
    "        for x in 1:6\n",
    "            push!(date_units,parse(Int,string[x]))\n",
    "        end\n",
    "        \n",
    "        # Date units \n",
    "        year = date_units[1]\n",
    "        month = date_units[2]\n",
    "        day = date_units[3]\n",
    "        hour = date_units[4]\n",
    "        minutes = date_units[5]\n",
    "        seconds = date_units[6]\n",
    "        \n",
    "        # Map time_stamp for a period(2 hours)\n",
    "        time_stamp = DateTime(year, month, day, hour, minutes, seconds)\n",
    "        push!(dates_array, time_stamp)\n",
    "    end\n",
    "    \n",
    "    # Tec values per latitud in the longitud range (-180,180)\n",
    "    if occursin(r\"LAT/LON1/LON2/DLON/H\", line)\n",
    "        for x in 1:5\n",
    "            tec_values = split(lines[index + x])\n",
    "            for n in tec_values\n",
    "                push!(tec, n)\n",
    "            end\n",
    "        end\n",
    "    end\n",
    "    \n",
    "end"
   ]
  },
  {
   "cell_type": "code",
   "execution_count": 5,
   "metadata": {},
   "outputs": [
    {
     "data": {
      "text/plain": [
       "create_coordinates (generic function with 1 method)"
      ]
     },
     "execution_count": 5,
     "metadata": {},
     "output_type": "execute_result"
    }
   ],
   "source": [
    "# used to create a latitud, to hold 2-hour-interval Tec map data\n",
    "function create_coordinates(start, stop, step)\n",
    "    coordinates = []\n",
    "    for i in range(start, stop=stop, step=step)\n",
    "        for j in 1:73\n",
    "            push!(coordinates,i)\n",
    "        end\n",
    "    end\n",
    "    coordinates # Julia automatically returns the last statement\n",
    "end\n",
    "    "
   ]
  },
  {
   "cell_type": "code",
   "execution_count": 6,
   "metadata": {},
   "outputs": [
    {
     "data": {
      "text/plain": [
       "5183-element Array{Int64,1}:\n",
       " -180\n",
       " -175\n",
       " -170\n",
       " -165\n",
       " -160\n",
       " -155\n",
       " -150\n",
       " -145\n",
       " -140\n",
       " -135\n",
       " -130\n",
       " -125\n",
       " -120\n",
       "    ⋮\n",
       "  125\n",
       "  130\n",
       "  135\n",
       "  140\n",
       "  145\n",
       "  150\n",
       "  155\n",
       "  160\n",
       "  165\n",
       "  170\n",
       "  175\n",
       "  180"
      ]
     },
     "execution_count": 6,
     "metadata": {},
     "output_type": "execute_result"
    }
   ],
   "source": [
    "latitud = create_coordinates(87.5, -87.5, -2.5)\n",
    "longitud = collect(Iterators.flatten([collect(-180:5:180) for i in 1:71])) # I Still don't grok this!"
   ]
  },
  {
   "cell_type": "code",
   "execution_count": 18,
   "metadata": {},
   "outputs": [
    {
     "name": "stdout",
     "output_type": "stream",
     "text": [
      "\n",
      "Start 1\n",
      "Start 5184\n",
      "Start 10367\n",
      "Start 15550\n",
      "Start 20733\n",
      "Start 25916\n",
      "Start 31099\n",
      "Start 36282\n",
      "Start 41465\n",
      "Start 46648\n",
      "Start 51831\n",
      "Start 57014\n",
      "Start 62197"
     ]
    }
   ],
   "source": [
    "# Create CSV for daily tec map data.\n",
    "start = 1\n",
    "map_tec_values = 5183  # Total tec values in a 2 hour map period\n",
    "stop = map_tec_values\n",
    "for d in dates_array\n",
    "    print(\"\\nStart \", start)\n",
    "    #print(\"\\nStop \", stop)\n",
    "    time_stamp = [d for i in 1:map_tec_values]\n",
    "    tec_value = [parse(Int,value) for value in tec[start:stop]]\n",
    "    t = table((time_stamp=time_stamp, latitud=latitud, longitud=longitud, tec_value=tec_value); pkey = [:time_stamp, :latitud, :longitud, :tec_value])\n",
    "    CSV.write(\"test.csv\",t, append=true)\n",
    "    start += map_tec_values\n",
    "    stop += map_tec_values\n",
    "end"
   ]
  },
  {
   "cell_type": "code",
   "execution_count": null,
   "metadata": {},
   "outputs": [],
   "source": []
  }
 ],
 "metadata": {
  "kernelspec": {
   "display_name": "Julia 1.2.0",
   "language": "julia",
   "name": "julia-1.2"
  },
  "language_info": {
   "file_extension": ".jl",
   "mimetype": "application/julia",
   "name": "julia",
   "version": "1.2.0"
  }
 },
 "nbformat": 4,
 "nbformat_minor": 4
}
