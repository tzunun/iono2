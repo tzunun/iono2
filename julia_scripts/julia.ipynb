{
 "cells": [
  {
   "cell_type": "code",
   "execution_count": 10,
   "metadata": {},
   "outputs": [
    {
     "data": {
      "text/plain": [
       "\"../jplg3660.12i\""
      ]
     },
     "execution_count": 10,
     "metadata": {},
     "output_type": "execute_result"
    }
   ],
   "source": [
    "ionex_file = \"../jplg3660.12i\""
   ]
  },
  {
   "cell_type": "code",
   "execution_count": null,
   "metadata": {},
   "outputs": [],
   "source": [
    "open(ionex_file) do f\n",
    "    for i in enumerate(eachline(f))\n",
    "        print(i[1], \": \", i[2], \"\\n\")\n",
    "    end\n",
    "end"
   ]
  },
  {
   "cell_type": "code",
   "execution_count": 12,
   "metadata": {},
   "outputs": [
    {
     "data": {
      "text/plain": [
       "\"/home/antonio/Repos/iono2/julia_scripts\""
      ]
     },
     "execution_count": 12,
     "metadata": {},
     "output_type": "execute_result"
    }
   ],
   "source": [
    "pwd()"
   ]
  },
  {
   "cell_type": "code",
   "execution_count": 13,
   "metadata": {},
   "outputs": [],
   "source": [
    "file = open(ionex_file);\n",
    "lines = readlines(file)\n",
    "close(file)"
   ]
  },
  {
   "cell_type": "code",
   "execution_count": null,
   "metadata": {},
   "outputs": [],
   "source": [
    "using Dates\n",
    "index = 0\n",
    "numbers = []\n",
    "z = []\n",
    "lines_list = []\n",
    "for line in lines\n",
    "    index += 1\n",
    "    if occursin(r\"EPOCH OF CURRENT MAP\", line)\n",
    "        date = []\n",
    "        string = split(line)\n",
    "        for x in 1:6\n",
    "            push!(date,parse(Int,string[x]))\n",
    "        end\n",
    "        year = date[1]\n",
    "        month = date[2]\n",
    "        day = date[3]\n",
    "        hour = date[4]\n",
    "        minutes = date[5]\n",
    "        seconds = date[6]\n",
    "        #print(DateTime(year, month, day, hour, minutes, seconds), \"\\n\")\n",
    "    end\n",
    "    if occursin(r\"LAT/LON1/LON2/DLON/H\", line)\n",
    "        #print(index,\"\\n\")\n",
    "        #push!(lines_list, index)\n",
    "        #print(index, lines[index], \"\\n\")\n",
    "        numbers = split(lines[index + 1])\n",
    "        #for n in numbers\n",
    "        #    print(typeof(parse(Int,n)))\n",
    "        #end\n",
    "        #push!(z, parse(Int,lines[index + 1], \"\\n\")\n",
    "        #print(lines[index + 2], \"\\n\")\n",
    "        #print(lines[index + 3], \"\\n\")\n",
    "        #print(lines[index + 4], \"\\n\")\n",
    "        #print(lines[index + 5], \"\\n\")\n",
    "        print('\\n',index,'\\n')\n",
    "        for x in 1:5\n",
    "            numbers = split(lines[index + x])\n",
    "            for n in numbers\n",
    "                push!(z, n)\n",
    "            end\n",
    "        end\n",
    "    end\n",
    "end\n",
    "        "
   ]
  },
  {
   "cell_type": "code",
   "execution_count": 16,
   "metadata": {},
   "outputs": [],
   "source": [
    "\n",
    "open(\"depth.csv\",\"w\") do io\n",
    "    write(io,'x', '\\n')\n",
    "    for i in z\n",
    "        write(io,i,'\\n')\n",
    "    end\n",
    "end"
   ]
  },
  {
   "cell_type": "code",
   "execution_count": 18,
   "metadata": {},
   "outputs": [
    {
     "ename": "UndefVarError",
     "evalue": "UndefVarError: depth_array not defined",
     "output_type": "error",
     "traceback": [
      "UndefVarError: depth_array not defined",
      "",
      "Stacktrace:",
      " [1] top-level scope at In[18]:2"
     ]
    }
   ],
   "source": [
    "using Serialization \n",
    "serialize(depth_array, z)"
   ]
  },
  {
   "cell_type": "code",
   "execution_count": null,
   "metadata": {},
   "outputs": [],
   "source": [
    "using Gadfly\n",
    "set_default_plot_size(14cm, 8cm)\n",
    "plot(z=(x,y) -> x*exp(-(x-round(Int, x))^20-y^20),\n",
    "     xmin=[-180], xmax=[180], ymin=[-90], ymax=[90], Geom.contour)\n",
    "\n"
   ]
  },
  {
   "cell_type": "code",
   "execution_count": null,
   "metadata": {},
   "outputs": [],
   "source": []
  },
  {
   "cell_type": "code",
   "execution_count": null,
   "metadata": {},
   "outputs": [],
   "source": [
    "p1 = plot([sin,cos], 0, 2pi)\n",
    "p2 = plot((x,y)->sin(x)+cos(y), 0, 2pi, 0, 2pi)\n",
    "p3 = spy(ones(33)*sin.(0:(pi/16):2pi)' + cos.(0:(pi/16):2pi)*ones(33)')\n",
    "hstack(p1)"
   ]
  },
  {
   "cell_type": "code",
   "execution_count": null,
   "metadata": {},
   "outputs": [],
   "source": []
  }
 ],
 "metadata": {
  "kernelspec": {
   "display_name": "Julia 1.0.4",
   "language": "julia",
   "name": "julia-1.0"
  },
  "language_info": {
   "file_extension": ".jl",
   "mimetype": "application/julia",
   "name": "julia",
   "version": "1.0.4"
  }
 },
 "nbformat": 4,
 "nbformat_minor": 4
}
