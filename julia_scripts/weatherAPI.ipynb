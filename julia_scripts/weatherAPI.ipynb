{
 "cells": [
  {
   "cell_type": "code",
   "execution_count": 2,
   "metadata": {},
   "outputs": [
    {
     "name": "stderr",
     "output_type": "stream",
     "text": [
      "┌ Info: Precompiling HTTP [cd3eb016-35fb-5094-929b-558a96fad6f3]\n",
      "└ @ Base loading.jl:1273\n"
     ]
    }
   ],
   "source": [
    "using HTTP\n",
    "using Dates"
   ]
  },
  {
   "cell_type": "code",
   "execution_count": 3,
   "metadata": {},
   "outputs": [],
   "source": [
    "#=\n",
    "    DarkSky API has 2 features: Forecast and Timemachine.  Timemachine allows you to obtain historical\n",
    "    weather data.\n",
    "    format\n",
    "        forecast_url = https://api.darksky.net/forecast/[key]/[latitude],[longitude]\n",
    "\n",
    "        timemachine_url = https://api.darksky.net/forecast/[key]/[latitude],[longitude],[time]\n",
    "            time is unix timestamp. \n",
    "\n",
    "=#\n",
    " #=\n",
    "    For historical data, the unix_timestamp would have to be an array spaning the time frame of the desired\n",
    "    historical data.\n",
    "\n",
    "    Data has to be saved into a CSV format\n",
    "=#\n",
    "#= \n",
    "    In order to work with the earthquake dates which are given in UTC in the following form\n",
    "    2018-12-29T03:39:09.740Z\n",
    "    The \"Z\" indicating Zulu? or UTC time has to be stripped from the string.  A complex example would be as follows:\n",
    "    round(Int, Dates.datetime2unix(DateTime(\"2018-12-29T03:39:09.740Z\")))\n",
    "    which should give the result \n",
    "    1546054750\n",
    "    which roughly translates to Dec 29, 2018 at 3:39am UTC\n",
    "=#\n",
    "#=\n",
    "    The object provided by the weather api for historical data, includes sunrise and sunset time and perhaps temperature \n",
    "    either at sunrise/sunset or an hour that is close to that time which would be called the terminator. Time.  The first\n",
    "    call to the api would give us the sunrise/sunset and that could be used to get the temperature for sunrise/sunset\n",
    "    for the previous days as well as previous years\n",
    "=#"
   ]
  },
  {
   "cell_type": "code",
   "execution_count": 4,
   "metadata": {},
   "outputs": [
    {
     "data": {
      "text/plain": [
       "\"https://api.darksky.net/forecast\""
      ]
     },
     "execution_count": 4,
     "metadata": {},
     "output_type": "execute_result"
    }
   ],
   "source": [
    "latitude = 5.8983\n",
    "longitude = 126.9209\n",
    "earthquake_datetime = \"2017-12-29T18:00:00.000Z\"\n",
    "base_url = \"https://api.darksky.net/forecast\""
   ]
  },
  {
   "cell_type": "code",
   "execution_count": 5,
   "metadata": {},
   "outputs": [
    {
     "data": {
      "text/plain": [
       "read_apikey (generic function with 1 method)"
      ]
     },
     "execution_count": 5,
     "metadata": {},
     "output_type": "execute_result"
    }
   ],
   "source": [
    "function read_apikey(apikey_file)\n",
    "    key = open(apikey_file) do file\n",
    "          readlines(file)\n",
    "        end \n",
    "    return String(key[1])\n",
    "end"
   ]
  },
  {
   "cell_type": "code",
   "execution_count": 6,
   "metadata": {},
   "outputs": [
    {
     "name": "stdout",
     "output_type": "stream",
     "text": [
      "Done reading apikey!\n"
     ]
    }
   ],
   "source": [
    "apikey = read_apikey(\"/home/antonio/Repos/iono2/julia_scripts/darksky_api.txt\")\n",
    "println(\"Done reading apikey!\")"
   ]
  },
  {
   "cell_type": "code",
   "execution_count": 7,
   "metadata": {},
   "outputs": [
    {
     "data": {
      "text/plain": [
       "unix_time (generic function with 1 method)"
      ]
     },
     "execution_count": 7,
     "metadata": {},
     "output_type": "execute_result"
    }
   ],
   "source": [
    "function unix_time(earthquake_time)\n",
    "    println(earthquake_time)\n",
    "    # remove the last char (Z) from earthquake_time, ex, 2018-12-29T03:39:09.740Z\n",
    "    eq_time = strip(earthquake_time, last(earthquake_time))\n",
    "    println(\"Removed the last char from $earthquake_time\")\n",
    "    round(Int, Dates.datetime2unix(DateTime(eq_time)))\n",
    "end"
   ]
  },
  {
   "cell_type": "code",
   "execution_count": 8,
   "metadata": {},
   "outputs": [
    {
     "data": {
      "text/plain": [
       "darksky_api_call (generic function with 1 method)"
      ]
     },
     "execution_count": 8,
     "metadata": {},
     "output_type": "execute_result"
    }
   ],
   "source": [
    "function darksky_api_call(url)\n",
    "    try\n",
    "        response = HTTP.get(url)\n",
    "        return String(response.body)\n",
    "        catch e\n",
    "        return \"Error occured: $e\"\n",
    "    end\n",
    "end"
   ]
  },
  {
   "cell_type": "code",
   "execution_count": 17,
   "metadata": {},
   "outputs": [
    {
     "data": {
      "text/plain": [
       "historical_weather (generic function with 1 method)"
      ]
     },
     "execution_count": 17,
     "metadata": {},
     "output_type": "execute_result"
    }
   ],
   "source": [
    "function historical_weather(latitude, longitude, earthquake_datetime)\n",
    "    println(\"Looking up info for Latitude $latitude, longitud $longitude and earthquake_time $earthquake_datetime\\n\")\n",
    "    unix_timestamp = unix_time(earthquake_datetime)\n",
    "    historical_temperature_url = base_url * \"/\" * apikey * \"/\" * string(latitude) * \",\" * string(longitude) * \",\" * string(unix_timestamp)\n",
    "    println(\"unix_time stamp : $unix_timestamp\", \"\\n$historical_temperature_url\")\n",
    "    darksky_api_call(historical_temperature_url)\n",
    "end"
   ]
  },
  {
   "cell_type": "code",
   "execution_count": 18,
   "metadata": {},
   "outputs": [
    {
     "data": {
      "text/plain": [
       "forecast_weather (generic function with 1 method)"
      ]
     },
     "execution_count": 18,
     "metadata": {},
     "output_type": "execute_result"
    }
   ],
   "source": [
    "function forecast_weather(latitude, longitude)\n",
    "    forecast_url = base_url * \"/\" * apikey * \"/\" * string(latitude) * \",\" * string(longitud)\n",
    "    darksky_api_call(forecast_url)\n",
    "end"
   ]
  },
  {
   "cell_type": "code",
   "execution_count": 19,
   "metadata": {},
   "outputs": [
    {
     "name": "stdout",
     "output_type": "stream",
     "text": [
      "Looking up info for Latitude 5.8983, longitud 126.9209 and earthquake_time 2017-12-29T18:00:00.000Z\n",
      "\n",
      "2017-12-29T18:00:00.000Z\n",
      "Removed the last char from 2017-12-29T18:00:00.000Z\n",
      "unix_time stamp : 1514570400\n",
      "https://api.darksky.net/forecast/df7160dd597d0332eb4508c91fab3853/5.8983,126.9209,1514570400\n"
     ]
    },
    {
     "data": {
      "text/plain": [
       "\"{\\\"latitude\\\":5.8983,\\\"longitude\\\":126.9209,\\\"timezone\\\":\\\"Asia/Makassar\\\",\\\"currently\\\":{\\\"time\\\":1514570400,\\\"uvIndex\\\":0},\\\"flags\\\":{\\\"sources\\\":[\\\"cmc\\\",\\\"gfs\\\",\\\"icon\\\",\\\"isd\\\",\\\"madis\\\"],\\\"units\\\":\\\"us\\\"},\\\"offset\\\":8}\\n\""
      ]
     },
     "execution_count": 19,
     "metadata": {},
     "output_type": "execute_result"
    }
   ],
   "source": [
    "historical = historical_weather(latitude, longitude, earthquake_datetime)"
   ]
  },
  {
   "cell_type": "code",
   "execution_count": 21,
   "metadata": {},
   "outputs": [
    {
     "data": {
      "text/plain": [
       "\"{\\\"latitude\\\":5.8983,\\\"longitude\\\":126.9209,\\\"timezone\\\":\\\"Asia/Makassar\\\",\\\"currently\\\":{\\\"time\\\":1514570400,\\\"uvIndex\\\":0},\\\"flags\\\":{\\\"sources\\\":[\\\"cmc\\\",\\\"gfs\\\",\\\"icon\\\",\\\"isd\\\",\\\"madis\\\"],\\\"units\\\":\\\"us\\\"},\\\"offset\\\":8}\\n\""
      ]
     },
     "execution_count": 21,
     "metadata": {},
     "output_type": "execute_result"
    }
   ],
   "source": [
    "historical"
   ]
  },
  {
   "cell_type": "code",
   "execution_count": 22,
   "metadata": {},
   "outputs": [
    {
     "ename": "UndefVarError",
     "evalue": "UndefVarError: longitud not defined",
     "output_type": "error",
     "traceback": [
      "UndefVarError: longitud not defined",
      "",
      "Stacktrace:",
      " [1] forecast_weather(::Float64, ::Float64) at ./In[18]:2",
      " [2] top-level scope at In[22]:1"
     ]
    }
   ],
   "source": [
    "#forecast_urls\n",
    "forcast = forecast_weather(latitude, longitude)"
   ]
  },
  {
   "cell_type": "code",
   "execution_count": 23,
   "metadata": {},
   "outputs": [
    {
     "name": "stdout",
     "output_type": "stream",
     "text": [
      "2018-12-29T03:39:09.740Z\n",
      "Removed the last char from 2018-12-29T03:39:09.740Z\n"
     ]
    },
    {
     "data": {
      "text/plain": [
       "1546054750"
      ]
     },
     "execution_count": 23,
     "metadata": {},
     "output_type": "execute_result"
    }
   ],
   "source": [
    "unix_timestamp = unix_time(\"2018-12-29T03:39:09.740Z\")"
   ]
  },
  {
   "cell_type": "code",
   "execution_count": 24,
   "metadata": {},
   "outputs": [
    {
     "ename": "UndefVarError",
     "evalue": "UndefVarError: earthquake_time not defined",
     "output_type": "error",
     "traceback": [
      "UndefVarError: earthquake_time not defined",
      "",
      "Stacktrace:",
      " [1] top-level scope at In[24]:1"
     ]
    }
   ],
   "source": [
    "earthquake_time"
   ]
  },
  {
   "cell_type": "code",
   "execution_count": 25,
   "metadata": {},
   "outputs": [
    {
     "ename": "UndefVarError",
     "evalue": "UndefVarError: historical_temperature_url not defined",
     "output_type": "error",
     "traceback": [
      "UndefVarError: historical_temperature_url not defined",
      "",
      "Stacktrace:",
      " [1] top-level scope at In[25]:1"
     ]
    }
   ],
   "source": [
    "historical_temperature_url"
   ]
  },
  {
   "cell_type": "code",
   "execution_count": null,
   "metadata": {},
   "outputs": [],
   "source": []
  },
  {
   "cell_type": "code",
   "execution_count": null,
   "metadata": {},
   "outputs": [],
   "source": []
  }
 ],
 "metadata": {
  "kernelspec": {
   "display_name": "Julia 1.3.1",
   "language": "julia",
   "name": "julia-1.3"
  },
  "language_info": {
   "file_extension": ".jl",
   "mimetype": "application/julia",
   "name": "julia",
   "version": "1.3.1"
  }
 },
 "nbformat": 4,
 "nbformat_minor": 4
}
