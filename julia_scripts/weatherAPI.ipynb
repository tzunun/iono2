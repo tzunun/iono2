{
 "cells": [
  {
   "cell_type": "code",
   "execution_count": 2,
   "metadata": {},
   "outputs": [
    {
     "name": "stderr",
     "output_type": "stream",
     "text": [
      "┌ Info: Precompiling HTTP [cd3eb016-35fb-5094-929b-558a96fad6f3]\n",
      "└ @ Base loading.jl:1260\n"
     ]
    }
   ],
   "source": [
    "using HTTP\n",
    "using Dates"
   ]
  },
  {
   "cell_type": "code",
   "execution_count": 3,
   "metadata": {},
   "outputs": [],
   "source": [
    "#=\n",
    "    DarkSky API has 2 features: Forecast and Timemachine.  Timemachine allows you to obtain historical\n",
    "    weather data.\n",
    "    format\n",
    "        forecast_url = https://api.darksky.net/forecast/[key]/[latitude],[longitude]\n",
    "\n",
    "        timemachine_url = https://api.darksky.net/forecast/[key]/[latitude],[longitude],[time]\n",
    "            time is unix timestamp. \n",
    "\n",
    "=#\n",
    " #=\n",
    "    For historical data, the unix_timestamp would have to be an array spaning the time frame of the desired\n",
    "    historical data.\n",
    "\n",
    "    Data has to be saved into a CSV format\n",
    "=#\n",
    "#= \n",
    "    In order to work with the earthquake dates which are given in UTC in the following form\n",
    "    2018-12-29T03:39:09.740Z\n",
    "    The \"Z\" indicating Zulu? or UTC time has to be stripped from the string.  A complex example would be as follows:\n",
    "    round(Int, Dates.datetime2unix(DateTime(\"2018-12-29T03:39:09.740Z\")))\n",
    "    which should give the result \n",
    "    1546054750\n",
    "    which roughly translates to Dec 29, 2018 at 3:39am UTC\n",
    "=#\n",
    "#=\n",
    "    The object provided by the weather api for historical data, includes sunrise and sunset time and perhaps temperature \n",
    "    either at sunrise/sunset or an hour that is close to that time which would be called the terminator. Time.  The first\n",
    "    call to the api would give us the sunrise/sunset and that could be used to get the temperature for sunrise/sunset\n",
    "    for the previous days as well as previous years\n",
    "=#"
   ]
  },
  {
   "cell_type": "code",
   "execution_count": 24,
   "metadata": {},
   "outputs": [
    {
     "data": {
      "text/plain": [
       "\"https://api.darksky.net/forecast\""
      ]
     },
     "execution_count": 24,
     "metadata": {},
     "output_type": "execute_result"
    }
   ],
   "source": [
    "latitude = 6.9551\n",
    "longitude = 126.2166\n",
    "earthquake_datetime = \"2000-01-08T16:47:20.580Z\"\n",
    "base_url = \"https://api.darksky.net/forecast\""
   ]
  },
  {
   "cell_type": "code",
   "execution_count": 5,
   "metadata": {},
   "outputs": [
    {
     "data": {
      "text/plain": [
       "read_apikey (generic function with 1 method)"
      ]
     },
     "execution_count": 5,
     "metadata": {},
     "output_type": "execute_result"
    }
   ],
   "source": [
    "function read_apikey(apikey_file)\n",
    "    key = open(apikey_file) do file\n",
    "          readlines(file)\n",
    "        end \n",
    "    return String(key[1])\n",
    "end"
   ]
  },
  {
   "cell_type": "code",
   "execution_count": 6,
   "metadata": {},
   "outputs": [
    {
     "name": "stdout",
     "output_type": "stream",
     "text": [
      "Done reading apikey!\n"
     ]
    }
   ],
   "source": [
    "apikey = read_apikey(\"/home/antonio/Repos/iono2/julia_scripts/darksky_api.txt\")\n",
    "println(\"Done reading apikey!\")"
   ]
  },
  {
   "cell_type": "code",
   "execution_count": 7,
   "metadata": {},
   "outputs": [
    {
     "data": {
      "text/plain": [
       "unix_time (generic function with 1 method)"
      ]
     },
     "execution_count": 7,
     "metadata": {},
     "output_type": "execute_result"
    }
   ],
   "source": [
    "function unix_time(earthquake_time)\n",
    "    println(earthquake_time)\n",
    "    # remove the last char (Z) from earthquake_time, ex, 2018-12-29T03:39:09.740Z\n",
    "    eq_time = strip(earthquake_time, last(earthquake_time))\n",
    "    println(\"Removed the last char from $earthquake_time\")\n",
    "    round(Int, Dates.datetime2unix(DateTime(eq_time)))\n",
    "end"
   ]
  },
  {
   "cell_type": "code",
   "execution_count": 8,
   "metadata": {},
   "outputs": [
    {
     "data": {
      "text/plain": [
       "darksky_api_call (generic function with 1 method)"
      ]
     },
     "execution_count": 8,
     "metadata": {},
     "output_type": "execute_result"
    }
   ],
   "source": [
    "function darksky_api_call(url)\n",
    "    try\n",
    "        response = HTTP.get(url)\n",
    "        return String(response.body)\n",
    "        catch e\n",
    "        return \"Error occured: $e\"\n",
    "    end\n",
    "end"
   ]
  },
  {
   "cell_type": "code",
   "execution_count": 9,
   "metadata": {},
   "outputs": [
    {
     "data": {
      "text/plain": [
       "historical_weather (generic function with 1 method)"
      ]
     },
     "execution_count": 9,
     "metadata": {},
     "output_type": "execute_result"
    }
   ],
   "source": [
    "function historical_weather(latitude, longitude, earthquake_datetime)\n",
    "    println(\"Looking up info for Latitude $latitude, longitud $longitude and earthquake_time $earthquake_datetime\\n\")\n",
    "    unix_timestamp = unix_time(earthquake_datetime)\n",
    "    historical_temperature_url = base_url * \"/\" * apikey * \"/\" * string(latitude) * \",\" * string(longitude) * \",\" * string(unix_timestamp)\n",
    "    println(\"unix_time stamp : $unix_timestamp\", \"\\n$historical_temperature_url\")\n",
    "    darksky_api_call(historical_temperature_url)\n",
    "end"
   ]
  },
  {
   "cell_type": "code",
   "execution_count": 14,
   "metadata": {},
   "outputs": [
    {
     "data": {
      "text/plain": [
       "forecast_weather (generic function with 1 method)"
      ]
     },
     "execution_count": 14,
     "metadata": {},
     "output_type": "execute_result"
    }
   ],
   "source": [
    "function forecast_weather(latitude, longitude)\n",
    "    forecast_url = base_url * \"/\" * apikey * \"/\" * string(latitude) * \",\" * string(longitude)\n",
    "    darksky_api_call(forecast_url)\n",
    "end"
   ]
  },
  {
   "cell_type": "code",
   "execution_count": 25,
   "metadata": {},
   "outputs": [
    {
     "name": "stdout",
     "output_type": "stream",
     "text": [
      "Looking up info for Latitude 6.9551, longitud 126.2166 and earthquake_time 2000-01-08T16:47:20.580Z\n",
      "\n",
      "2000-01-08T16:47:20.580Z\n",
      "Removed the last char from 2000-01-08T16:47:20.580Z\n",
      "unix_time stamp : 947350041\n",
      "https://api.darksky.net/forecast/df7160dd597d0332eb4508c91fab3853/6.9551,126.2166,947350041\n"
     ]
    },
    {
     "data": {
      "text/plain": [
       "\"{\\\"latitude\\\":6.9551,\\\"longitude\\\":126.2166,\\\"timezone\\\":\\\"Asia/Manila\\\",\\\"currently\\\":{\\\"time\\\":947350041,\\\"uvIndex\\\":0},\\\"flags\\\":{\\\"sources\\\":[\\\"cmc\\\",\\\"gfs\\\",\\\"icon\\\",\\\"isd\\\",\\\"madis\\\"],\\\"nearest-station\\\":40.896,\\\"units\\\":\\\"us\\\"},\\\"offset\\\":8}\\n\""
      ]
     },
     "execution_count": 25,
     "metadata": {},
     "output_type": "execute_result"
    }
   ],
   "source": [
    "historical = historical_weather(latitude, longitude, earthquake_datetime)"
   ]
  },
  {
   "cell_type": "code",
   "execution_count": 26,
   "metadata": {},
   "outputs": [
    {
     "data": {
      "text/plain": [
       "\"{\\\"latitude\\\":6.9551,\\\"longitude\\\":126.2166,\\\"timezone\\\":\\\"Asia/Manila\\\",\\\"currently\\\":{\\\"time\\\":947350041,\\\"uvIndex\\\":0},\\\"flags\\\":{\\\"sources\\\":[\\\"cmc\\\",\\\"gfs\\\",\\\"icon\\\",\\\"isd\\\",\\\"madis\\\"],\\\"nearest-station\\\":40.896,\\\"units\\\":\\\"us\\\"},\\\"offset\\\":8}\\n\""
      ]
     },
     "execution_count": 26,
     "metadata": {},
     "output_type": "execute_result"
    }
   ],
   "source": [
    "historical"
   ]
  },
  {
   "cell_type": "code",
   "execution_count": 27,
   "metadata": {},
   "outputs": [
    {
     "data": {
      "text/plain": [
       "\"{\\\"latitude\\\":6.9551,\\\"longitude\\\":126.2166,\\\"timezone\\\":\\\"Asia/Manila\\\",\\\"currently\\\":{\\\"time\\\":1594265749,\\\"summary\\\":\\\"Humid and Mostly Cloudy\\\",\\\"icon\\\":\\\"partly-cloudy-day\\\",\\\"precipIntensity\\\":0.0025,\\\"precipProbability\\\":0.06,\\\"precipType\\\":\\\"rain\\\",\\\"temperature\\\":89.55,\\\"apparentTemperature\\\":101.53,\\\"dewPoint\\\":76.28,\\\"humidity\\\":0.65,\\\"pressure\\\":1008.3,\\\"windSpeed\\\":5.36,\\\"windGust\\\":5.81,\\\"windBearing\\\":151,\\\"cloudCover\\\":0.62,\\\"uvIndex\\\":8,\\\"visibility\\\":10,\\\"ozone\\\":263.4},\\\"hourly\\\":{\\\"summary\\\":\\\"Possible light rain tomorrow morning.\\\",\\\"icon\\\":\\\"rain\\\",\\\"data\\\":[{\\\"time\\\":1594263600,\\\"summary\\\":\\\"Humid and Mostly Cloudy\\\",\\\"icon\\\":\\\"partly-cloudy-day\\\",\\\"precipIntensity\\\":0.0022,\\\"precipProbability\\\":0.05,\\\"precipType\\\":\\\"rain\\\",\\\"temperature\\\":89.03,\\\"apparentTemperature\\\":100.65,\\\"dewPoint\\\":76.16,\\\"humidity\\\":0.66,\\\"pressure\\\":1008.7,\\\"windSpeed\\\":4.71,\\\"windGust\\\":5.16,\\\"windBearing\\\":157,\\\"cloudCover\\\":0.65,\\\"uvIndex\\\":7,\\\"visibility\\\":10,\\\"ozone\\\":263.7},{\\\"time\\\":1594267200,\\\"summary\\\":\\\"Humid and Mostly Cloudy\\\",\\\"icon\\\":\\\"partly-cloudy-day\\\",\\\"precipIntensity\\\":0.0026,\\\"precipProbability\\\":0.06,\\\"precipType\\\":\\\"rain\\\",\\\"temperature\\\":89.77,\\\"apparentTemperature\\\":101.92,\\\"dewPoint\\\":76.34,\\\"humidity\\\":0.65,\\\"pressure\\\":1008.1,\\\"windSpeed\\\":5.73,\\\"windGust\\\":6.16,\\\"windBearing\\\":149,\\\"cloudCover\\\":0.62,\\\"uvIndex\\\":8,\\\"visibility\\\":10,\\\"ozone\\\":263.2},{\\\"time\\\":1594270800,\\\"summary\\\":\\\"Humid and Mostly Cloudy\\\",\\\"icon\\\":\\\"partly-cloudy-day\\\",\\\"precipIntensity\\\":0.0023,\\\"precipProbability\\\":0.08,\\\"precipType\\\":\\\"rain\\\",\\\"temperature\\\":89.98,\\\"apparentTemperature\\\":102.16,\\\"dewPoint\\\":76.3,\\\"humidity\\\":0.64,\\\"pressure\\\":1007.5,\\\"windSpeed\\\":6.4,\\\"windGust\\\":6.78,\\\"windBearing\\\":148,\\\"cloudCover\\\":0.79,\\\"uvIndex\\\":6,\\\"visibility\\\":10,\\\"ozone\\\":262.6},{\\\"time\\\":1594274400,\\\"summary\\\":\\\"Humid and Mostly Cloudy\\\",\\\"icon\\\":\\\"partly-cloudy-day\\\",\\\"precipIntensity\\\":0.0027,\\\"precipProbability\\\":0.09,\\\"precipType\\\":\\\"rain\\\",\\\"temperature\\\":89.55,\\\"apparentTemperature\\\":102.06,\\\"dewPoint\\\":76.68,\\\"humidity\\\":0.66,\\\"pressure\\\":1007,\\\"windSpeed\\\":6.58,\\\"windGust\\\":6.97,\\\"windBearing\\\":147,\\\"cloudCover\\\":0.74,\\\"uvIndex\\\":5,\\\"visibility\\\":10,\\\"ozone\\\":262},{\\\"time\\\":1594278000,\\\"summary\\\":\\\"Humid and Mostly Cloudy\\\",\\\"icon\\\":\\\"partly-cloudy-day\\\",\\\"precipIntensity\\\":0.0033,\\\"precipProbability\\\":0.1,\\\"precipType\\\":\\\"rain\\\",\\\"temperature\\\":88.14,\\\"apparentTemperature\\\":100.47,\\\"dewPoint\\\":77.02,\\\"humidity\\\":0.7,\\\"pressure\\\":1006.8,\\\"windSpeed\\\":6.21,\\\"windGust\\\":6.65,\\\"windBearing\\\":149,\\\"cloudCover\\\":0.87,\\\"uvIndex\\\":3,\\\"visibility\\\":10,\\\"ozone\\\":261.3},{\\\"time\\\":1594281600,\\\"summary\\\":\\\"Humid and Mostly Cloudy\\\",\\\"icon\\\":\\\"partly-cloudy-day\\\",\\\"precipIntensity\\\":0.0057,\\\"precipProbability\\\":0.11,\\\"precipType\\\":\\\"rain\\\",\\\"temperature\\\":86.63,\\\"apparentTemperature\\\":98.78,\\\"dewPoint\\\":77.51,\\\"humidity\\\":0.74,\\\"pressure\\\":1006.7,\\\"windSpeed\\\":5.28,\\\"windGust\\\":5.95,\\\"windBearing\\\":149,\\\"cloudCover\\\":0.85,\\\"uvIndex\\\":2,\\\"visibility\\\":10,\\\"ozone\\\":260.6},{\\\"time\\\":1594285200,\\\"summary\\\":\\\"Humid and Overcast\\\",\\\"icon\\\":\\\"cloudy\\\",\\\"precipIntensity\\\":0.0039,\\\"precipProbability\\\":0.1,\\\"precipType\\\":\\\"rain\\\",\\\"temperature\\\":85.27,\\\"apparentTemperature\\\":97.01,\\\"dewPoint\\\":77.9,\\\"humidity\\\":0.79,\\\"pressure\\\":1007.2,\\\"windSpeed\\\":4.14,\\\"windGust\\\":5.68,\\\"windBearing\\\":149,\\\"cloudCover\\\":0.94,\\\"uvIndex\\\":0,\\\"visibility\\\":10,\\\"ozone\\\":260.1},{\\\"time\\\":1594288800,\\\"summary\\\":\\\"Humid and Overcast\\\",\\\"icon\\\":\\\"cloudy\\\",\\\"precipIntensity\\\":0.0031,\\\"precipProbability\\\":0.11,\\\"precipType\\\":\\\"rain\\\",\\\"temperature\\\":84.02,\\\"apparentTemperature\\\":94.56,\\\"dewPoint\\\":77.7,\\\"humidity\\\":0.81,\\\"pressure\\\":1007.8,\\\"windSpeed\\\":3.48,\\\"windGust\\\":5.75,\\\"windBearing\\\":139,\\\"cloudCover\\\":0.94,\\\"uvIndex\\\":0,\\\"visibility\\\":10,\\\"ozone\\\":260.1},{\\\"time\\\":1594292400,\\\"summary\\\":\\\"Humid and Overcast\\\",\\\"icon\\\":\\\"cloudy\\\",\\\"precipIntensity\\\":0.001,\\\"precipProbability\\\":0.09,\\\"precipType\\\":\\\"rain\\\",\\\"temperature\\\":82.78,\\\"apparentTemperature\\\":92.15,\\\"dewPoint\\\":77.64,\\\"humidity\\\":0.85,\\\"pressure\\\":1008.5,\\\"windSpeed\\\":2.9,\\\"windGust\\\":5.95,\\\"windBearing\\\":125,\\\"cloudCover\\\":0.93,\\\"uvIndex\\\":0,\\\"visibility\\\":10,\\\"ozone\\\":260.6},{\\\"time\\\":1594296000,\\\"summary\\\":\\\"Humid and Overcast\\\",\\\"icon\\\":\\\"cloudy\\\",\\\"precipIntensity\\\":0.0007,\\\"precipProbability\\\":0.07,\\\"precipType\\\":\\\"rain\\\",\\\"temperature\\\":81.58,\\\"apparentTemperature\\\":89.34,\\\"dewPoint\\\":77.01,\\\"humidity\\\":0.86,\\\"pressure\\\":1009.1,\\\"windSpeed\\\":2.61,\\\"windGust\\\":6.03,\\\"windBearing\\\":105,\\\"cloudCover\\\":0.88,\\\"uvIndex\\\":0,\\\"visibility\\\":10,\\\"ozone\\\":260.6},{\\\"time\\\":1594299600,\\\"summary\\\":\\\"Humid and Mostly Cloudy\\\",\\\"icon\\\":\\\"partly-cloudy-night\\\",\\\"precipIntensity\\\":0.0003,\\\"precipProbability\\\":0.07,\\\"precipType\\\":\\\"rain\\\",\\\"temperature\\\":80.92,\\\"apparentTemperature\\\":87.76,\\\"dewPoint\\\":76.56,\\\"humidity\\\":0.87,\\\"pressure\\\":1009.7,\\\"windSpeed\\\":2.66,\\\"windGust\\\":5.89,\\\"windBearing\\\":82,\\\"cloudCover\\\":0.69,\\\"uvIndex\\\":0,\\\"visibility\\\":10,\\\"ozone\\\":260.6},{\\\"time\\\":1594303200,\\\"summary\\\":\\\"Humid and Mostly Cloudy\\\",\\\"icon\\\":\\\"partly-cloudy-night\\\",\\\"precipIntensity\\\":0,\\\"precipProbability\\\":0,\\\"temperature\\\":80.55,\\\"apparentTemperature\\\":86.66,\\\"dewPoint\\\":76.06,\\\"humidity\\\":0.86,\\\"pressure\\\":1009.7,\\\"windSpeed\\\":2.83,\\\"windGust\\\":5.64,\\\"windBearing\\\":59,\\\"cloudCover\\\":0.64,\\\"uvIndex\\\":0,\\\"visibility\\\":10,\\\"ozone\\\":260.4},{\\\"time\\\":1594306800,\\\"summary\\\":\\\"Humid and Mostly Cloudy\\\",\\\"icon\\\":\\\"partly-cloudy-night\\\",\\\"precipIntensity\\\":0,\\\"precipProbability\\\":0,\\\"temperature\\\":80.02,\\\"apparentTemperature\\\":85.25,\\\"dewPoint\\\":75.46,\\\"humidity\\\":0.86,\\\"pressure\\\":1009.4,\\\"windSpeed\\\":2.85,\\\"windGust\\\":5.35,\\\"windBearing\\\":41,\\\"cloudCover\\\":0.64,\\\"uvIndex\\\":0,\\\"visibility\\\":10,\\\"ozone\\\":260.2},{\\\"time\\\":1594310400,\\\"summary\\\":\\\"Humid and Mostly Cloudy\\\",\\\"icon\\\":\\\"partly-cloudy-night\\\",\\\"precipIntensity\\\":0,\\\"precipProbability\\\":0,\\\"temperature\\\":79.49,\\\"apparentTemperature\\\":83.84,\\\"dewPoint\\\":75.01,\\\"humidity\\\":0.86,\\\"pressure\\\":1009.3,\\\"windSpeed\\\":2.95,\\\"windGust\\\":5.02,\\\"windBearing\\\":31,\\\"cloudCover\\\":0.63,\\\"uvIndex\\\":0,\\\"visibility\\\":10,\\\"ozone\\\":260.1},{\\\"time\\\":1594314000,\\\"summary\\\":\\\"Humid and Partly Cloudy\\\",\\\"icon\\\":\\\"partly-cloudy-night\\\",\\\"precipIntensity\\\":0.0004,\\\"precipProbability\\\":0.09,\\\"precipType\\\":\\\"rain\\\",\\\"temperature\\\":79.07,\\\"apparentTemperature\\\":82.91,\\\"dewPoint\\\":74.88,\\\"humidity\\\":0.87,\\\"pressure\\\":1009.2,\\\"windSpeed\\\":2.95,\\\"windGust\\\":4.67,\\\"windBearing\\\":26,\\\"cloudCover\\\":0.54,\\\"uvIndex\\\":0,\\\"visibility\\\":10,\\\"ozone\\\":260},{\\\"time\\\":1594317600,\\\"summary\\\":\\\"Humid and Partly Cloudy\\\",\\\"icon\\\":\\\"partly-cloudy-night\\\",\\\"precipIntensity\\\":0.001,\\\"precipProbability\\\":0.09,\\\"precipType\\\":\\\"rain\\\",\\\"temperature\\\":78.82,\\\"apparentTemperature\\\":82.36,\\\"dewPoint\\\":74.83,\\\"humidity\\\":0.88,\\\"pressure\\\":1008.7,\\\"windSpeed\\\":2.93,\\\"windGust\\\":4.39,\\\"windBearing\\\":24,\\\"cloudCover\\\":0.47,\\\"uvIndex\\\":0,\\\"visibility\\\":10,\\\"ozone\\\":260},{\\\"time\\\":1594321200,\\\"summary\\\":\\\"Humid and Partly Cloudy\\\",\\\"icon\\\":\\\"partly-cloudy-night\\\",\\\"precipIntensity\\\":0.0015,\\\"precipProbability\\\":0.1,\\\"precipType\\\":\\\"rain\\\",\\\"temperature\\\":78.05,\\\"apparentTemperature\\\":79.68,\\\"dewPoint\\\":74.11,\\\"humidity\\\":0.88,\\\"pressure\\\":1008.6,\\\"windSpeed\\\":2.99,\\\"windGust\\\":4.33,\\\"windBearing\\\":17,\\\"cloudCover\\\":0.4,\\\"uvIndex\\\":0,\\\"visibility\\\":10,\\\"ozone\\\":260.2},{\\\"time\\\":1594324800,\\\"summary\\\":\\\"Humid\\\",\\\"icon\\\":\\\"clear-night\\\",\\\"precipIntensity\\\":0.0021,\\\"precipProbability\\\":0.14,\\\"precipType\\\":\\\"rain\\\",\\\"temperature\\\":77.63,\\\"apparentTemperature\\\":79.25,\\\"dewPoint\\\":73.95,\\\"humidity\\\":0.88,\\\"pressure\\\":1008.7,\\\"windSpeed\\\":3.12,\\\"windGust\\\":4.37,\\\"windBearing\\\":12,\\\"cloudCover\\\":0.3,\\\"uvIndex\\\":0,\\\"visibility\\\":10,\\\"ozone\\\":260.5},{\\\"time\\\":1594328400,\\\"summary\\\":\\\"Humid\\\",\\\"icon\\\":\\\"clear-night\\\",\\\"precipIntensity\\\":0.0026,\\\"precipProbability\\\":0.15,\\\"precipType\\\":\\\"rain\\\",\\\"temperature\\\":77.83,\\\"apparentTemperature\\\":79.41,\\\"dewPoint\\\":73.69,\\\"humidity\\\":0.87,\\\"pressure\\\":1009,\\\"windSpeed\\\":3.04,\\\"windGust\\\":4.31,\\\"windBearing\\\":11,\\\"cloudCover\\\":0.25,\\\"uvIndex\\\":0,\\\"visibility\\\":10,\\\"ozone\\\":260.4},{\\\"time\\\":1594332000,\\\"summary\\\":\\\"Humid and Partly Cloudy\\\",\\\"icon\\\":\\\"partly-cloudy-day\\\",\\\"precipIntensity\\\":0.0021,\\\"precipProbability\\\":0.14,\\\"precipType\\\":\\\"rain\\\",\\\"temperature\\\":79.25,\\\"apparentTemperature\\\":83.14,\\\"dewPoint\\\":74.26,\\\"humidity\\\":0.85,\\\"pressure\\\":1009.4,\\\"windSpeed\\\":2.62,\\\"windGust\\\":4.03,\\\"windBearing\\\":11,\\\"cloudCover\\\":0.57,\\\"uvIndex\\\":0,\\\"visibility\\\":10,\\\"ozone\\\":259.2},{\\\"time\\\":1594335600,\\\"summary\\\":\\\"Humid and Partly Cloudy\\\",\\\"icon\\\":\\\"partly-cloudy-day\\\",\\\"precipIntensity\\\":0.0016,\\\"precipProbability\\\":0.11,\\\"precipType\\\":\\\"rain\\\",\\\"temperature\\\":82.26,\\\"apparentTemperature\\\":89.46,\\\"dewPoint\\\":75.51,\\\"humidity\\\":0.8,\\\"pressure\\\":1009.9,\\\"windSpeed\\\":1.67,\\\"windGust\\\":3.65,\\\"windBearing\\\":11,\\\"cloudCover\\\":0.32,\\\"uvIndex\\\":1,\\\"visibility\\\":10,\\\"ozone\\\":257.7},{\\\"time\\\":1594339200,\\\"summary\\\":\\\"Humid and Partly Cloudy\\\",\\\"icon\\\":\\\"partly-cloudy-day\\\",\\\"precipIntensity\\\":0.0018,\\\"precipProbability\\\":0.11,\\\"precipType\\\":\\\"rain\\\",\\\"temperature\\\":84.43,\\\"apparentTemperature\\\":93.71,\\\"dewPoint\\\":76.15,\\\"humidity\\\":0.76,\\\"pressure\\\":1010.2,\\\"windSpeed\\\":1.35,\\\"windGust\\\":3.33,\\\"windBearing\\\":48,\\\"cloudCover\\\":0.34,\\\"uvIndex\\\":3,\\\"visibility\\\":10,\\\"ozone\\\":256.4},{\\\"time\\\":1594342800,\\\"summary\\\":\\\"Humid and Partly Cloudy\\\",\\\"icon\\\":\\\"partly-cloudy-day\\\",\\\"precipIntensity\\\":0.0038,\\\"precipProbability\\\":0.15,\\\"precipType\\\":\\\"rain\\\",\\\"temperature\\\":85.55,\\\"apparentTemperature\\\":95.93,\\\"dewPoint\\\":76.55,\\\"humidity\\\":0.75,\\\"pressure\\\":1010.3,\\\"windSpeed\\\":2.18,\\\"windGust\\\":3.07,\\\"windBearing\\\":46,\\\"cloudCover\\\":0.52,\\\"uvIndex\\\":5,\\\"visibility\\\":10,\\\"ozone\\\":255.5},{\\\"time\\\":1594346400,\\\"summary\\\":\\\"Humid and Mostly Cloudy\\\",\\\"icon\\\":\\\"partly-cloudy-day\\\",\\\"precipIntensity\\\":0.0087,\\\"precipProbability\\\":0.2,\\\"precipType\\\":\\\"rain\\\",\\\"temperature\\\":85.96,\\\"apparentTemperature\\\":96.71,\\\"dewPoint\\\":76.65,\\\"humidity\\\":0.74,\\\"pressure\\\":1010.2,\\\"windSpeed\\\":3.33,\\\"windGust\\\":3.7,\\\"windBearing\\\":77,\\\"cloudCover\\\":0.75,\\\"uvIndex\\\":6,\\\"visibility\\\":10,\\\"ozone\\\":255.1},{\\\"time\\\":1594350000,\\\"summary\\\":\\\"Humid and Overcast\\\",\\\"icon\\\":\\\"cloudy\\\",\\\"precipIntensity\\\":0.0132,\\\"precipProbability\\\":0.23,\\\"precipType\\\":\\\"rain\\\",\\\"temperature\\\":86.34,\\\"apparentTemperature\\\":97.69,\\\"dewPoint\\\":76.99,\\\"humidity\\\":0.74,\\\"pressure\\\":1010,\\\"windSpeed\\\":4.45,\\\"windGust\\\":4.9,\\\"windBearing\\\":110,\\\"cloudCover\\\":0.99,\\\"uvIndex\\\":5,\\\"visibility\\\":10,\\\"ozone\\\":255.1},{\\\"time\\\":1594353600,\\\"summary\\\":\\\"Humid and Overcast\\\",\\\"icon\\\":\\\"cloudy\\\",\\\"precipIntensity\\\":0.0119,\\\"precipProbability\\\":0.21,\\\"precipType\\\":\\\"rain\\\",\\\"temperature\\\":88.13,\\\"apparentTemperature\\\":100.39,\\\"dewPoint\\\":76.98,\\\"humidity\\\":0.7,\\\"pressure\\\":1009.4,\\\"windSpeed\\\":5.03,\\\"windGust\\\":5.51,\\\"windBearing\\\":112,\\\"cloudCover\\\":0.91,\\\"uvIndex\\\":6,\\\"visibility\\\":10,\\\"ozone\\\":256.3},{\\\"time\\\":1594357200,\\\"summary\\\":\\\"Humid and Mostly Cloudy\\\",\\\"icon\\\":\\\"partly-cloudy-day\\\",\\\"precipIntensity\\\":0.0084,\\\"precipProbability\\\":0.18,\\\"precipType\\\":\\\"rain\\\",\\\"temperature\\\":90.24,\\\"apparentTemperature\\\":102.81,\\\"dewPoint\\\":76.52,\\\"humidity\\\":0.64,\\\"pressure\\\":1008.7,\\\"windSpeed\\\":5.62,\\\"windGust\\\":6.58,\\\"windBearing\\\":114,\\\"cloudCover\\\":0.83,\\\"uvIndex\\\":6,\\\"visibility\\\":10,\\\"ozone\\\":258.1},{\\\"time\\\":1594360800,\\\"summary\\\":\\\"Humid and Mostly Cloudy\\\",\\\"icon\\\":\\\"partly-cloudy-day\\\",\\\"precipIntensity\\\":0.0067,\\\"precipProbability\\\":0.18,\\\"precipType\\\":\\\"rain\\\",\\\"temperature\\\":91.44,\\\"apparentTemperature\\\":104.26,\\\"dewPoint\\\":76.37,\\\"humidity\\\":0.62,\\\"pressure\\\":1008,\\\"windSpeed\\\":6.11,\\\"windGust\\\":8.01,\\\"windBearing\\\":119,\\\"cloudCover\\\":0.75,\\\"uvIndex\\\":5,\\\"visibility\\\":10,\\\"ozone\\\":259.4},{\\\"time\\\":1594364400,\\\"summary\\\":\\\"Humid and Mostly Cloudy\\\",\\\"icon\\\":\\\"partly-cloudy-day\\\",\\\"precipIntensity\\\":0.008,\\\"precipProbability\\\":0.2,\\\"precipType\\\":\\\"rain\\\",\\\"temperature\\\":90.36,\\\"apparentTemperature\\\":103.09,\\\"dewPoint\\\":76.6,\\\"humidity\\\":0.64,\\\"pressure\\\":1007.8,\\\"windSpeed\\\":5.91,\\\"windGust\\\":8.31,\\\"windBearing\\\":118,\\\"cloudCover\\\":0.82,\\\"uvIndex\\\":3,\\\"visibility\\\":10,\\\"ozone\\\":260.1},{\\\"time\\\":1594368000,\\\"summary\\\":\\\"Humid and Overcast\\\",\\\"icon\\\":\\\"cloudy\\\",\\\"precipIntensity\\\":0.0107,\\\"precipProbability\\\":0.21,\\\"precipType\\\":\\\"rain\\\",\\\"temperature\\\":88.53,\\\"apparentTemperature\\\":101.75,\\\"dewPoint\\\":77.54,\\\"humidity\\\":0.7,\\\"pressure\\\":1007.9,\\\"windSpeed\\\":5.4,\\\"windGust\\\":7.99,\\\"windBearing\\\":112,\\\"cloudCover\\\":0.93,\\\"uvIndex\\\":2,\\\"visibility\\\":10,\\\"ozone\\\":260.3},{\\\"time\\\":1594371600,\\\"summary\\\":\\\"Humid and Mostly Cloudy\\\",\\\"icon\\\":\\\"partly-cloudy-day\\\",\\\"precipIntensity\\\":0.0116,\\\"precipProbability\\\":0.22,\\\"precipType\\\":\\\"rain\\\",\\\"temperature\\\":86.31,\\\"apparentTemperature\\\":99.12,\\\"dewPoint\\\":78.19,\\\"humidity\\\":0.77,\\\"pressure\\\":1008.3,\\\"windSpeed\\\":5.05,\\\"windGust\\\":7.61,\\\"windBearing\\\":105,\\\"cloudCover\\\":0.86,\\\"uvIndex\\\":0,\\\"visibility\\\":10,\\\"ozone\\\":260},{\\\"time\\\":1594375200,\\\"summary\\\":\\\"Humid and Overcast\\\",\\\"icon\\\":\\\"cloudy\\\",\\\"precipIntensity\\\":0.0081,\\\"precipProbability\\\":0.23,\\\"precipType\\\":\\\"rain\\\",\\\"temperature\\\":84.53,\\\"apparentTemperature\\\":95.52,\\\"dewPoint\\\":77.73,\\\"humidity\\\":0.8,\\\"pressure\\\":1008.9,\\\"windSpeed\\\":4.66,\\\"windGust\\\":7.3,\\\"windBearing\\\":95,\\\"cloudCover\\\":0.94,\\\"uvIndex\\\":0,\\\"visibility\\\":10,\\\"ozone\\\":259.1},{\\\"time\\\":1594378800,\\\"summary\\\":\\\"Humid and Overcast\\\",\\\"icon\\\":\\\"cloudy\\\",\\\"precipIntensity\\\":0.0045,\\\"precipProbability\\\":0.23,\\\"precipType\\\":\\\"rain\\\",\\\"temperature\\\":83.1,\\\"apparentTemperature\\\":92.04,\\\"dewPoint\\\":76.84,\\\"humidity\\\":0.81,\\\"pressure\\\":1009.7,\\\"windSpeed\\\":4.17,\\\"windGust\\\":6.91,\\\"windBearing\\\":79,\\\"cloudCover\\\":0.95,\\\"uvIndex\\\":0,\\\"visibility\\\":10,\\\"ozone\\\":257.7},{\\\"time\\\":1594382400,\\\"summary\\\":\\\"Humid and Overcast\\\",\\\"icon\\\":\\\"cloudy\\\",\\\"precipIntensity\\\":0.0023,\\\"precipProbability\\\":0.22,\\\"precipType\\\":\\\"rain\\\",\\\"temperature\\\":81.84,\\\"apparentTemperature\\\":88.8,\\\"dewPoint\\\":75.66,\\\"humidity\\\":0.82,\\\"pressure\\\":1010.3,\\\"windSpeed\\\":3.93,\\\"windGust\\\":6.52,\\\"windBearing\\\":66,\\\"cloudCover\\\":0.96,\\\"uvIndex\\\":0,\\\"visibility\\\":10,\\\"ozone\\\":257.3},{\\\"time\\\":1594386000,\\\"summary\\\":\\\"Humid and Overcast\\\",\\\"icon\\\":\\\"cloudy\\\",\\\"precipIntensity\\\":0.0011,\\\"precipProbability\\\":0.22,\\\"precipType\\\":\\\"rain\\\",\\\"temperature\\\":81.05,\\\"apparentTemperature\\\":86.85,\\\"dewPoint\\\":74.85,\\\"humidity\\\":0.81,\\\"pressure\\\":1010.6,\\\"windSpeed\\\":3.54,\\\"windGust\\\":6.18,\\\"windBearing\\\":59,\\\"cloudCover\\\":0.98,\\\"uvIndex\\\":0,\\\"visibility\\\":10,\\\"ozone\\\":258.5},{\\\"time\\\":1594389600,\\\"summary\\\":\\\"Humid and Overcast\\\",\\\"icon\\\":\\\"cloudy\\\",\\\"precipIntensity\\\":0.0018,\\\"precipProbability\\\":0.19,\\\"precipType\\\":\\\"rain\\\",\\\"temperature\\\":80.43,\\\"apparentTemperature\\\":85.34,\\\"dewPoint\\\":74.13,\\\"humidity\\\":0.81,\\\"pressure\\\":1010.8,\\\"windSpeed\\\":3.15,\\\"windGust\\\":5.85,\\\"windBearing\\\":40,\\\"cloudCover\\\":0.99,\\\"uvIndex\\\":0,\\\"visibility\\\":10,\\\"ozone\\\":260.6},{\\\"time\\\":1594393200,\\\"summary\\\":\\\"Humid and Overcast\\\",\\\"icon\\\":\\\"cloudy\\\",\\\"precipIntensity\\\":0.0012,\\\"precipProbability\\\":0.18,\\\"precipType\\\":\\\"rain\\\",\\\"temperature\\\":79.83,\\\"apparentTemperature\\\":84.02,\\\"dewPoint\\\":73.56,\\\"humidity\\\":0.81,\\\"pressure\\\":1010.6,\\\"windSpeed\\\":3.3,\\\"windGust\\\":5.55,\\\"windBearing\\\":15,\\\"cloudCover\\\":0.99,\\\"uvIndex\\\":0,\\\"visibility\\\":10,\\\"ozone\\\":262.1},{\\\"time\\\":1594396800,\\\"summary\\\":\\\"Humid and Overcast\\\",\\\"icon\\\":\\\"cloudy\\\",\\\"precipIntensity\\\":0.001,\\\"precipProbability\\\":0.07,\\\"precipType\\\":\\\"rain\\\",\\\"temperature\\\":79.37,\\\"apparentTemperature\\\":83.11,\\\"dewPoint\\\":73.33,\\\"humidity\\\":0.82,\\\"pressure\\\":1010.1,\\\"windSpeed\\\":3.34,\\\"windGust\\\":5.26,\\\"windBearing\\\":359,\\\"cloudCover\\\":1,\\\"uvIndex\\\":0,\\\"visibility\\\":10,\\\"ozone\\\":262.5},{\\\"time\\\":1594400400,\\\"summary\\\":\\\"Humid and Overcast\\\",\\\"icon\\\":\\\"cloudy\\\",\\\"precipIntensity\\\":0.0016,\\\"precipProbability\\\":0.23,\\\"precipType\\\":\\\"rain\\\",\\\"temperature\\\":79.07,\\\"apparentTemperature\\\":82.56,\\\"dewPoint\\\":73.4,\\\"humidity\\\":0.83,\\\"pressure\\\":1009.6,\\\"windSpeed\\\":3.37,\\\"windGust\\\":4.99,\\\"windBearing\\\":345,\\\"cloudCover\\\":1,\\\"uvIndex\\\":0,\\\"visibility\\\":10,\\\"ozone\\\":262.3},{\\\"time\\\":1594404000,\\\"summary\\\":\\\"Possible Drizzle and Humid\\\",\\\"icon\\\":\\\"rain\\\",\\\"precipIntensity\\\":0.0053,\\\"precipProbability\\\":0.33,\\\"precipType\\\":\\\"rain\\\",\\\"temperature\\\":78.84,\\\"apparentTemperature\\\":82.08,\\\"dewPoint\\\":73.27,\\\"humidity\\\":0.83,\\\"pressure\\\":1009.1,\\\"windSpeed\\\":3.28,\\\"windGust\\\":4.76,\\\"windBearing\\\":337,\\\"cloudCover\\\":1,\\\"uvIndex\\\":0,\\\"visibility\\\":10,\\\"ozone\\\":262.1},{\\\"time\\\":1594407600,\\\"summary\\\":\\\"Possible Drizzle and Humid\\\",\\\"icon\\\":\\\"rain\\\",\\\"precipIntensity\\\":0.0025,\\\"precipProbability\\\":0.28,\\\"precipType\\\":\\\"rain\\\",\\\"temperature\\\":78.24,\\\"apparentTemperature\\\":79.68,\\\"dewPoint\\\":72.76,\\\"humidity\\\":0.83,\\\"pressure\\\":1009,\\\"windSpeed\\\":2.97,\\\"windGust\\\":4.59,\\\"windBearing\\\":330,\\\"cloudCover\\\":0.99,\\\"uvIndex\\\":0,\\\"visibility\\\":10,\\\"ozone\\\":262.4},{\\\"time\\\":1594411200,\\\"summary\\\":\\\"Possible Drizzle and Humid\\\",\\\"icon\\\":\\\"rain\\\",\\\"precipIntensity\\\":0.0046,\\\"precipProbability\\\":0.34,\\\"precipType\\\":\\\"rain\\\",\\\"temperature\\\":77.96,\\\"apparentTemperature\\\":79.39,\\\"dewPoint\\\":72.62,\\\"humidity\\\":0.84,\\\"pressure\\\":1009,\\\"windSpeed\\\":2.86,\\\"windGust\\\":4.46,\\\"windBearing\\\":327,\\\"cloudCover\\\":0.99,\\\"uvIndex\\\":0,\\\"visibility\\\":10,\\\"ozone\\\":262.5},{\\\"time\\\":1594414800,\\\"summary\\\":\\\"Possible Drizzle and Humid\\\",\\\"icon\\\":\\\"rain\\\",\\\"precipIntensity\\\":0.0059,\\\"precipProbability\\\":0.34,\\\"precipType\\\":\\\"rain\\\",\\\"temperature\\\":78.3,\\\"apparentTemperature\\\":79.71,\\\"dewPoint\\\":72.57,\\\"humidity\\\":0.83,\\\"pressure\\\":1009.2,\\\"windSpeed\\\":2.79,\\\"windGust\\\":4.3,\\\"windBearing\\\":331,\\\"cloudCover\\\":0.99,\\\"uvIndex\\\":0,\\\"visibility\\\":10,\\\"ozone\\\":262.9},{\\\"time\\\":1594418400,\\\"summary\\\":\\\"Possible Drizzle and Humid\\\",\\\"icon\\\":\\\"rain\\\",\\\"precipIntensity\\\":0.0037,\\\"precipProbability\\\":0.28,\\\"precipType\\\":\\\"rain\\\",\\\"temperature\\\":79.73,\\\"apparentTemperature\\\":83.69,\\\"dewPoint\\\":73.12,\\\"humidity\\\":0.8,\\\"pressure\\\":1009.7,\\\"windSpeed\\\":2.71,\\\"windGust\\\":3.91,\\\"windBearing\\\":357,\\\"cloudCover\\\":0.98,\\\"uvIndex\\\":0,\\\"visibility\\\":10,\\\"ozone\\\":263.2},{\\\"time\\\":1594422000,\\\"summary\\\":\\\"Humid and Overcast\\\",\\\"icon\\\":\\\"cloudy\\\",\\\"precipIntensity\\\":0.0021,\\\"precipProbability\\\":0.2,\\\"precipType\\\":\\\"rain\\\",\\\"temperature\\\":81.85,\\\"apparentTemperature\\\":87.57,\\\"dewPoint\\\":73.69,\\\"humidity\\\":0.76,\\\"pressure\\\":1010.3,\\\"windSpeed\\\":2.56,\\\"windGust\\\":3.56,\\\"windBearing\\\":51,\\\"cloudCover\\\":0.95,\\\"uvIndex\\\":1,\\\"visibility\\\":10,\\\"ozone\\\":263.7},{\\\"time\\\":1594425600,\\\"summary\\\":\\\"Humid and Overcast\\\",\\\"icon\\\":\\\"cloudy\\\",\\\"precipIntensity\\\":0.0033,\\\"precipProbability\\\":0.24,\\\"precipType\\\":\\\"rain\\\",\\\"temperature\\\":83.29,\\\"apparentTemperature\\\":90.06,\\\"dewPoint\\\":74.02,\\\"humidity\\\":0.74,\\\"pressure\\\":1010.7,\\\"windSpeed\\\":2.91,\\\"windGust\\\":3.64,\\\"windBearing\\\":138,\\\"cloudCover\\\":0.92,\\\"uvIndex\\\":3,\\\"visibility\\\":10,\\\"ozone\\\":264.1},{\\\"time\\\":1594429200,\\\"summary\\\":\\\"Possible Drizzle and Humid\\\",\\\"icon\\\":\\\"rain\\\",\\\"precipIntensity\\\":0.0089,\\\"precipProbability\\\":0.28,\\\"precipType\\\":\\\"rain\\\",\\\"temperature\\\":83.83,\\\"apparentTemperature\\\":91.32,\\\"dewPoint\\\":74.55,\\\"humidity\\\":0.74,\\\"pressure\\\":1010.7,\\\"windSpeed\\\":3.48,\\\"windGust\\\":4.5,\\\"windBearing\\\":138,\\\"cloudCover\\\":0.87,\\\"uvIndex\\\":4,\\\"visibility\\\":10,\\\"ozone\\\":264.1},{\\\"time\\\":1594432800,\\\"summary\\\":\\\"Possible Light Rain and Humid\\\",\\\"icon\\\":\\\"rain\\\",\\\"precipIntensity\\\":0.0272,\\\"precipProbability\\\":0.34,\\\"precipType\\\":\\\"rain\\\",\\\"temperature\\\":83.42,\\\"apparentTemperature\\\":91,\\\"dewPoint\\\":74.96,\\\"humidity\\\":0.76,\\\"pressure\\\":1010.6,\\\"windSpeed\\\":4.04,\\\"windGust\\\":5.91,\\\"windBearing\\\":141,\\\"cloudCover\\\":0.82,\\\"uvIndex\\\":6,\\\"visibility\\\":10,\\\"ozone\\\":264.1},{\\\"time\\\":1594436400,\\\"summary\\\":\\\"Rain and Humid\\\",\\\"icon\\\":\\\"rain\\\",\\\"precipIntensity\\\":0.0439,\\\"precipProbability\\\":0.39,\\\"precipType\\\":\\\"rain\\\",\\\"temperature\\\":83.27,\\\"apparentTemperature\\\":91.32,\\\"dewPoint\\\":75.65,\\\"humidity\\\":0.78,\\\"pressure\\\":1010,\\\"windSpeed\\\":4.3,\\\"windGust\\\":7.04,\\\"windBearing\\\":143,\\\"cloudCover\\\":0.78,\\\"uvIndex\\\":7,\\\"visibility\\\":8.685,\\\"ozone\\\":263.9}]},\\\"daily\\\":{\\\"summary\\\":\\\"Rain throughout the week.\\\",\\\"icon\\\":\\\"rain\\\",\\\"data\\\":[{\\\"time\\\":1594224000,\\\"summary\\\":\\\"Humid and mostly cloudy throughout the day.\\\",\\\"icon\\\":\\\"rain\\\",\\\"sunriseTime\\\":1594243560,\\\"sunsetTime\\\":1594288620,\\\"moonPhase\\\":0.64,\\\"precipIntensity\\\":0.0014,\\\"precipIntensityMax\\\":0.0057,\\\"precipIntensityMaxTime\\\":1594281720,\\\"precipProbability\\\":0.43,\\\"precipType\\\":\\\"rain\\\",\\\"temperatureHigh\\\":90.49,\\\"temperatureHighTime\\\":1594270260,\\\"temperatureLow\\\":77.12,\\\"temperatureLowTime\\\":1594326000,\\\"apparentTemperatureHigh\\\":102.22,\\\"apparentTemperatureHighTime\\\":1594272780,\\\"apparentTemperatureLow\\\":79.06,\\\"apparentTemperatureLowTime\\\":1594326900,\\\"dewPoint\\\":75.85,\\\"humidity\\\":0.79,\\\"pressure\\\":1008.6,\\\"windSpeed\\\":3.54,\\\"windGust\\\":6.97,\\\"windGustTime\\\":1594273980,\\\"windBearing\\\":136,\\\"cloudCover\\\":0.8,\\\"uvIndex\\\":8,\\\"uvIndexTime\\\":1594266420,\\\"visibility\\\":10,\\\"ozone\\\":262.4,\\\"temperatureMin\\\":76.55,\\\"temperatureMinTime\\\":1594240380,\\\"temperatureMax\\\":90.49,\\\"temperatureMaxTime\\\":1594270260,\\\"apparentTemperatureMin\\\":78.6,\\\"apparentTemperatureMinTime\\\":1594240560,\\\"apparentTemperatureMax\\\":102.22,\\\"apparentTemperatureMaxTime\\\":1594272780},{\\\"time\\\":1594310400,\\\"summary\\\":\\\"Possible light rain in the morning and overnight.\\\",\\\"icon\\\":\\\"rain\\\",\\\"sunriseTime\\\":1594330020,\\\"sunsetTime\\\":1594375020,\\\"moonPhase\\\":0.68,\\\"precipIntensity\\\":0.0048,\\\"precipIntensityMax\\\":0.0134,\\\"precipIntensityMaxTime\\\":1594350660,\\\"precipProbability\\\":0.65,\\\"precipType\\\":\\\"rain\\\",\\\"temperatureHigh\\\":91.94,\\\"temperatureHighTime\\\":1594360860,\\\"temperatureLow\\\":77.47,\\\"temperatureLowTime\\\":1594411080,\\\"apparentTemperatureHigh\\\":104.26,\\\"apparentTemperatureHighTime\\\":1594360920,\\\"apparentTemperatureLow\\\":79.28,\\\"apparentTemperatureLowTime\\\":1594413120,\\\"dewPoint\\\":75.7,\\\"humidity\\\":0.78,\\\"pressure\\\":1009.4,\\\"windSpeed\\\":3.74,\\\"windGust\\\":8.31,\\\"windGustTime\\\":1594364160,\\\"windBearing\\\":73,\\\"cloudCover\\\":0.71,\\\"uvIndex\\\":6,\\\"uvIndexTime\\\":1594346340,\\\"visibility\\\":10,\\\"ozone\\\":258.8,\\\"temperatureMin\\\":77.12,\\\"temperatureMinTime\\\":1594326000,\\\"temperatureMax\\\":91.94,\\\"temperatureMaxTime\\\":1594360860,\\\"apparentTemperatureMin\\\":79.06,\\\"apparentTemperatureMinTime\\\":1594326900,\\\"apparentTemperatureMax\\\":104.26,\\\"apparentTemperatureMaxTime\\\":1594360920},{\\\"time\\\":1594396800,\\\"summary\\\":\\\"Rain in the morning and afternoon.\\\",\\\"icon\\\":\\\"rain\\\",\\\"sunriseTime\\\":1594416420,\\\"sunsetTime\\\":1594461420,\\\"moonPhase\\\":0.71,\\\"precipIntensity\\\":0.0142,\\\"precipIntensityMax\\\":0.0451,\\\"precipIntensityMaxTime\\\":1594450800,\\\"precipProbability\\\":0.85,\\\"precipType\\\":\\\"rain\\\",\\\"temperatureHigh\\\":84.99,\\\"temperatureHighTime\\\":1594446720,\\\"temperatureLow\\\":76.24,\\\"temperatureLowTime\\\":1594496640,\\\"apparentTemperatureHigh\\\":93.95,\\\"apparentTemperatureHighTime\\\":1594446780,\\\"apparentTemperatureLow\\\":78.01,\\\"apparentTemperatureLowTime\\\":1594498980,\\\"dewPoint\\\":74.18,\\\"humidity\\\":0.79,\\\"pressure\\\":1009.6,\\\"windSpeed\\\":3.49,\\\"windGust\\\":8.48,\\\"windGustTime\\\":1594454220,\\\"windBearing\\\":77,\\\"cloudCover\\\":0.84,\\\"uvIndex\\\":7,\\\"uvIndexTime\\\":1594438800,\\\"visibility\\\":9.913,\\\"ozone\\\":262.9,\\\"temperatureMin\\\":77.47,\\\"temperatureMinTime\\\":1594411080,\\\"temperatureMax\\\":84.99,\\\"temperatureMaxTime\\\":1594446720,\\\"apparentTemperatureMin\\\":79.28,\\\"apparentTemperatureMinTime\\\":1594413120,\\\"apparentTemperatureMax\\\":93.95,\\\"apparentTemperatureMaxTime\\\":1594446780},{\\\"time\\\":1594483200,\\\"summary\\\":\\\"Humid and overcast throughout the day.\\\",\\\"icon\\\":\\\"rain\\\",\\\"sunriseTime\\\":1594502820,\\\"sunsetTime\\\":1594547820,\\\"moonPhase\\\":0.74,\\\"precipIntensity\\\":0.0037,\\\"precipIntensityMax\\\":0.0109,\\\"precipIntensityMaxTime\\\":1594544520,\\\"precipProbability\\\":0.56,\\\"precipType\\\":\\\"rain\\\",\\\"temperatureHigh\\\":88.72,\\\"temperatureHighTime\\\":1594530900,\\\"temperatureLow\\\":75.96,\\\"temperatureLowTime\\\":1594583880,\\\"apparentTemperatureHigh\\\":97.59,\\\"apparentTemperatureHighTime\\\":1594530480,\\\"apparentTemperatureLow\\\":77.51,\\\"apparentTemperatureLowTime\\\":1594583880,\\\"dewPoint\\\":73.28,\\\"humidity\\\":0.75,\\\"pressure\\\":1009.7,\\\"windSpeed\\\":3.27,\\\"windGust\\\":8.59,\\\"windGustTime\\\":1594552740,\\\"windBearing\\\":64,\\\"cloudCover\\\":0.95,\\\"uvIndex\\\":5,\\\"uvIndexTime\\\":1594525260,\\\"visibility\\\":10,\\\"ozone\\\":261.6,\\\"temperatureMin\\\":76.24,\\\"temperatureMinTime\\\":1594496640,\\\"temperatureMax\\\":88.72,\\\"temperatureMaxTime\\\":1594530900,\\\"apparentTemperatureMin\\\":78.01,\\\"apparentTemperatureMinTime\\\":1594498980,\\\"apparentTemperatureMax\\\":97.59,\\\"apparentTemperatureMaxTime\\\":1594530480},{\\\"time\\\":1594569600,\\\"summary\\\":\\\"Humid and overcast throughout the day.\\\",\\\"icon\\\":\\\"rain\\\",\\\"sunriseTime\\\":1594589220,\\\"sunsetTime\\\":1594634220,\\\"moonPhase\\\":0.77,\\\"precipIntensity\\\":0.0095,\\\"precipIntensityMax\\\":0.0365,\\\"precipIntensityMaxTime\\\":1594629360,\\\"precipProbability\\\":0.58,\\\"precipType\\\":\\\"rain\\\",\\\"temperatureHigh\\\":89.22,\\\"temperatureHighTime\\\":1594618680,\\\"temperatureLow\\\":75.9,\\\"temperatureLowTime\\\":1594670340,\\\"apparentTemperatureHigh\\\":99.17,\\\"apparentTemperatureHighTime\\\":1594618260,\\\"apparentTemperatureLow\\\":77.48,\\\"apparentTemperatureLowTime\\\":1594671900,\\\"dewPoint\\\":72.77,\\\"humidity\\\":0.74,\\\"pressure\\\":1010,\\\"windSpeed\\\":3.42,\\\"windGust\\\":7.1,\\\"windGustTime\\\":1594610160,\\\"windBearing\\\":53,\\\"cloudCover\\\":0.98,\\\"uvIndex\\\":5,\\\"uvIndexTime\\\":1594611660,\\\"visibility\\\":9.966,\\\"ozone\\\":260,\\\"temperatureMin\\\":75.96,\\\"temperatureMinTime\\\":1594583880,\\\"temperatureMax\\\":89.22,\\\"temperatureMaxTime\\\":1594618680,\\\"apparentTemperatureMin\\\":77.51,\\\"apparentTemperatureMinTime\\\":1594583880,\\\"apparentTemperatureMax\\\":99.17,\\\"apparentTemperatureMaxTime\\\":1594618260},{\\\"time\\\":1594656000,\\\"summary\\\":\\\"Humid and partly cloudy throughout the day.\\\",\\\"icon\\\":\\\"rain\\\",\\\"sunriseTime\\\":1594675620,\\\"sunsetTime\\\":1594720620,\\\"moonPhase\\\":0.8,\\\"precipIntensity\\\":0.0069,\\\"precipIntensityMax\\\":0.0292,\\\"precipIntensityMaxTime\\\":1594714860,\\\"precipProbability\\\":0.6,\\\"precipType\\\":\\\"rain\\\",\\\"temperatureHigh\\\":88.41,\\\"temperatureHighTime\\\":1594696260,\\\"temperatureLow\\\":75.85,\\\"temperatureLowTime\\\":1594756140,\\\"apparentTemperatureHigh\\\":96.99,\\\"apparentTemperatureHighTime\\\":1594699380,\\\"apparentTemperatureLow\\\":77.26,\\\"apparentTemperatureLowTime\\\":1594756380,\\\"dewPoint\\\":72.72,\\\"humidity\\\":0.75,\\\"pressure\\\":1009.4,\\\"windSpeed\\\":3.4,\\\"windGust\\\":6.56,\\\"windGustTime\\\":1594716960,\\\"windBearing\\\":22,\\\"cloudCover\\\":0.63,\\\"uvIndex\\\":9,\\\"uvIndexTime\\\":1594697760,\\\"visibility\\\":9.749,\\\"ozone\\\":261.5,\\\"temperatureMin\\\":75.9,\\\"temperatureMinTime\\\":1594670340,\\\"temperatureMax\\\":88.41,\\\"temperatureMaxTime\\\":1594696260,\\\"apparentTemperatureMin\\\":77.48,\\\"apparentTemperatureMinTime\\\":1594671900,\\\"apparentTemperatureMax\\\":96.99,\\\"apparentTemperatureMaxTime\\\":1594699380},{\\\"time\\\":1594742400,\\\"summary\\\":\\\"Rain in the afternoon and evening.\\\",\\\"icon\\\":\\\"rain\\\",\\\"sunriseTime\\\":1594762080,\\\"sunsetTime\\\":1594807020,\\\"moonPhase\\\":0.83,\\\"precipIntensity\\\":0.0305,\\\"precipIntensityMax\\\":0.1862,\\\"precipIntensityMaxTime\\\":1594803060,\\\"precipProbability\\\":0.86,\\\"precipType\\\":\\\"rain\\\",\\\"temperatureHigh\\\":87.82,\\\"temperatureHighTime\\\":1594781820,\\\"temperatureLow\\\":76.37,\\\"temperatureLowTime\\\":1594842780,\\\"apparentTemperatureHigh\\\":94.45,\\\"apparentTemperatureHighTime\\\":1594782660,\\\"apparentTemperatureLow\\\":77.83,\\\"apparentTemperatureLowTime\\\":1594842840,\\\"dewPoint\\\":70.87,\\\"humidity\\\":0.74,\\\"pressure\\\":1009,\\\"windSpeed\\\":3.86,\\\"windGust\\\":8.63,\\\"windGustTime\\\":1594804440,\\\"windBearing\\\":28,\\\"cloudCover\\\":0.87,\\\"uvIndex\\\":7,\\\"uvIndexTime\\\":1594783620,\\\"visibility\\\":9.377,\\\"ozone\\\":262.8,\\\"temperatureMin\\\":75.85,\\\"temperatureMinTime\\\":1594756140,\\\"temperatureMax\\\":87.82,\\\"temperatureMaxTime\\\":1594781820,\\\"apparentTemperatureMin\\\":77.26,\\\"apparentTemperatureMinTime\\\":1594756380,\\\"apparentTemperatureMax\\\":94.45,\\\"apparentTemperatureMaxTime\\\":1594782660},{\\\"time\\\":1594828800,\\\"summary\\\":\\\"Possible light rain overnight.\\\",\\\"icon\\\":\\\"rain\\\",\\\"sunriseTime\\\":1594848480,\\\"sunsetTime\\\":1594893420,\\\"moonPhase\\\":0.86,\\\"precipIntensity\\\":0.0049,\\\"precipIntensityMax\\\":0.0208,\\\"precipIntensityMaxTime\\\":1594910220,\\\"precipProbability\\\":0.46,\\\"precipType\\\":\\\"rain\\\",\\\"temperatureHigh\\\":88.46,\\\"temperatureHighTime\\\":1594878180,\\\"temperatureLow\\\":77.1,\\\"temperatureLowTime\\\":1594930380,\\\"apparentTemperatureHigh\\\":95.83,\\\"apparentTemperatureHighTime\\\":1594878420,\\\"apparentTemperatureLow\\\":78.42,\\\"apparentTemperatureLowTime\\\":1594931460,\\\"dewPoint\\\":71.39,\\\"humidity\\\":0.71,\\\"pressure\\\":1008.6,\\\"windSpeed\\\":3.45,\\\"windGust\\\":8.43,\\\"windGustTime\\\":1594887420,\\\"windBearing\\\":105,\\\"cloudCover\\\":0.58,\\\"uvIndex\\\":11,\\\"uvIndexTime\\\":1594870440,\\\"visibility\\\":10,\\\"ozone\\\":261.1,\\\"temperatureMin\\\":76.37,\\\"temperatureMinTime\\\":1594842780,\\\"temperatureMax\\\":88.46,\\\"temperatureMaxTime\\\":1594878180,\\\"apparentTemperatureMin\\\":77.83,\\\"apparentTemperatureMinTime\\\":1594842840,\\\"apparentTemperatureMax\\\":95.83,\\\"apparentTemperatureMaxTime\\\":1594878420}]},\\\"flags\\\":{\\\"sources\\\":[\\\"cmc\\\",\\\"gfs\\\",\\\"icon\\\",\\\"isd\\\",\\\"madis\\\"],\\\"nearest-station\\\":40.896,\\\"units\\\":\\\"us\\\"},\\\"offset\\\":8}\\n\""
      ]
     },
     "execution_count": 27,
     "metadata": {},
     "output_type": "execute_result"
    }
   ],
   "source": [
    "#forecast_urls\n",
    "forcast = forecast_weather(latitude, longitude)"
   ]
  },
  {
   "cell_type": "code",
   "execution_count": 18,
   "metadata": {},
   "outputs": [
    {
     "name": "stdout",
     "output_type": "stream",
     "text": [
      "2018-12-29T03:39:09.740Z\n",
      "Removed the last char from 2018-12-29T03:39:09.740Z\n"
     ]
    },
    {
     "data": {
      "text/plain": [
       "1546054750"
      ]
     },
     "execution_count": 18,
     "metadata": {},
     "output_type": "execute_result"
    }
   ],
   "source": [
    "unix_timestamp = unix_time(\"2018-12-29T03:39:09.740Z\")"
   ]
  },
  {
   "cell_type": "code",
   "execution_count": 19,
   "metadata": {},
   "outputs": [
    {
     "ename": "UndefVarError",
     "evalue": "UndefVarError: earthquake_time not defined",
     "output_type": "error",
     "traceback": [
      "UndefVarError: earthquake_time not defined",
      "",
      "Stacktrace:",
      " [1] top-level scope at In[19]:1"
     ]
    }
   ],
   "source": [
    "earthquake_time"
   ]
  },
  {
   "cell_type": "code",
   "execution_count": 25,
   "metadata": {},
   "outputs": [
    {
     "ename": "UndefVarError",
     "evalue": "UndefVarError: historical_temperature_url not defined",
     "output_type": "error",
     "traceback": [
      "UndefVarError: historical_temperature_url not defined",
      "",
      "Stacktrace:",
      " [1] top-level scope at In[25]:1"
     ]
    }
   ],
   "source": [
    "historical_temperature_url"
   ]
  },
  {
   "cell_type": "code",
   "execution_count": null,
   "metadata": {},
   "outputs": [],
   "source": []
  },
  {
   "cell_type": "code",
   "execution_count": null,
   "metadata": {},
   "outputs": [],
   "source": [
    "this "
   ]
  }
 ],
 "metadata": {
  "kernelspec": {
   "display_name": "Julia 1.4.1",
   "language": "julia",
   "name": "julia-1.4"
  },
  "language_info": {
   "file_extension": ".jl",
   "mimetype": "application/julia",
   "name": "julia",
   "version": "1.4.1"
  }
 },
 "nbformat": 4,
 "nbformat_minor": 4
}
