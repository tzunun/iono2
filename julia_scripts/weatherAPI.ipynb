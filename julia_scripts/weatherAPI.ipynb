{
 "cells": [
  {
   "cell_type": "code",
   "execution_count": 1,
   "metadata": {},
   "outputs": [],
   "source": [
    "using HTTP\n",
    "using Dates"
   ]
  },
  {
   "cell_type": "code",
   "execution_count": 2,
   "metadata": {},
   "outputs": [],
   "source": [
    "#=\n",
    "    DarkSky API has 2 features: Forecast and Timemachine.  Timemachine allows you to obtain historical\n",
    "    weather data.\n",
    "    format\n",
    "        forecast_url = https://api.darksky.net/forecast/[key]/[latitude],[longitude]\n",
    "\n",
    "        timemachine_url = https://api.darksky.net/forecast/[key]/[latitude],[longitude],[time]\n",
    "            time is unix timestamp. \n",
    "\n",
    "=#\n",
    " #=\n",
    "    For historical data, the unix_timestamp would have to be an array spaning the time frame of the desired\n",
    "    historical data.\n",
    "\n",
    "    Data has to be saved into a CSV format\n",
    "=#\n",
    "#= \n",
    "    In order to work with the earthquake dates which are given in UTC in the following form\n",
    "    2018-12-29T03:39:09.740Z\n",
    "    The \"Z\" indicating Zulu? or UTC time has to be stripped from the string.  A complex example would be as follows:\n",
    "    round(Int, Dates.datetime2unix(DateTime(\"2018-12-29T03:39:09.740Z\")))\n",
    "    which should give the result \n",
    "    1546054750\n",
    "    which roughly translates to Dec 29, 2018 at 3:39am UTC\n",
    "=#\n",
    "#=\n",
    "    The object provided by the weather api for historical data, includes sunrise and sunset time and perhaps temperature \n",
    "    either at sunrise/sunset or an hour that is close to that time which would be called the terminator. Time.  The first\n",
    "    call to the api would give us the sunrise/sunset and that could be used to get the temperature for sunrise/sunset\n",
    "    for the previous days as well as previous years\n",
    "=#"
   ]
  },
  {
   "cell_type": "code",
   "execution_count": 123,
   "metadata": {},
   "outputs": [
    {
     "data": {
      "text/plain": [
       "\"https://api.darksky.net/forecast\""
      ]
     },
     "execution_count": 123,
     "metadata": {},
     "output_type": "execute_result"
    }
   ],
   "source": [
    "latitude = 5.8983\n",
    "longitude = 126.9209\n",
    "earthquake_datetime = \"2017-12-29T18:00:00.000Z\"\n",
    "base_url = \"https://api.darksky.net/forecast\""
   ]
  },
  {
   "cell_type": "code",
   "execution_count": 124,
   "metadata": {},
   "outputs": [
    {
     "data": {
      "text/plain": [
       "read_apikey (generic function with 1 method)"
      ]
     },
     "execution_count": 124,
     "metadata": {},
     "output_type": "execute_result"
    }
   ],
   "source": [
    "function read_apikey(apikey_file)\n",
    "    key = open(apikey_file) do file\n",
    "          readlines(file)\n",
    "        end \n",
    "    return String(key[1])\n",
    "end"
   ]
  },
  {
   "cell_type": "code",
   "execution_count": 125,
   "metadata": {},
   "outputs": [
    {
     "name": "stdout",
     "output_type": "stream",
     "text": [
      "Done reading apikey!\n"
     ]
    }
   ],
   "source": [
    "apikey = read_apikey(\"/home/antonio/Repos/iono2/julia_scripts/darksky_api.txt\")\n",
    "println(\"Done reading apikey!\")"
   ]
  },
  {
   "cell_type": "code",
   "execution_count": 126,
   "metadata": {},
   "outputs": [
    {
     "data": {
      "text/plain": [
       "unix_time (generic function with 1 method)"
      ]
     },
     "execution_count": 126,
     "metadata": {},
     "output_type": "execute_result"
    }
   ],
   "source": [
    "function unix_time(earthquake_time)\n",
    "    println(earthquake_time)\n",
    "    # remove the last char (Z) from earthquake_time, ex, 2018-12-29T03:39:09.740Z\n",
    "    eq_time = strip(earthquake_time, last(earthquake_time))\n",
    "    println(\"Removed the last char from $earthquake_time\")\n",
    "    round(Int, Dates.datetime2unix(DateTime(eq_time)))\n",
    "end"
   ]
  },
  {
   "cell_type": "code",
   "execution_count": 127,
   "metadata": {},
   "outputs": [
    {
     "data": {
      "text/plain": [
       "darksky_api_call (generic function with 1 method)"
      ]
     },
     "execution_count": 127,
     "metadata": {},
     "output_type": "execute_result"
    }
   ],
   "source": [
    "function darksky_api_call(url)\n",
    "    try\n",
    "        response = HTTP.get(url)\n",
    "        return String(response.body)\n",
    "        catch e\n",
    "        return \"Error occured: $e\"\n",
    "    end\n",
    "end"
   ]
  },
  {
   "cell_type": "code",
   "execution_count": 128,
   "metadata": {},
   "outputs": [
    {
     "data": {
      "text/plain": [
       "historical_weather (generic function with 1 method)"
      ]
     },
     "execution_count": 128,
     "metadata": {},
     "output_type": "execute_result"
    }
   ],
   "source": [
    "function historical_weather(latitude, longitude, earthquake_datetime)\n",
    "    println(\"Looking up info for Latitude $latitude, longitud $longitude and earthquake_time $earthquake_time\\n\")\n",
    "    unix_timestamp = unix_time(earthquake_datetime)\n",
    "    historical_temperature_url = base_url * \"/\" * apikey * \"/\" * string(latitude) * \",\" * string(longitud) * \",\" * string(unix_timestamp)\n",
    "    println(\"unix_time stamp : $unix_timestamp\", \"\\n$historical_temperature_url\")\n",
    "    darksky_api_call(historical_temperature_url)\n",
    "end"
   ]
  },
  {
   "cell_type": "code",
   "execution_count": 129,
   "metadata": {},
   "outputs": [
    {
     "data": {
      "text/plain": [
       "forecast_weather (generic function with 1 method)"
      ]
     },
     "execution_count": 129,
     "metadata": {},
     "output_type": "execute_result"
    }
   ],
   "source": [
    "function forecast_weather(latitude, longitude)\n",
    "    forecast_url = base_url * \"/\" * apikey * \"/\" * string(latitude) * \",\" * string(longitud)\n",
    "    darksky_api_call(forecast_url)\n",
    "end"
   ]
  },
  {
   "cell_type": "code",
   "execution_count": 130,
   "metadata": {},
   "outputs": [
    {
     "name": "stdout",
     "output_type": "stream",
     "text": [
      "Looking up info for Latitude 5.8983, longitud 126.9209 and earthquake_time 2018-12-29T03:39:09.740Z\n",
      "\n",
      "2017-12-29T18:00:00.000Z\n",
      "Removed the last char from 2017-12-29T18:00:00.000Z\n",
      "unix_time stamp : 1514570400\n",
      "https://api.darksky.net/forecast/df7160dd597d0332eb4508c91fab3853/5.8983,125.2905,1514570400\n"
     ]
    },
    {
     "data": {
      "text/plain": [
       "\"{\\\"latitude\\\":5.8983,\\\"longitude\\\":125.2905,\\\"timezone\\\":\\\"Asia/Manila\\\",\\\"currently\\\":{\\\"time\\\":1514570400,\\\"uvIndex\\\":0},\\\"hourly\\\":{\\\"data\\\":[{\\\"time\\\":1514592000,\\\"summary\\\":\\\"Humid\\\",\\\"icon\\\":\\\"clear-day\\\",\\\"precipIntensity\\\":0,\\\"precipProbability\\\":0,\\\"temperature\\\":80.15,\\\"apparentTemperature\\\":84.54,\\\"dewPoint\\\":73.39,\\\"humidity\\\":0.8,\\\"windSpeed\\\":2.24,\\\"windBearing\\\":11,\\\"cloudCover\\\":0.19,\\\"uvIndex\\\":2,\\\"visibility\\\":6.216},{\\\"time\\\":1514595600,\\\"summary\\\":\\\"Humid\\\",\\\"icon\\\":\\\"clear-day\\\",\\\"precipIntensity\\\":0,\\\"precipProbability\\\":0,\\\"temperature\\\":83.78,\\\"apparentTemperature\\\":90.33,\\\"dewPoint\\\":73.39,\\\"humidity\\\":0.71,\\\"windSpeed\\\":6.93,\\\"windBearing\\\":20,\\\"cloudCover\\\":0.19,\\\"uvIndex\\\":4,\\\"visibility\\\":6.216},{\\\"time\\\":1514599200,\\\"summary\\\":\\\"Humid\\\",\\\"icon\\\":\\\"clear-day\\\",\\\"precipIntensity\\\":0,\\\"precipProbability\\\":0,\\\"temperature\\\":89.18,\\\"apparentTemperature\\\":99.66,\\\"dewPoint\\\":75.19,\\\"humidity\\\":0.64,\\\"windSpeed\\\":4.69,\\\"windBearing\\\":50,\\\"cloudCover\\\":0.19,\\\"uvIndex\\\":6,\\\"visibility\\\":6.216},{\\\"time\\\":1514602800,\\\"summary\\\":\\\"Humid\\\",\\\"icon\\\":\\\"clear-day\\\",\\\"precipIntensity\\\":0,\\\"precipProbability\\\":0,\\\"temperature\\\":87.38,\\\"apparentTemperature\\\":95.31,\\\"dewPoint\\\":73.39,\\\"humidity\\\":0.63,\\\"windSpeed\\\":4.69,\\\"windBearing\\\":50,\\\"cloudCover\\\":0.19,\\\"uvIndex\\\":8,\\\"visibility\\\":6.216},{\\\"time\\\":1514606400,\\\"summary\\\":\\\"Humid\\\",\\\"icon\\\":\\\"clear-day\\\",\\\"precipIntensity\\\":0,\\\"precipProbability\\\":0,\\\"temperature\\\":87.38,\\\"apparentTemperature\\\":95.31,\\\"dewPoint\\\":73.39,\\\"humidity\\\":0.63,\\\"windSpeed\\\":4.69,\\\"windBearing\\\":50,\\\"cloudCover\\\":0.19,\\\"uvIndex\\\":8,\\\"visibility\\\":6.216},{\\\"time\\\":1514610000,\\\"summary\\\":\\\"Humid\\\",\\\"icon\\\":\\\"clear-day\\\",\\\"precipIntensity\\\":0,\\\"precipProbability\\\":0,\\\"temperature\\\":90.99,\\\"apparentTemperature\\\":102.1,\\\"dewPoint\\\":75.19,\\\"humidity\\\":0.6,\\\"windSpeed\\\":2.24,\\\"windBearing\\\":150,\\\"cloudCover\\\":0.19,\\\"uvIndex\\\":7,\\\"visibility\\\":6.216},{\\\"time\\\":1514613600,\\\"summary\\\":\\\"Humid\\\",\\\"icon\\\":\\\"clear-day\\\",\\\"precipIntensity\\\":0,\\\"precipProbability\\\":0,\\\"temperature\\\":90.99,\\\"apparentTemperature\\\":102.1,\\\"dewPoint\\\":75.19,\\\"humidity\\\":0.6,\\\"windSpeed\\\":4.69,\\\"windBearing\\\":140,\\\"cloudCover\\\":0.19,\\\"uvIndex\\\":5,\\\"visibility\\\":6.216},{\\\"time\\\":1514617200,\\\"summary\\\":\\\"Humid\\\",\\\"icon\\\":\\\"clear-day\\\",\\\"precipIntensity\\\":0,\\\"precipProbability\\\":0,\\\"temperature\\\":92.74,\\\"apparentTemperature\\\":106.92,\\\"dewPoint\\\":76.99,\\\"humidity\\\":0.6,\\\"windSpeed\\\":4.69,\\\"windBearing\\\":140,\\\"cloudCover\\\":0.19,\\\"uvIndex\\\":3,\\\"visibility\\\":6.216},{\\\"time\\\":1514620800,\\\"summary\\\":\\\"Humid\\\",\\\"icon\\\":\\\"clear-day\\\",\\\"precipIntensity\\\":0,\\\"precipProbability\\\":0,\\\"temperature\\\":89.18,\\\"apparentTemperature\\\":101.94,\\\"dewPoint\\\":76.99,\\\"humidity\\\":0.67,\\\"windSpeed\\\":2.24,\\\"windBearing\\\":150,\\\"cloudCover\\\":0.19,\\\"uvIndex\\\":1,\\\"visibility\\\":6.216},{\\\"time\\\":1514624400,\\\"summary\\\":\\\"Humid\\\",\\\"icon\\\":\\\"clear-day\\\",\\\"precipIntensity\\\":0,\\\"precipProbability\\\":0,\\\"temperature\\\":83.78,\\\"apparentTemperature\\\":91.78,\\\"dewPoint\\\":75.19,\\\"humidity\\\":0.75,\\\"windSpeed\\\":2.24,\\\"windBearing\\\":161,\\\"cloudCover\\\":0.19,\\\"uvIndex\\\":0,\\\"visibility\\\":6.216},{\\\"time\\\":1514628000,\\\"temperature\\\":83.78,\\\"apparentTemperature\\\":91.78,\\\"dewPoint\\\":75.19,\\\"humidity\\\":0.75,\\\"windSpeed\\\":2.24,\\\"windBearing\\\":161,\\\"cloudCover\\\":0.19,\\\"uvIndex\\\":0,\\\"visibility\\\":6.216}]},\\\"daily\\\":{\\\"data\\\":[{\\\"time\\\":1514563200,\\\"icon\\\":\\\"clear-day\\\",\\\"sunriseTime\\\":1514584140,\\\"sunsetTime\\\":1514626560,\\\"moonPhase\\\":0.4,\\\"precipIntensity\\\":0,\\\"precipIntensityMax\\\":0,\\\"precipProbability\\\":0,\\\"temperatureHigh\\\":93.28,\\\"temperatureHighTime\\\":1514616900,\\\"apparentTemperatureHigh\\\":106.92,\\\"apparentTemperatureHighTime\\\":1514617200,\\\"dewPoint\\\":74.93,\\\"humidity\\\":0.66,\\\"windSpeed\\\":3.94,\\\"windBearing\\\":83,\\\"cloudCover\\\":0.19,\\\"uvIndex\\\":8,\\\"uvIndexTime\\\":1514605320,\\\"visibility\\\":6.216,\\\"temperatureMin\\\":79.66,\\\"temperatureMinTime\\\":1514592000,\\\"temperatureMax\\\":93.28,\\\"temperatureMaxTime\\\":1514616900,\\\"apparentTemperatureMin\\\":84.54,\\\"apparentTemperatureMinTime\\\":1514592000,\\\"apparentTemperatureMax\\\":106.92,\\\"apparentTemperatureMaxTime\\\":1514617200}]},\\\"flags\\\":{\\\"sources\\\":[\\\"cmc\\\",\\\"gfs\\\",\\\"icon\\\",\\\"isd\\\",\\\"madis\\\"],\\\"nearest-station\\\":16.746,\\\"units\\\":\\\"us\\\"},\\\"offset\\\":8}\\n\""
      ]
     },
     "execution_count": 130,
     "metadata": {},
     "output_type": "execute_result"
    }
   ],
   "source": [
    "historical = historical_weather(latitude, longitude, earthquake_datetime)"
   ]
  },
  {
   "cell_type": "code",
   "execution_count": 133,
   "metadata": {},
   "outputs": [
    {
     "ename": "MethodError",
     "evalue": "MethodError: no method matching getindex(::String, ::String)\nClosest candidates are:\n  getindex(::String, !Matched::UnitRange{Int64}) at strings/string.jl:241\n  getindex(::String, !Matched::Int64) at strings/string.jl:206\n  getindex(::String, !Matched::UnitRange{#s57} where #s57<:Integer) at strings/string.jl:238\n  ...",
     "output_type": "error",
     "traceback": [
      "MethodError: no method matching getindex(::String, ::String)\nClosest candidates are:\n  getindex(::String, !Matched::UnitRange{Int64}) at strings/string.jl:241\n  getindex(::String, !Matched::Int64) at strings/string.jl:206\n  getindex(::String, !Matched::UnitRange{#s57} where #s57<:Integer) at strings/string.jl:238\n  ...",
      "",
      "Stacktrace:",
      " [1] top-level scope at In[133]:1"
     ]
    }
   ],
   "source": [
    "historical[\"Dily\"]"
   ]
  },
  {
   "cell_type": "code",
   "execution_count": 131,
   "metadata": {},
   "outputs": [
    {
     "data": {
      "text/plain": [
       "\"{\\\"latitude\\\":5.8983,\\\"longitude\\\":125.2905,\\\"timezone\\\":\\\"Asia/Manila\\\",\\\"currently\\\":{\\\"time\\\":1578109960,\\\"summary\\\":\\\"Humid\\\",\\\"icon\\\":\\\"clear-day\\\",\\\"precipIntensity\\\":0,\\\"precipProbability\\\":0,\\\"temperature\\\":85.96,\\\"apparentTemperature\\\":92.38,\\\"dewPoint\\\":72.22,\\\"humidity\\\":0.64,\\\"pressure\\\":1008.8,\\\"windSpeed\\\":8.35,\\\"windGust\\\":13.46,\\\"windBearing\\\":1,\\\"cloudCover\\\":0.01,\\\"uvIndex\\\":11,\\\"visibility\\\":10,\\\"ozone\\\":240.7},\\\"hourly\\\":{\\\"summary\\\":\\\"Humid and partly cloudy throughout the day.\\\",\\\"icon\\\":\\\"partly-cloudy-day\\\",\\\"data\\\":[{\\\"time\\\":1578106800,\\\"summary\\\":\\\"Humid\\\",\\\"icon\\\":\\\"clear-day\\\",\\\"precipIntensity\\\":0,\\\"precipProbability\\\":0,\\\"temperature\\\":84.73,\\\"apparentTemperature\\\":90.93,\\\"dewPoint\\\":72.44,\\\"humidity\\\":0.67,\\\"pressure\\\":1009.5,\\\"windSpeed\\\":7.89,\\\"windGust\\\":12.96,\\\"windBearing\\\":359,\\\"cloudCover\\\":0.01,\\\"uvIndex\\\":11,\\\"visibility\\\":10,\\\"ozone\\\":241.5},{\\\"time\\\":1578110400,\\\"summary\\\":\\\"Humid\\\",\\\"icon\\\":\\\"clear-day\\\",\\\"precipIntensity\\\":0,\\\"precipProbability\\\":0,\\\"temperature\\\":86.1,\\\"apparentTemperature\\\":92.52,\\\"dewPoint\\\":72.17,\\\"humidity\\\":0.63,\\\"pressure\\\":1008.7,\\\"windSpeed\\\":8.41,\\\"windGust\\\":13.52,\\\"windBearing\\\":1,\\\"cloudCover\\\":0.01,\\\"uvIndex\\\":11,\\\"visibility\\\":10,\\\"ozone\\\":240.6},{\\\"time\\\":1578114000,\\\"summary\\\":\\\"Clear\\\",\\\"icon\\\":\\\"clear-day\\\",\\\"precipIntensity\\\":0,\\\"precipProbability\\\":0,\\\"temperature\\\":86.92,\\\"apparentTemperature\\\":93.12,\\\"dewPoint\\\":71.63,\\\"humidity\\\":0.61,\\\"pressure\\\":1007.8,\\\"windSpeed\\\":8.82,\\\"windGust\\\":13.89,\\\"windBearing\\\":5,\\\"cloudCover\\\":0.05,\\\"uvIndex\\\":10,\\\"visibility\\\":10,\\\"ozone\\\":239.3},{\\\"time\\\":1578117600,\\\"summary\\\":\\\"Clear\\\",\\\"icon\\\":\\\"clear-day\\\",\\\"precipIntensity\\\":0,\\\"precipProbability\\\":0,\\\"temperature\\\":86.77,\\\"apparentTemperature\\\":92.76,\\\"dewPoint\\\":71.42,\\\"humidity\\\":0.6,\\\"pressure\\\":1007.1,\\\"windSpeed\\\":8.99,\\\"windGust\\\":14.08,\\\"windBearing\\\":9,\\\"cloudCover\\\":0.08,\\\"uvIndex\\\":7,\\\"visibility\\\":10,\\\"ozone\\\":238},{\\\"time\\\":1578121200,\\\"summary\\\":\\\"Clear\\\",\\\"icon\\\":\\\"clear-day\\\",\\\"precipIntensity\\\":0,\\\"precipProbability\\\":0,\\\"temperature\\\":85.82,\\\"apparentTemperature\\\":91.77,\\\"dewPoint\\\":71.68,\\\"humidity\\\":0.63,\\\"pressure\\\":1006.8,\\\"windSpeed\\\":8.82,\\\"windGust\\\":14.21,\\\"windBearing\\\":10,\\\"cloudCover\\\":0.07,\\\"uvIndex\\\":4,\\\"visibility\\\":10,\\\"ozone\\\":236.9},{\\\"time\\\":1578124800,\\\"summary\\\":\\\"Clear\\\",\\\"icon\\\":\\\"clear-day\\\",\\\"precipIntensity\\\":0,\\\"precipProbability\\\":0,\\\"temperature\\\":84.17,\\\"apparentTemperature\\\":89.78,\\\"dewPoint\\\":71.9,\\\"humidity\\\":0.67,\\\"pressure\\\":1007.4,\\\"windSpeed\\\":8.41,\\\"windGust\\\":14.17,\\\"windBearing\\\":11,\\\"cloudCover\\\":0.04,\\\"uvIndex\\\":1,\\\"visibility\\\":10,\\\"ozone\\\":235.8},{\\\"time\\\":1578128400,\\\"summary\\\":\\\"Humid\\\",\\\"icon\\\":\\\"clear-day\\\",\\\"precipIntensity\\\":0.0004,\\\"precipProbability\\\":0.05,\\\"precipType\\\":\\\"rain\\\",\\\"temperature\\\":82.57,\\\"apparentTemperature\\\":87.88,\\\"dewPoint\\\":72.38,\\\"humidity\\\":0.71,\\\"pressure\\\":1007.3,\\\"windSpeed\\\":7.98,\\\"windGust\\\":13.65,\\\"windBearing\\\":14,\\\"cloudCover\\\":0.03,\\\"uvIndex\\\":0,\\\"visibility\\\":10,\\\"ozone\\\":235.2},{\\\"time\\\":1578132000,\\\"summary\\\":\\\"Humid\\\",\\\"icon\\\":\\\"clear-night\\\",\\\"precipIntensity\\\":0.0006,\\\"precipProbability\\\":0.04,\\\"precipType\\\":\\\"rain\\\",\\\"temperature\\\":80.89,\\\"apparentTemperature\\\":85.41,\\\"dewPoint\\\":72.51,\\\"humidity\\\":0.76,\\\"pressure\\\":1007.8,\\\"windSpeed\\\":7.5,\\\"windGust\\\":12.27,\\\"windBearing\\\":19,\\\"cloudCover\\\":0.06,\\\"uvIndex\\\":0,\\\"visibility\\\":10,\\\"ozone\\\":235.4},{\\\"time\\\":1578135600,\\\"summary\\\":\\\"Humid\\\",\\\"icon\\\":\\\"clear-night\\\",\\\"precipIntensity\\\":0.0008,\\\"precipProbability\\\":0.04,\\\"precipType\\\":\\\"rain\\\",\\\"temperature\\\":79.2,\\\"apparentTemperature\\\":82.47,\\\"dewPoint\\\":72.01,\\\"humidity\\\":0.79,\\\"pressure\\\":1008.7,\\\"windSpeed\\\":6.99,\\\"windGust\\\":10.45,\\\"windBearing\\\":29,\\\"cloudCover\\\":0.11,\\\"uvIndex\\\":0,\\\"visibility\\\":10,\\\"ozone\\\":236},{\\\"time\\\":1578139200,\\\"summary\\\":\\\"Clear\\\",\\\"icon\\\":\\\"clear-night\\\",\\\"precipIntensity\\\":0.0009,\\\"precipProbability\\\":0.04,\\\"precipType\\\":\\\"rain\\\",\\\"temperature\\\":77.7,\\\"apparentTemperature\\\":78.94,\\\"dewPoint\\\":71.12,\\\"humidity\\\":0.8,\\\"pressure\\\":1009.4,\\\"windSpeed\\\":6.62,\\\"windGust\\\":9,\\\"windBearing\\\":33,\\\"cloudCover\\\":0.13,\\\"uvIndex\\\":0,\\\"visibility\\\":10,\\\"ozone\\\":236.5},{\\\"time\\\":1578142800,\\\"summary\\\":\\\"Clear\\\",\\\"icon\\\":\\\"clear-night\\\",\\\"precipIntensity\\\":0.0005,\\\"precipProbability\\\":0.03,\\\"precipType\\\":\\\"rain\\\",\\\"temperature\\\":76.99,\\\"apparentTemperature\\\":78.2,\\\"dewPoint\\\":70.79,\\\"humidity\\\":0.81,\\\"pressure\\\":1009.7,\\\"windSpeed\\\":6.33,\\\"windGust\\\":8.04,\\\"windBearing\\\":30,\\\"cloudCover\\\":0.1,\\\"uvIndex\\\":0,\\\"visibility\\\":10,\\\"ozone\\\":236.8},{\\\"time\\\":1578146400,\\\"summary\\\":\\\"Clear\\\",\\\"icon\\\":\\\"clear-night\\\",\\\"precipIntensity\\\":0,\\\"precipProbability\\\":0,\\\"temperature\\\":76.35,\\\"apparentTemperature\\\":77.53,\\\"dewPoint\\\":70.41,\\\"humidity\\\":0.82,\\\"pressure\\\":1010,\\\"windSpeed\\\":6.12,\\\"windGust\\\":7.33,\\\"windBearing\\\":24,\\\"cloudCover\\\":0.06,\\\"uvIndex\\\":0,\\\"visibility\\\":10,\\\"ozone\\\":236.9},{\\\"time\\\":1578150000,\\\"summary\\\":\\\"Clear\\\",\\\"icon\\\":\\\"clear-night\\\",\\\"precipIntensity\\\":0,\\\"precipProbability\\\":0,\\\"temperature\\\":75.59,\\\"apparentTemperature\\\":76.72,\\\"dewPoint\\\":69.89,\\\"humidity\\\":0.83,\\\"pressure\\\":1009.7,\\\"windSpeed\\\":6.09,\\\"windGust\\\":7.18,\\\"windBearing\\\":18,\\\"cloudCover\\\":0.03,\\\"uvIndex\\\":0,\\\"visibility\\\":10,\\\"ozone\\\":237},{\\\"time\\\":1578153600,\\\"summary\\\":\\\"Clear\\\",\\\"icon\\\":\\\"clear-night\\\",\\\"precipIntensity\\\":0,\\\"precipProbability\\\":0,\\\"temperature\\\":75.15,\\\"apparentTemperature\\\":76.26,\\\"dewPoint\\\":69.62,\\\"humidity\\\":0.83,\\\"pressure\\\":1009.3,\\\"windSpeed\\\":6.35,\\\"windGust\\\":7.54,\\\"windBearing\\\":16,\\\"cloudCover\\\":0.03,\\\"uvIndex\\\":0,\\\"visibility\\\":10,\\\"ozone\\\":237.1},{\\\"time\\\":1578157200,\\\"summary\\\":\\\"Clear\\\",\\\"icon\\\":\\\"clear-night\\\",\\\"precipIntensity\\\":0,\\\"precipProbability\\\":0,\\\"temperature\\\":74.93,\\\"apparentTemperature\\\":76.02,\\\"dewPoint\\\":69.42,\\\"humidity\\\":0.83,\\\"pressure\\\":1008.9,\\\"windSpeed\\\":6.76,\\\"windGust\\\":8.44,\\\"windBearing\\\":16,\\\"cloudCover\\\":0.03,\\\"uvIndex\\\":0,\\\"visibility\\\":10,\\\"ozone\\\":237},{\\\"time\\\":1578160800,\\\"summary\\\":\\\"Clear\\\",\\\"icon\\\":\\\"clear-night\\\",\\\"precipIntensity\\\":0,\\\"precipProbability\\\":0,\\\"temperature\\\":74.65,\\\"apparentTemperature\\\":75.75,\\\"dewPoint\\\":69.37,\\\"humidity\\\":0.84,\\\"pressure\\\":1008.7,\\\"windSpeed\\\":7.09,\\\"windGust\\\":9.21,\\\"windBearing\\\":14,\\\"cloudCover\\\":0.03,\\\"uvIndex\\\":0,\\\"visibility\\\":10,\\\"ozone\\\":237},{\\\"time\\\":1578164400,\\\"summary\\\":\\\"Clear\\\",\\\"icon\\\":\\\"clear-night\\\",\\\"precipIntensity\\\":0,\\\"precipProbability\\\":0,\\\"temperature\\\":74.55,\\\"apparentTemperature\\\":75.67,\\\"dewPoint\\\":69.53,\\\"humidity\\\":0.84,\\\"pressure\\\":1008.7,\\\"windSpeed\\\":7.24,\\\"windGust\\\":9.58,\\\"windBearing\\\":13,\\\"cloudCover\\\":0.04,\\\"uvIndex\\\":0,\\\"visibility\\\":10,\\\"ozone\\\":236.9},{\\\"time\\\":1578168000,\\\"summary\\\":\\\"Clear\\\",\\\"icon\\\":\\\"clear-night\\\",\\\"precipIntensity\\\":0,\\\"precipProbability\\\":0,\\\"temperature\\\":74.4,\\\"apparentTemperature\\\":75.54,\\\"dewPoint\\\":69.65,\\\"humidity\\\":0.85,\\\"pressure\\\":1008.5,\\\"windSpeed\\\":7.31,\\\"windGust\\\":9.79,\\\"windBearing\\\":13,\\\"cloudCover\\\":0.04,\\\"uvIndex\\\":0,\\\"visibility\\\":10,\\\"ozone\\\":237},{\\\"time\\\":1578171600,\\\"summary\\\":\\\"Clear\\\",\\\"icon\\\":\\\"clear-night\\\",\\\"precipIntensity\\\":0,\\\"precipProbability\\\":0,\\\"temperature\\\":74.76,\\\"apparentTemperature\\\":75.94,\\\"dewPoint\\\":70,\\\"humidity\\\":0.85,\\\"pressure\\\":1008.8,\\\"windSpeed\\\":7.39,\\\"windGust\\\":10.02,\\\"windBearing\\\":11,\\\"cloudCover\\\":0.04,\\\"uvIndex\\\":0,\\\"visibility\\\":10,\\\"ozone\\\":237.1},{\\\"time\\\":1578175200,\\\"summary\\\":\\\"Clear\\\",\\\"icon\\\":\\\"clear-day\\\",\\\"precipIntensity\\\":0,\\\"precipProbability\\\":0,\\\"temperature\\\":75.85,\\\"apparentTemperature\\\":77.09,\\\"dewPoint\\\":70.72,\\\"humidity\\\":0.84,\\\"pressure\\\":1009.6,\\\"windSpeed\\\":7.49,\\\"windGust\\\":10.33,\\\"windBearing\\\":11,\\\"cloudCover\\\":0.04,\\\"uvIndex\\\":0,\\\"visibility\\\":10,\\\"ozone\\\":237.1},{\\\"time\\\":1578178800,\\\"summary\\\":\\\"Clear\\\",\\\"icon\\\":\\\"clear-day\\\",\\\"precipIntensity\\\":0,\\\"precipProbability\\\":0,\\\"temperature\\\":77.54,\\\"apparentTemperature\\\":78.84,\\\"dewPoint\\\":71.55,\\\"humidity\\\":0.82,\\\"pressure\\\":1010.7,\\\"windSpeed\\\":7.59,\\\"windGust\\\":10.67,\\\"windBearing\\\":11,\\\"cloudCover\\\":0.04,\\\"uvIndex\\\":1,\\\"visibility\\\":10,\\\"ozone\\\":237.3},{\\\"time\\\":1578182400,\\\"summary\\\":\\\"Humid\\\",\\\"icon\\\":\\\"clear-day\\\",\\\"precipIntensity\\\":0,\\\"precipProbability\\\":0,\\\"temperature\\\":79.51,\\\"apparentTemperature\\\":83.07,\\\"dewPoint\\\":72.31,\\\"humidity\\\":0.79,\\\"pressure\\\":1011.1,\\\"windSpeed\\\":7.71,\\\"windGust\\\":10.99,\\\"windBearing\\\":11,\\\"cloudCover\\\":0.04,\\\"uvIndex\\\":3,\\\"visibility\\\":10,\\\"ozone\\\":237.3},{\\\"time\\\":1578186000,\\\"summary\\\":\\\"Clear\\\",\\\"icon\\\":\\\"clear-day\\\",\\\"precipIntensity\\\":0,\\\"precipProbability\\\":0,\\\"temperature\\\":81.7,\\\"apparentTemperature\\\":86.27,\\\"dewPoint\\\":71.75,\\\"humidity\\\":0.72,\\\"pressure\\\":1011.1,\\\"windSpeed\\\":7.89,\\\"windGust\\\":11.29,\\\"windBearing\\\":11,\\\"cloudCover\\\":0.25,\\\"uvIndex\\\":5,\\\"visibility\\\":10,\\\"ozone\\\":237.1},{\\\"time\\\":1578189600,\\\"summary\\\":\\\"Partly Cloudy\\\",\\\"icon\\\":\\\"partly-cloudy-day\\\",\\\"precipIntensity\\\":0.0003,\\\"precipProbability\\\":0.04,\\\"precipType\\\":\\\"rain\\\",\\\"temperature\\\":84.04,\\\"apparentTemperature\\\":89.07,\\\"dewPoint\\\":71.12,\\\"humidity\\\":0.65,\\\"pressure\\\":1010.4,\\\"windSpeed\\\":8.09,\\\"windGust\\\":11.59,\\\"windBearing\\\":9,\\\"cloudCover\\\":0.54,\\\"uvIndex\\\":7,\\\"visibility\\\":10,\\\"ozone\\\":236.7},{\\\"time\\\":1578193200,\\\"summary\\\":\\\"Mostly Cloudy\\\",\\\"icon\\\":\\\"partly-cloudy-day\\\",\\\"precipIntensity\\\":0.0004,\\\"precipProbability\\\":0.04,\\\"precipType\\\":\\\"rain\\\",\\\"temperature\\\":85.73,\\\"apparentTemperature\\\":90.39,\\\"dewPoint\\\":69.96,\\\"humidity\\\":0.59,\\\"pressure\\\":1009.8,\\\"windSpeed\\\":8.13,\\\"windGust\\\":11.86,\\\"windBearing\\\":9,\\\"cloudCover\\\":0.76,\\\"uvIndex\\\":7,\\\"visibility\\\":10,\\\"ozone\\\":236.4},{\\\"time\\\":1578196800,\\\"summary\\\":\\\"Mostly Cloudy\\\",\\\"icon\\\":\\\"partly-cloudy-day\\\",\\\"precipIntensity\\\":0.0002,\\\"precipProbability\\\":0.03,\\\"precipType\\\":\\\"rain\\\",\\\"temperature\\\":87.46,\\\"apparentTemperature\\\":91.51,\\\"dewPoint\\\":68.67,\\\"humidity\\\":0.54,\\\"pressure\\\":1009.5,\\\"windSpeed\\\":7.88,\\\"windGust\\\":12.2,\\\"windBearing\\\":8,\\\"cloudCover\\\":0.84,\\\"uvIndex\\\":7,\\\"visibility\\\":10,\\\"ozone\\\":236.3},{\\\"time\\\":1578200400,\\\"summary\\\":\\\"Mostly Cloudy\\\",\\\"icon\\\":\\\"partly-cloudy-day\\\",\\\"precipIntensity\\\":0,\\\"precipProbability\\\":0,\\\"temperature\\\":88.77,\\\"apparentTemperature\\\":92.21,\\\"dewPoint\\\":67.52,\\\"humidity\\\":0.5,\\\"pressure\\\":1008.2,\\\"windSpeed\\\":7.54,\\\"windGust\\\":12.49,\\\"windBearing\\\":9,\\\"cloudCover\\\":0.84,\\\"uvIndex\\\":6,\\\"visibility\\\":10,\\\"ozone\\\":236.3},{\\\"time\\\":1578204000,\\\"summary\\\":\\\"Mostly Cloudy\\\",\\\"icon\\\":\\\"partly-cloudy-day\\\",\\\"precipIntensity\\\":0,\\\"precipProbability\\\":0,\\\"temperature\\\":89.13,\\\"apparentTemperature\\\":92.37,\\\"dewPoint\\\":67.14,\\\"humidity\\\":0.48,\\\"pressure\\\":1007.3,\\\"windSpeed\\\":7.25,\\\"windGust\\\":12.57,\\\"windBearing\\\":11,\\\"cloudCover\\\":0.85,\\\"uvIndex\\\":5,\\\"visibility\\\":10,\\\"ozone\\\":236},{\\\"time\\\":1578207600,\\\"summary\\\":\\\"Overcast\\\",\\\"icon\\\":\\\"cloudy\\\",\\\"precipIntensity\\\":0,\\\"precipProbability\\\":0,\\\"temperature\\\":88.32,\\\"apparentTemperature\\\":92.28,\\\"dewPoint\\\":68.36,\\\"humidity\\\":0.52,\\\"pressure\\\":1007.1,\\\"windSpeed\\\":7.09,\\\"windGust\\\":12.42,\\\"windBearing\\\":11,\\\"cloudCover\\\":0.89,\\\"uvIndex\\\":3,\\\"visibility\\\":10,\\\"ozone\\\":235.3},{\\\"time\\\":1578211200,\\\"summary\\\":\\\"Overcast\\\",\\\"icon\\\":\\\"cloudy\\\",\\\"precipIntensity\\\":0,\\\"precipProbability\\\":0,\\\"temperature\\\":86.67,\\\"apparentTemperature\\\":91.77,\\\"dewPoint\\\":70.3,\\\"humidity\\\":0.58,\\\"pressure\\\":1007.2,\\\"windSpeed\\\":6.98,\\\"windGust\\\":12.05,\\\"windBearing\\\":12,\\\"cloudCover\\\":0.94,\\\"uvIndex\\\":1,\\\"visibility\\\":10,\\\"ozone\\\":234.4},{\\\"time\\\":1578214800,\\\"summary\\\":\\\"Overcast\\\",\\\"icon\\\":\\\"cloudy\\\",\\\"precipIntensity\\\":0,\\\"precipProbability\\\":0,\\\"temperature\\\":84.65,\\\"apparentTemperature\\\":90.08,\\\"dewPoint\\\":71.44,\\\"humidity\\\":0.65,\\\"pressure\\\":1007.4,\\\"windSpeed\\\":6.78,\\\"windGust\\\":11.32,\\\"windBearing\\\":14,\\\"cloudCover\\\":0.96,\\\"uvIndex\\\":0,\\\"visibility\\\":10,\\\"ozone\\\":233.8},{\\\"time\\\":1578218400,\\\"summary\\\":\\\"Overcast\\\",\\\"icon\\\":\\\"cloudy\\\",\\\"precipIntensity\\\":0,\\\"precipProbability\\\":0,\\\"temperature\\\":82.82,\\\"apparentTemperature\\\":87.55,\\\"dewPoint\\\":71.24,\\\"humidity\\\":0.68,\\\"pressure\\\":1008.1,\\\"windSpeed\\\":6.47,\\\"windGust\\\":9.9,\\\"windBearing\\\":23,\\\"cloudCover\\\":0.94,\\\"uvIndex\\\":0,\\\"visibility\\\":10,\\\"ozone\\\":234},{\\\"time\\\":1578222000,\\\"summary\\\":\\\"Overcast\\\",\\\"icon\\\":\\\"cloudy\\\",\\\"precipIntensity\\\":0,\\\"precipProbability\\\":0,\\\"temperature\\\":80.9,\\\"apparentTemperature\\\":84.7,\\\"dewPoint\\\":70.83,\\\"humidity\\\":0.72,\\\"pressure\\\":1009.2,\\\"windSpeed\\\":6.14,\\\"windGust\\\":8.34,\\\"windBearing\\\":32,\\\"cloudCover\\\":0.9,\\\"uvIndex\\\":0,\\\"visibility\\\":10,\\\"ozone\\\":234.5},{\\\"time\\\":1578225600,\\\"summary\\\":\\\"Overcast\\\",\\\"icon\\\":\\\"cloudy\\\",\\\"precipIntensity\\\":0,\\\"precipProbability\\\":0,\\\"temperature\\\":79.24,\\\"apparentTemperature\\\":82.19,\\\"dewPoint\\\":70.5,\\\"humidity\\\":0.75,\\\"pressure\\\":1010,\\\"windSpeed\\\":5.92,\\\"windGust\\\":7.53,\\\"windBearing\\\":36,\\\"cloudCover\\\":0.89,\\\"uvIndex\\\":0,\\\"visibility\\\":10,\\\"ozone\\\":235},{\\\"time\\\":1578229200,\\\"summary\\\":\\\"Overcast\\\",\\\"icon\\\":\\\"cloudy\\\",\\\"precipIntensity\\\":0,\\\"precipProbability\\\":0,\\\"temperature\\\":78.3,\\\"apparentTemperature\\\":79.48,\\\"dewPoint\\\":70.72,\\\"humidity\\\":0.78,\\\"pressure\\\":1010.6,\\\"windSpeed\\\":5.81,\\\"windGust\\\":7.22,\\\"windBearing\\\":35,\\\"cloudCover\\\":0.9,\\\"uvIndex\\\":0,\\\"visibility\\\":10,\\\"ozone\\\":235.6},{\\\"time\\\":1578232800,\\\"summary\\\":\\\"Overcast\\\",\\\"icon\\\":\\\"cloudy\\\",\\\"precipIntensity\\\":0,\\\"precipProbability\\\":0,\\\"temperature\\\":77.52,\\\"apparentTemperature\\\":78.74,\\\"dewPoint\\\":70.94,\\\"humidity\\\":0.8,\\\"pressure\\\":1010.6,\\\"windSpeed\\\":5.77,\\\"windGust\\\":7.14,\\\"windBearing\\\":30,\\\"cloudCover\\\":0.93,\\\"uvIndex\\\":0,\\\"visibility\\\":10,\\\"ozone\\\":236.2},{\\\"time\\\":1578236400,\\\"summary\\\":\\\"Overcast\\\",\\\"icon\\\":\\\"cloudy\\\",\\\"precipIntensity\\\":0.0002,\\\"precipProbability\\\":0.01,\\\"precipType\\\":\\\"rain\\\",\\\"temperature\\\":76.47,\\\"apparentTemperature\\\":77.7,\\\"dewPoint\\\":70.78,\\\"humidity\\\":0.83,\\\"pressure\\\":1010.5,\\\"windSpeed\\\":5.75,\\\"windGust\\\":7.17,\\\"windBearing\\\":26,\\\"cloudCover\\\":0.96,\\\"uvIndex\\\":0,\\\"visibility\\\":10,\\\"ozone\\\":236.8},{\\\"time\\\":1578240000,\\\"summary\\\":\\\"Overcast\\\",\\\"icon\\\":\\\"cloudy\\\",\\\"precipIntensity\\\":0.0003,\\\"precipProbability\\\":0.01,\\\"precipType\\\":\\\"rain\\\",\\\"temperature\\\":75.7,\\\"apparentTemperature\\\":76.97,\\\"dewPoint\\\":70.85,\\\"humidity\\\":0.85,\\\"pressure\\\":1010.2,\\\"windSpeed\\\":5.72,\\\"windGust\\\":7.27,\\\"windBearing\\\":23,\\\"cloudCover\\\":0.97,\\\"uvIndex\\\":0,\\\"visibility\\\":10,\\\"ozone\\\":237.4},{\\\"time\\\":1578243600,\\\"summary\\\":\\\"Overcast\\\",\\\"icon\\\":\\\"cloudy\\\",\\\"precipIntensity\\\":0.0006,\\\"precipProbability\\\":0.05,\\\"precipType\\\":\\\"rain\\\",\\\"temperature\\\":75.2,\\\"apparentTemperature\\\":76.5,\\\"dewPoint\\\":70.95,\\\"humidity\\\":0.87,\\\"pressure\\\":1009.6,\\\"windSpeed\\\":5.72,\\\"windGust\\\":7.62,\\\"windBearing\\\":21,\\\"cloudCover\\\":0.98,\\\"uvIndex\\\":0,\\\"visibility\\\":10,\\\"ozone\\\":238},{\\\"time\\\":1578247200,\\\"summary\\\":\\\"Overcast\\\",\\\"icon\\\":\\\"cloudy\\\",\\\"precipIntensity\\\":0.0009,\\\"precipProbability\\\":0.05,\\\"precipType\\\":\\\"rain\\\",\\\"temperature\\\":74.98,\\\"apparentTemperature\\\":76.31,\\\"dewPoint\\\":71.11,\\\"humidity\\\":0.88,\\\"pressure\\\":1009.2,\\\"windSpeed\\\":5.78,\\\"windGust\\\":7.96,\\\"windBearing\\\":19,\\\"cloudCover\\\":0.98,\\\"uvIndex\\\":0,\\\"visibility\\\":10,\\\"ozone\\\":238.5},{\\\"time\\\":1578250800,\\\"summary\\\":\\\"Overcast\\\",\\\"icon\\\":\\\"cloudy\\\",\\\"precipIntensity\\\":0.0005,\\\"precipProbability\\\":0.04,\\\"precipType\\\":\\\"rain\\\",\\\"temperature\\\":74.88,\\\"apparentTemperature\\\":76.23,\\\"dewPoint\\\":71.22,\\\"humidity\\\":0.88,\\\"pressure\\\":1009.2,\\\"windSpeed\\\":5.95,\\\"windGust\\\":8.37,\\\"windBearing\\\":19,\\\"cloudCover\\\":0.99,\\\"uvIndex\\\":0,\\\"visibility\\\":10,\\\"ozone\\\":238.5},{\\\"time\\\":1578254400,\\\"summary\\\":\\\"Overcast\\\",\\\"icon\\\":\\\"cloudy\\\",\\\"precipIntensity\\\":0,\\\"precipProbability\\\":0,\\\"temperature\\\":74.78,\\\"apparentTemperature\\\":76.12,\\\"dewPoint\\\":71.15,\\\"humidity\\\":0.88,\\\"pressure\\\":1009.6,\\\"windSpeed\\\":6.21,\\\"windGust\\\":8.77,\\\"windBearing\\\":20,\\\"cloudCover\\\":0.99,\\\"uvIndex\\\":0,\\\"visibility\\\":10,\\\"ozone\\\":238.2},{\\\"time\\\":1578258000,\\\"summary\\\":\\\"Overcast\\\",\\\"icon\\\":\\\"cloudy\\\",\\\"precipIntensity\\\":0,\\\"precipProbability\\\":0,\\\"temperature\\\":75.14,\\\"apparentTemperature\\\":76.5,\\\"dewPoint\\\":71.44,\\\"humidity\\\":0.88,\\\"pressure\\\":1009.8,\\\"windSpeed\\\":6.4,\\\"windGust\\\":8.99,\\\"windBearing\\\":20,\\\"cloudCover\\\":0.99,\\\"uvIndex\\\":0,\\\"visibility\\\":10,\\\"ozone\\\":237.9},{\\\"time\\\":1578261600,\\\"summary\\\":\\\"Overcast\\\",\\\"icon\\\":\\\"cloudy\\\",\\\"precipIntensity\\\":0,\\\"precipProbability\\\":0,\\\"temperature\\\":76.16,\\\"apparentTemperature\\\":77.49,\\\"dewPoint\\\":71.5,\\\"humidity\\\":0.86,\\\"pressure\\\":1010.5,\\\"windSpeed\\\":6.49,\\\"windGust\\\":8.79,\\\"windBearing\\\":18,\\\"cloudCover\\\":0.99,\\\"uvIndex\\\":0,\\\"visibility\\\":10,\\\"ozone\\\":237.7},{\\\"time\\\":1578265200,\\\"summary\\\":\\\"Overcast\\\",\\\"icon\\\":\\\"cloudy\\\",\\\"precipIntensity\\\":0,\\\"precipProbability\\\":0,\\\"temperature\\\":77.8,\\\"apparentTemperature\\\":79.06,\\\"dewPoint\\\":71.34,\\\"humidity\\\":0.81,\\\"pressure\\\":1011.1,\\\"windSpeed\\\":6.48,\\\"windGust\\\":8.42,\\\"windBearing\\\":16,\\\"cloudCover\\\":0.99,\\\"uvIndex\\\":1,\\\"visibility\\\":10,\\\"ozone\\\":237.3},{\\\"time\\\":1578268800,\\\"summary\\\":\\\"Overcast\\\",\\\"icon\\\":\\\"cloudy\\\",\\\"precipIntensity\\\":0.0003,\\\"precipProbability\\\":0.05,\\\"precipType\\\":\\\"rain\\\",\\\"temperature\\\":79.86,\\\"apparentTemperature\\\":83.19,\\\"dewPoint\\\":70.82,\\\"humidity\\\":0.74,\\\"pressure\\\":1011.2,\\\"windSpeed\\\":6.49,\\\"windGust\\\":8.31,\\\"windBearing\\\":13,\\\"cloudCover\\\":0.99,\\\"uvIndex\\\":2,\\\"visibility\\\":10,\\\"ozone\\\":237.3},{\\\"time\\\":1578272400,\\\"summary\\\":\\\"Overcast\\\",\\\"icon\\\":\\\"cloudy\\\",\\\"precipIntensity\\\":0,\\\"precipProbability\\\":0,\\\"temperature\\\":82.23,\\\"apparentTemperature\\\":86.46,\\\"dewPoint\\\":70.71,\\\"humidity\\\":0.68,\\\"pressure\\\":1011.3,\\\"windSpeed\\\":6.53,\\\"windGust\\\":8.71,\\\"windBearing\\\":9,\\\"cloudCover\\\":0.99,\\\"uvIndex\\\":4,\\\"visibility\\\":10,\\\"ozone\\\":238},{\\\"time\\\":1578276000,\\\"summary\\\":\\\"Overcast\\\",\\\"icon\\\":\\\"cloudy\\\",\\\"precipIntensity\\\":0,\\\"precipProbability\\\":0,\\\"temperature\\\":84.76,\\\"apparentTemperature\\\":89.57,\\\"dewPoint\\\":70.5,\\\"humidity\\\":0.62,\\\"pressure\\\":1010.7,\\\"windSpeed\\\":6.72,\\\"windGust\\\":9.39,\\\"windBearing\\\":3,\\\"cloudCover\\\":0.99,\\\"uvIndex\\\":5,\\\"visibility\\\":10,\\\"ozone\\\":239},{\\\"time\\\":1578279600,\\\"summary\\\":\\\"Overcast\\\",\\\"icon\\\":\\\"cloudy\\\",\\\"precipIntensity\\\":0,\\\"precipProbability\\\":0,\\\"temperature\\\":86.46,\\\"apparentTemperature\\\":91.03,\\\"dewPoint\\\":69.65,\\\"humidity\\\":0.57,\\\"pressure\\\":1009.8,\\\"windSpeed\\\":6.96,\\\"windGust\\\":10.02,\\\"windBearing\\\":358,\\\"cloudCover\\\":0.98,\\\"uvIndex\\\":6,\\\"visibility\\\":10,\\\"ozone\\\":239.5}]},\\\"daily\\\":{\\\"summary\\\":\\\"Rain on Tuesday through next Saturday.\\\",\\\"icon\\\":\\\"rain\\\",\\\"data\\\":[{\\\"time\\\":1578067200,\\\"summary\\\":\\\"Humid throughout the day.\\\",\\\"icon\\\":\\\"clear-day\\\",\\\"sunriseTime\\\":1578088260,\\\"sunsetTime\\\":1578130680,\\\"moonPhase\\\":0.29,\\\"precipIntensity\\\":0.0003,\\\"precipIntensityMax\\\":0.0009,\\\"precipIntensityMaxTime\\\":1578138180,\\\"precipProbability\\\":0.19,\\\"precipType\\\":\\\"rain\\\",\\\"temperatureHigh\\\":87.47,\\\"temperatureHighTime\\\":1578115140,\\\"temperatureLow\\\":73.9,\\\"temperatureLowTime\\\":1578167640,\\\"apparentTemperatureHigh\\\":93.13,\\\"apparentTemperatureHighTime\\\":1578114360,\\\"apparentTemperatureLow\\\":75.53,\\\"apparentTemperatureLowTime\\\":1578167520,\\\"dewPoint\\\":70.9,\\\"humidity\\\":0.78,\\\"pressure\\\":1009.2,\\\"windSpeed\\\":7.02,\\\"windGust\\\":14.23,\\\"windGustTime\\\":1578123120,\\\"windBearing\\\":14,\\\"cloudCover\\\":0.19,\\\"uvIndex\\\":11,\\\"uvIndexTime\\\":1578109380,\\\"visibility\\\":10,\\\"ozone\\\":238.9,\\\"temperatureMin\\\":71.79,\\\"temperatureMinTime\\\":1578081660,\\\"temperatureMax\\\":87.47,\\\"temperatureMaxTime\\\":1578115140,\\\"apparentTemperatureMin\\\":73.39,\\\"apparentTemperatureMinTime\\\":1578081720,\\\"apparentTemperatureMax\\\":93.13,\\\"apparentTemperatureMaxTime\\\":1578114360},{\\\"time\\\":1578153600,\\\"summary\\\":\\\"Humid and mostly cloudy throughout the day.\\\",\\\"icon\\\":\\\"partly-cloudy-day\\\",\\\"sunriseTime\\\":1578174660,\\\"sunsetTime\\\":1578217140,\\\"moonPhase\\\":0.32,\\\"precipIntensity\\\":0.0001,\\\"precipIntensityMax\\\":0.0004,\\\"precipIntensityMaxTime\\\":1578192900,\\\"precipProbability\\\":0.06,\\\"precipType\\\":\\\"rain\\\",\\\"temperatureHigh\\\":89.65,\\\"temperatureHighTime\\\":1578203400,\\\"temperatureLow\\\":74.28,\\\"temperatureLowTime\\\":1578253860,\\\"apparentTemperatureHigh\\\":92.37,\\\"apparentTemperatureHighTime\\\":1578204900,\\\"apparentTemperatureLow\\\":76.11,\\\"apparentTemperatureLowTime\\\":1578253860,\\\"dewPoint\\\":70.17,\\\"humidity\\\":0.72,\\\"pressure\\\":1009.2,\\\"windSpeed\\\":7.01,\\\"windGust\\\":12.57,\\\"windGustTime\\\":1578203460,\\\"windBearing\\\":16,\\\"cloudCover\\\":0.55,\\\"uvIndex\\\":7,\\\"uvIndexTime\\\":1578191400,\\\"visibility\\\":10,\\\"ozone\\\":236.2,\\\"temperatureMin\\\":73.9,\\\"temperatureMinTime\\\":1578167640,\\\"temperatureMax\\\":89.65,\\\"temperatureMaxTime\\\":1578203400,\\\"apparentTemperatureMin\\\":75.53,\\\"apparentTemperatureMinTime\\\":1578167520,\\\"apparentTemperatureMax\\\":92.37,\\\"apparentTemperatureMaxTime\\\":1578204900},{\\\"time\\\":1578240000,\\\"summary\\\":\\\"Possible light rain overnight.\\\",\\\"icon\\\":\\\"cloudy\\\",\\\"sunriseTime\\\":1578261120,\\\"sunsetTime\\\":1578303540,\\\"moonPhase\\\":0.35,\\\"precipIntensity\\\":0.0004,\\\"precipIntensityMax\\\":0.003,\\\"precipIntensityMaxTime\\\":1578326400,\\\"precipProbability\\\":0.25,\\\"precipType\\\":\\\"rain\\\",\\\"temperatureHigh\\\":89.85,\\\"temperatureHighTime\\\":1578289020,\\\"temperatureLow\\\":73.18,\\\"temperatureLowTime\\\":1578344760,\\\"apparentTemperatureHigh\\\":93.66,\\\"apparentTemperatureHighTime\\\":1578289860,\\\"apparentTemperatureLow\\\":75.43,\\\"apparentTemperatureLowTime\\\":1578344700,\\\"dewPoint\\\":71.17,\\\"humidity\\\":0.73,\\\"pressure\\\":1009.6,\\\"windSpeed\\\":6.76,\\\"windGust\\\":12.71,\\\"windGustTime\\\":1578303120,\\\"windBearing\\\":13,\\\"cloudCover\\\":0.99,\\\"uvIndex\\\":6,\\\"uvIndexTime\\\":1578282180,\\\"visibility\\\":10,\\\"ozone\\\":238,\\\"temperatureMin\\\":74.28,\\\"temperatureMinTime\\\":1578253860,\\\"temperatureMax\\\":89.85,\\\"temperatureMaxTime\\\":1578289020,\\\"apparentTemperatureMin\\\":76.11,\\\"apparentTemperatureMinTime\\\":1578253860,\\\"apparentTemperatureMax\\\":93.66,\\\"apparentTemperatureMaxTime\\\":1578289860},{\\\"time\\\":1578326400,\\\"summary\\\":\\\"Rain until evening.\\\",\\\"icon\\\":\\\"rain\\\",\\\"sunriseTime\\\":1578347520,\\\"sunsetTime\\\":1578390000,\\\"moonPhase\\\":0.39,\\\"precipIntensity\\\":0.0234,\\\"precipIntensityMax\\\":0.1011,\\\"precipIntensityMaxTime\\\":1578344760,\\\"precipProbability\\\":0.93,\\\"precipType\\\":\\\"rain\\\",\\\"temperatureHigh\\\":84.03,\\\"temperatureHighTime\\\":1578376680,\\\"temperatureLow\\\":74.84,\\\"temperatureLowTime\\\":1578414900,\\\"apparentTemperatureHigh\\\":93.03,\\\"apparentTemperatureHighTime\\\":1578376740,\\\"apparentTemperatureLow\\\":76.82,\\\"apparentTemperatureLowTime\\\":1578415260,\\\"dewPoint\\\":74.51,\\\"humidity\\\":0.9,\\\"pressure\\\":1009.4,\\\"windSpeed\\\":5.01,\\\"windGust\\\":14.21,\\\"windGustTime\\\":1578386580,\\\"windBearing\\\":15,\\\"cloudCover\\\":1,\\\"uvIndex\\\":6,\\\"uvIndexTime\\\":1578368580,\\\"visibility\\\":9.102,\\\"ozone\\\":238.5,\\\"temperatureMin\\\":73.18,\\\"temperatureMinTime\\\":1578344760,\\\"temperatureMax\\\":84.03,\\\"temperatureMaxTime\\\":1578376680,\\\"apparentTemperatureMin\\\":75.43,\\\"apparentTemperatureMinTime\\\":1578344700,\\\"apparentTemperatureMax\\\":93.03,\\\"apparentTemperatureMaxTime\\\":1578376740},{\\\"time\\\":1578412800,\\\"summary\\\":\\\"Humid and overcast throughout the day.\\\",\\\"icon\\\":\\\"rain\\\",\\\"sunriseTime\\\":1578433920,\\\"sunsetTime\\\":1578476400,\\\"moonPhase\\\":0.42,\\\"precipIntensity\\\":0.0005,\\\"precipIntensityMax\\\":0.0023,\\\"precipIntensityMaxTime\\\":1578463320,\\\"precipProbability\\\":0.44,\\\"precipType\\\":\\\"rain\\\",\\\"temperatureHigh\\\":85.23,\\\"temperatureHighTime\\\":1578455220,\\\"temperatureLow\\\":74.61,\\\"temperatureLowTime\\\":1578500340,\\\"apparentTemperatureHigh\\\":93.94,\\\"apparentTemperatureHighTime\\\":1578456300,\\\"apparentTemperatureLow\\\":76.58,\\\"apparentTemperatureLowTime\\\":1578500400,\\\"dewPoint\\\":74.47,\\\"humidity\\\":0.86,\\\"pressure\\\":1008.6,\\\"windSpeed\\\":5.67,\\\"windGust\\\":13.99,\\\"windGustTime\\\":1578490620,\\\"windBearing\\\":17,\\\"cloudCover\\\":1,\\\"uvIndex\\\":6,\\\"uvIndexTime\\\":1578455100,\\\"visibility\\\":10,\\\"ozone\\\":237.8,\\\"temperatureMin\\\":74.64,\\\"temperatureMinTime\\\":1578499200,\\\"temperatureMax\\\":85.23,\\\"temperatureMaxTime\\\":1578455220,\\\"apparentTemperatureMin\\\":76.62,\\\"apparentTemperatureMinTime\\\":1578499200,\\\"apparentTemperatureMax\\\":93.94,\\\"apparentTemperatureMaxTime\\\":1578456300},{\\\"time\\\":1578499200,\\\"summary\\\":\\\"Humid and overcast throughout the day.\\\",\\\"icon\\\":\\\"rain\\\",\\\"sunriseTime\\\":1578520380,\\\"sunsetTime\\\":1578562860,\\\"moonPhase\\\":0.45,\\\"precipIntensity\\\":0.002,\\\"precipIntensityMax\\\":0.0053,\\\"precipIntensityMaxTime\\\":1578550620,\\\"precipProbability\\\":0.56,\\\"precipType\\\":\\\"rain\\\",\\\"temperatureHigh\\\":85.99,\\\"temperatureHighTime\\\":1578546480,\\\"temperatureLow\\\":74.14,\\\"temperatureLowTime\\\":1578601260,\\\"apparentTemperatureHigh\\\":95.48,\\\"apparentTemperatureHighTime\\\":1578547140,\\\"apparentTemperatureLow\\\":76.08,\\\"apparentTemperatureLowTime\\\":1578601320,\\\"dewPoint\\\":74.8,\\\"humidity\\\":0.87,\\\"pressure\\\":1007.9,\\\"windSpeed\\\":4.82,\\\"windGust\\\":12.37,\\\"windGustTime\\\":1578499200,\\\"windBearing\\\":17,\\\"cloudCover\\\":0.99,\\\"uvIndex\\\":6,\\\"uvIndexTime\\\":1578541440,\\\"visibility\\\":10,\\\"ozone\\\":239.7,\\\"temperatureMin\\\":74.61,\\\"temperatureMinTime\\\":1578500340,\\\"temperatureMax\\\":85.99,\\\"temperatureMaxTime\\\":1578546480,\\\"apparentTemperatureMin\\\":76.58,\\\"apparentTemperatureMinTime\\\":1578500400,\\\"apparentTemperatureMax\\\":95.48,\\\"apparentTemperatureMaxTime\\\":1578547140},{\\\"time\\\":1578585600,\\\"summary\\\":\\\"Humid and overcast throughout the day.\\\",\\\"icon\\\":\\\"cloudy\\\",\\\"sunriseTime\\\":1578606780,\\\"sunsetTime\\\":1578649260,\\\"moonPhase\\\":0.49,\\\"precipIntensity\\\":0.0009,\\\"precipIntensityMax\\\":0.0058,\\\"precipIntensityMaxTime\\\":1578625260,\\\"precipProbability\\\":0.36,\\\"precipType\\\":\\\"rain\\\",\\\"temperatureHigh\\\":87.53,\\\"temperatureHighTime\\\":1578633180,\\\"temperatureLow\\\":74.07,\\\"temperatureLowTime\\\":1578688440,\\\"apparentTemperatureHigh\\\":95.37,\\\"apparentTemperatureHighTime\\\":1578633420,\\\"apparentTemperatureLow\\\":76,\\\"apparentTemperatureLowTime\\\":1578688500,\\\"dewPoint\\\":73.84,\\\"humidity\\\":0.83,\\\"pressure\\\":1007.3,\\\"windSpeed\\\":4.79,\\\"windGust\\\":9.64,\\\"windGustTime\\\":1578625080,\\\"windBearing\\\":12,\\\"cloudCover\\\":1,\\\"uvIndex\\\":6,\\\"uvIndexTime\\\":1578627960,\\\"visibility\\\":10,\\\"ozone\\\":240.3,\\\"temperatureMin\\\":74.14,\\\"temperatureMinTime\\\":1578601260,\\\"temperatureMax\\\":87.53,\\\"temperatureMaxTime\\\":1578633180,\\\"apparentTemperatureMin\\\":76.08,\\\"apparentTemperatureMinTime\\\":1578601320,\\\"apparentTemperatureMax\\\":95.37,\\\"apparentTemperatureMaxTime\\\":1578633420},{\\\"time\\\":1578672000,\\\"summary\\\":\\\"Humid and overcast throughout the day.\\\",\\\"icon\\\":\\\"rain\\\",\\\"sunriseTime\\\":1578693180,\\\"sunsetTime\\\":1578735720,\\\"moonPhase\\\":0.53,\\\"precipIntensity\\\":0.0027,\\\"precipIntensityMax\\\":0.0086,\\\"precipIntensityMaxTime\\\":1578749940,\\\"precipProbability\\\":0.39,\\\"precipType\\\":\\\"rain\\\",\\\"temperatureHigh\\\":85.5,\\\"temperatureHighTime\\\":1578716040,\\\"temperatureLow\\\":74.76,\\\"temperatureLowTime\\\":1578774960,\\\"apparentTemperatureHigh\\\":92.91,\\\"apparentTemperatureHighTime\\\":1578718800,\\\"apparentTemperatureLow\\\":76.81,\\\"apparentTemperatureLowTime\\\":1578774900,\\\"dewPoint\\\":74,\\\"humidity\\\":0.85,\\\"pressure\\\":1006.5,\\\"windSpeed\\\":4.12,\\\"windGust\\\":9.99,\\\"windGustTime\\\":1578731580,\\\"windBearing\\\":1,\\\"cloudCover\\\":0.91,\\\"uvIndex\\\":7,\\\"uvIndexTime\\\":1578713700,\\\"visibility\\\":10,\\\"ozone\\\":240.1,\\\"temperatureMin\\\":74.07,\\\"temperatureMinTime\\\":1578688440,\\\"temperatureMax\\\":85.5,\\\"temperatureMaxTime\\\":1578716040,\\\"apparentTemperatureMin\\\":76,\\\"apparentTemperatureMinTime\\\":1578688500,\\\"apparentTemperatureMax\\\":92.91,\\\"apparentTemperatureMaxTime\\\":1578718800}]},\\\"flags\\\":{\\\"sources\\\":[\\\"cmc\\\",\\\"gfs\\\",\\\"icon\\\",\\\"isd\\\",\\\"madis\\\"],\\\"nearest-station\\\":16.746,\\\"units\\\":\\\"us\\\"},\\\"offset\\\":8}\\n\""
      ]
     },
     "execution_count": 131,
     "metadata": {},
     "output_type": "execute_result"
    }
   ],
   "source": [
    "#forecast_urls\n",
    "forcast = forecast_weather(latitude, longitude)"
   ]
  },
  {
   "cell_type": "code",
   "execution_count": 109,
   "metadata": {},
   "outputs": [
    {
     "name": "stdout",
     "output_type": "stream",
     "text": [
      "2018-12-29T03:39:09.740Z\n",
      "Removed the last char from 2018-12-29T03:39:09.740Z\n"
     ]
    },
    {
     "data": {
      "text/plain": [
       "1546054750"
      ]
     },
     "execution_count": 109,
     "metadata": {},
     "output_type": "execute_result"
    }
   ],
   "source": [
    "unix_timestamp = unix_time(\"2018-12-29T03:39:09.740Z\")"
   ]
  },
  {
   "cell_type": "code",
   "execution_count": 110,
   "metadata": {},
   "outputs": [
    {
     "data": {
      "text/plain": [
       "\"2018-12-29T03:39:09.740Z\""
      ]
     },
     "execution_count": 110,
     "metadata": {},
     "output_type": "execute_result"
    }
   ],
   "source": [
    "earthquake_time"
   ]
  },
  {
   "cell_type": "code",
   "execution_count": 111,
   "metadata": {},
   "outputs": [
    {
     "ename": "UndefVarError",
     "evalue": "UndefVarError: historical_temperature_url not defined",
     "output_type": "error",
     "traceback": [
      "UndefVarError: historical_temperature_url not defined",
      "",
      "Stacktrace:",
      " [1] top-level scope at In[111]:1"
     ]
    }
   ],
   "source": [
    "historical_temperature_url"
   ]
  },
  {
   "cell_type": "code",
   "execution_count": null,
   "metadata": {},
   "outputs": [],
   "source": []
  },
  {
   "cell_type": "code",
   "execution_count": null,
   "metadata": {},
   "outputs": [],
   "source": []
  }
 ],
 "metadata": {
  "kernelspec": {
   "display_name": "Julia 1.0.4",
   "language": "julia",
   "name": "julia-1.0"
  },
  "language_info": {
   "file_extension": ".jl",
   "mimetype": "application/julia",
   "name": "julia",
   "version": "1.0.4"
  }
 },
 "nbformat": 4,
 "nbformat_minor": 4
}
