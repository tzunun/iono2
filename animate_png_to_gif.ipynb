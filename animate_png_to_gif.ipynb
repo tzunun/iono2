{
 "cells": [
  {
   "cell_type": "code",
   "execution_count": 63,
   "metadata": {},
   "outputs": [
    {
     "name": "stdout",
     "output_type": "stream",
     "text": [
      "/home/antonio/Repos/iono2/animations/0.png \n",
      "\n",
      "/home/antonio/Repos/iono2/animations/1.png \n",
      "\n",
      "/home/antonio/Repos/iono2/animations/2.png \n",
      "\n",
      "/home/antonio/Repos/iono2/animations/3.png \n",
      "\n",
      "/home/antonio/Repos/iono2/animations/4.png \n",
      "\n",
      "/home/antonio/Repos/iono2/animations/5.png \n",
      "\n",
      "/home/antonio/Repos/iono2/animations/6.png \n",
      "\n",
      "/home/antonio/Repos/iono2/animations/7.png \n",
      "\n",
      "/home/antonio/Repos/iono2/animations/8.png \n",
      "\n",
      "/home/antonio/Repos/iono2/animations/9.png \n",
      "\n",
      "/home/antonio/Repos/iono2/animations/10.png \n",
      "\n",
      "/home/antonio/Repos/iono2/animations/11.png \n",
      "\n"
     ]
    }
   ],
   "source": [
    "from PIL import Image, ImageDraw\n",
    "import glob\n",
    "import re\n",
    "\n",
    "frames = []\n",
    "images = [i for i in glob.glob(\"/home/antonio/Repos/iono2/animations/*.png\")]\n",
    "images.sort(key=lambda var:[int(x) if x.isdigit() else x for x in re.findall(r'[^0-9]|[0-9]+', var)]) \n",
    "for image in images:\n",
    "\n",
    "    print(image,\"\\n\")\n",
    "    new_frame = Image.open(image)\n",
    "    frames.append(new_frame)\n",
    "    \n",
    "frames[0].save('/home/antonio/Repos/iono2/tec.gif', format='GIF', append_images=frames[:], save_all=True, duration=500, Loop=2)"
   ]
  },
  {
   "cell_type": "code",
   "execution_count": null,
   "metadata": {},
   "outputs": [],
   "source": []
  }
 ],
 "metadata": {
  "kernelspec": {
   "display_name": "Python 3",
   "language": "python",
   "name": "python3"
  },
  "language_info": {
   "codemirror_mode": {
    "name": "ipython",
    "version": 3
   },
   "file_extension": ".py",
   "mimetype": "text/x-python",
   "name": "python",
   "nbconvert_exporter": "python",
   "pygments_lexer": "ipython3",
   "version": "3.7.4"
  }
 },
 "nbformat": 4,
 "nbformat_minor": 4
}
